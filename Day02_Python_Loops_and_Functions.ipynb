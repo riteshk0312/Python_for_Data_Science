{
 "cells": [
  {
   "cell_type": "markdown",
   "id": "bf8be2ee-f1d6-498d-b35a-385949e7df2b",
   "metadata": {},
   "source": [
    "# Conditional statement"
   ]
  },
  {
   "cell_type": "code",
   "execution_count": 1,
   "id": "e7099d7d-7bc6-49b0-b112-ce6c8a1055a9",
   "metadata": {},
   "outputs": [],
   "source": [
    "# if statement"
   ]
  },
  {
   "cell_type": "code",
   "execution_count": 2,
   "id": "5e0ec649-47a3-4b47-b611-704b324f4ac5",
   "metadata": {},
   "outputs": [
    {
     "name": "stdout",
     "output_type": "stream",
     "text": [
      "x is greater  10\n"
     ]
    }
   ],
   "source": [
    "x= 10\n",
    "if x>5:\n",
    "     print('x is greater ', x) \n",
    "    "
   ]
  },
  {
   "cell_type": "code",
   "execution_count": 3,
   "id": "85072132-c8b7-432f-bc99-a462e40b3daf",
   "metadata": {},
   "outputs": [],
   "source": [
    "#if- else statement"
   ]
  },
  {
   "cell_type": "code",
   "execution_count": 6,
   "id": "44c565e3-2169-4e6b-8d39-63709a1bf006",
   "metadata": {},
   "outputs": [
    {
     "name": "stdout",
     "output_type": "stream",
     "text": [
      "value of x is 2 which is smaller\n"
     ]
    }
   ],
   "source": [
    "x= 2\n",
    "if x>5:\n",
    "     print(f'value of x is {x} which is greater')\n",
    "else:\n",
    "    print(f'value of x is {x} which is smaller')"
   ]
  },
  {
   "cell_type": "code",
   "execution_count": 8,
   "id": "6db9811b-4ecc-46ba-a843-003513d89972",
   "metadata": {},
   "outputs": [],
   "source": [
    "# if-elif-else"
   ]
  },
  {
   "cell_type": "code",
   "execution_count": 10,
   "id": "9f7a9264-c9ec-4718-824e-ab4a82b1b904",
   "metadata": {},
   "outputs": [
    {
     "name": "stdout",
     "output_type": "stream",
     "text": [
      "first class with 65\n"
     ]
    }
   ],
   "source": [
    "marks=65\n",
    "if marks > 60:\n",
    "    print(f'first class with {marks}')\n",
    "elif marks>35:\n",
    "    print(f'Pass class with {marks}')\n",
    "else:\n",
    "    print(f'failed with {marks}')"
   ]
  },
  {
   "cell_type": "code",
   "execution_count": 11,
   "id": "442af169-8e8e-4739-94ef-98c741194478",
   "metadata": {},
   "outputs": [],
   "source": [
    "#nested conditional statement"
   ]
  },
  {
   "cell_type": "code",
   "execution_count": 14,
   "id": "bcb0d5b9-b2a4-4782-ac5a-f7197ae51318",
   "metadata": {},
   "outputs": [
    {
     "name": "stdout",
     "output_type": "stream",
     "text": [
      "number is negative and even\n"
     ]
    }
   ],
   "source": [
    "number = -45\n",
    "if number>0:\n",
    "    if number%2 ==0:\n",
    "            print('number is positive and even')\n",
    "    else:\n",
    "         print('number is negative and even')\n",
    "elif number<0:\n",
    "    if number%2 ==0:\n",
    "            print('number is positive and odd')\n",
    "    else:\n",
    "         print('number is negative and odd)\n",
    "else:   \n",
    "    print('the number is 0')"
   ]
  },
  {
   "cell_type": "markdown",
   "id": "bf714eff-4588-411c-bc54-73c140663d89",
   "metadata": {},
   "source": [
    "# input function"
   ]
  },
  {
   "cell_type": "code",
   "execution_count": 15,
   "id": "8ad0ee26-4fc9-4040-acee-8ba8d780972a",
   "metadata": {},
   "outputs": [
    {
     "name": "stdin",
     "output_type": "stream",
     "text": [
      "enter your name ritesh\n"
     ]
    },
    {
     "data": {
      "text/plain": [
       "'ritesh'"
      ]
     },
     "execution_count": 15,
     "metadata": {},
     "output_type": "execute_result"
    }
   ],
   "source": [
    "input('enter your name')"
   ]
  },
  {
   "cell_type": "code",
   "execution_count": 18,
   "id": "efbbe13c-49dc-4774-9cee-9cbbfa81bf59",
   "metadata": {},
   "outputs": [
    {
     "name": "stdin",
     "output_type": "stream",
     "text": [
      "Please enter a number, to calculate its square: 10\n"
     ]
    },
    {
     "name": "stdout",
     "output_type": "stream",
     "text": [
      "square of a 10 is 100\n"
     ]
    }
   ],
   "source": [
    "num_str=input('Please enter a number, to calculate its square:')\n",
    "sq_num= int (num_str)**2\n",
    "print(f'square of a {num_str} is {sq_num}')"
   ]
  },
  {
   "cell_type": "code",
   "execution_count": 21,
   "id": "d814a6bc-5a39-4629-801a-e69bb92c4f2c",
   "metadata": {},
   "outputs": [
    {
     "name": "stdin",
     "output_type": "stream",
     "text": [
      "please enter your favorite colour: red\n"
     ]
    },
    {
     "name": "stdout",
     "output_type": "stream",
     "text": [
      "your favourite colour is:red\n"
     ]
    }
   ],
   "source": [
    "fav_color=input('please enter your favorite colour:')\n",
    "print(f'your favourite colour is:{fav_color}')"
   ]
  },
  {
   "cell_type": "markdown",
   "id": "a50e6d10-4080-43a6-95b7-ab18547875e3",
   "metadata": {},
   "source": [
    "# Loop in Python"
   ]
  },
  {
   "cell_type": "markdown",
   "id": "506c8020-a9e3-4678-a846-8deaa441915e",
   "metadata": {},
   "source": [
    "# 1.while"
   ]
  },
  {
   "cell_type": "code",
   "execution_count": 23,
   "id": "e3dfbb0c-8200-4ded-80bb-1c5f6d704f3e",
   "metadata": {},
   "outputs": [
    {
     "name": "stdout",
     "output_type": "stream",
     "text": [
      "number is 0\n",
      "number is 1\n",
      "number is 2\n",
      "number is 3\n",
      "number is 4\n",
      "number is 5\n",
      "number is 6\n",
      "number is 7\n",
      "number is 8\n",
      "number is 9\n"
     ]
    }
   ],
   "source": [
    "num=0\n",
    "while num<10:\n",
    "    print('number is',num)\n",
    "    num=num+1 #num+=1\n",
    "    "
   ]
  },
  {
   "cell_type": "markdown",
   "id": "cac0b049-1793-40c3-99db-54555b8ea49e",
   "metadata": {},
   "source": [
    "# For Loop"
   ]
  },
  {
   "cell_type": "code",
   "execution_count": 25,
   "id": "629b61bf-88ac-40b0-9549-318037c8377e",
   "metadata": {},
   "outputs": [
    {
     "name": "stdout",
     "output_type": "stream",
     "text": [
      "p\n",
      "y\n",
      "t\n",
      "h\n",
      "o\n",
      "n\n"
     ]
    }
   ],
   "source": [
    "a='python'\n",
    "for char in a:\n",
    "    print(char)"
   ]
  },
  {
   "cell_type": "markdown",
   "id": "57f370e5-4593-4e5b-867f-d3a543933eb8",
   "metadata": {},
   "source": [
    "# control statement"
   ]
  },
  {
   "cell_type": "markdown",
   "id": "2bd4d19c-e190-4d4f-8501-5b1d8cf21ce2",
   "metadata": {},
   "source": [
    "# break "
   ]
  },
  {
   "cell_type": "code",
   "execution_count": 27,
   "id": "63596ae5-5e57-439b-8401-15a9b1799a1c",
   "metadata": {},
   "outputs": [
    {
     "name": "stdout",
     "output_type": "stream",
     "text": [
      "0\n",
      "1\n",
      "2\n",
      "3\n",
      "4\n"
     ]
    }
   ],
   "source": [
    "for i in range(5):\n",
    "    print(i)"
   ]
  },
  {
   "cell_type": "code",
   "execution_count": 28,
   "id": "3973bde5-ff66-4799-af9b-7f84c7ad0e9d",
   "metadata": {},
   "outputs": [
    {
     "name": "stdout",
     "output_type": "stream",
     "text": [
      "0\n",
      "1\n",
      "2\n"
     ]
    }
   ],
   "source": [
    "for i in range(5):\n",
    "    if i==3:\n",
    "        break\n",
    "    print(i)"
   ]
  },
  {
   "cell_type": "markdown",
   "id": "1cabfd73-cd3a-4704-98b3-6da46b5e3618",
   "metadata": {},
   "source": [
    "# continue"
   ]
  },
  {
   "cell_type": "code",
   "execution_count": 30,
   "id": "05151cd4-4b40-45a7-8a70-c450336df9dd",
   "metadata": {},
   "outputs": [
    {
     "name": "stdout",
     "output_type": "stream",
     "text": [
      "0\n",
      "1\n",
      "2\n",
      "4\n"
     ]
    }
   ],
   "source": [
    "for i in range(5):\n",
    "    if i==3:\n",
    "        continue\n",
    "    print(i)"
   ]
  },
  {
   "cell_type": "markdown",
   "id": "2618aed2-a49a-4f14-8dd1-6e9941fda6e1",
   "metadata": {},
   "source": [
    "# pass"
   ]
  },
  {
   "cell_type": "code",
   "execution_count": 31,
   "id": "e106b391-939e-4326-b6da-a2c53e424197",
   "metadata": {},
   "outputs": [
    {
     "name": "stdout",
     "output_type": "stream",
     "text": [
      "num is odd 1\n",
      "num is odd 3\n"
     ]
    }
   ],
   "source": [
    "for i in range(5):\n",
    "    if i%2==0:\n",
    "        pass\n",
    "    else:\n",
    "        print('num is odd',i)"
   ]
  },
  {
   "cell_type": "markdown",
   "id": "9877b335-83c7-4a80-8dad-324d0df4ed23",
   "metadata": {},
   "source": [
    "# loop with string"
   ]
  },
  {
   "cell_type": "code",
   "execution_count": 33,
   "id": "9655a8e1-da36-488e-bde8-2828ab396f9d",
   "metadata": {},
   "outputs": [
    {
     "name": "stdout",
     "output_type": "stream",
     "text": [
      "p\n",
      "yp\n",
      "typ\n",
      "htyp\n",
      "ohtyp\n",
      "nohtyp\n",
      " nohtyp\n",
      "i nohtyp\n",
      "si nohtyp\n",
      " si nohtyp\n",
      "e si nohtyp\n",
      "ae si nohtyp\n",
      "sae si nohtyp\n",
      "ysae si nohtyp\n",
      " ysae si nohtyp\n",
      "t ysae si nohtyp\n",
      "ot ysae si nohtyp\n",
      " ot ysae si nohtyp\n",
      "l ot ysae si nohtyp\n",
      "el ot ysae si nohtyp\n",
      "ael ot ysae si nohtyp\n",
      "rael ot ysae si nohtyp\n",
      "nrael ot ysae si nohtyp\n",
      "original: python is easy to learn\n",
      "reverse: nrael ot ysae si nohtyp\n"
     ]
    }
   ],
   "source": [
    "input_string='python is easy to learn'\n",
    "reverse_string=''\n",
    "for char in input_string:\n",
    "    reverse_string=char+reverse_string\n",
    "    print(reverse_string)\n",
    "\n",
    "print('original:',input_string)\n",
    "print('reverse:',reverse_string)"
   ]
  },
  {
   "cell_type": "code",
   "execution_count": 34,
   "id": "fc8a5e68-b2d6-4a60-bc25-626c978cd894",
   "metadata": {},
   "outputs": [
    {
     "name": "stdout",
     "output_type": "stream",
     "text": [
      "p\n",
      "py\n",
      "pyt\n",
      "pyth\n",
      "pytho\n",
      "python\n"
     ]
    }
   ],
   "source": [
    "word='python'\n",
    "new_word=''\n",
    "for i in word:\n",
    "    new_word=new_word+i\n",
    "\n",
    "    print(new_word)"
   ]
  },
  {
   "cell_type": "markdown",
   "id": "2f99d521-c969-41d0-b1dd-d692bf1939f2",
   "metadata": {},
   "source": [
    "# user defined function"
   ]
  },
  {
   "cell_type": "code",
   "execution_count": 35,
   "id": "a16dc13a-2c1b-42bc-9578-e727e2eb7fd4",
   "metadata": {},
   "outputs": [],
   "source": [
    "# create a function , which accept a number and return a square"
   ]
  },
  {
   "cell_type": "code",
   "execution_count": 36,
   "id": "cc4d8ceb-de07-4a40-8486-7b2764368655",
   "metadata": {},
   "outputs": [],
   "source": [
    "def square(num):\n",
    "    \"\"\" The function calculates the square \"\"\"\n",
    "    result= num**2\n",
    "    return result"
   ]
  },
  {
   "cell_type": "code",
   "execution_count": 37,
   "id": "6e79854f-ccaf-4cab-9c00-55cfad5399a0",
   "metadata": {},
   "outputs": [],
   "source": [
    "# call the function"
   ]
  },
  {
   "cell_type": "code",
   "execution_count": 38,
   "id": "3ea1356e-28ec-4636-b378-27d968957d4a",
   "metadata": {},
   "outputs": [],
   "source": [
    "res=square(7)"
   ]
  },
  {
   "cell_type": "code",
   "execution_count": 39,
   "id": "7380f071-d1d3-44dc-a1f1-31eb548e3391",
   "metadata": {},
   "outputs": [
    {
     "data": {
      "text/plain": [
       "49"
      ]
     },
     "execution_count": 39,
     "metadata": {},
     "output_type": "execute_result"
    }
   ],
   "source": [
    "res"
   ]
  },
  {
   "cell_type": "code",
   "execution_count": 40,
   "id": "e05f4580-e3db-4226-9596-948afbd4a00e",
   "metadata": {},
   "outputs": [
    {
     "name": "stdout",
     "output_type": "stream",
     "text": [
      "Square of number 9 is  81\n"
     ]
    }
   ],
   "source": [
    "print('Square of number 9 is ',square(9))"
   ]
  },
  {
   "cell_type": "code",
   "execution_count": 41,
   "id": "af2665ea-7e4f-44d6-a73b-b36265291e4a",
   "metadata": {},
   "outputs": [],
   "source": [
    "# Greeting function"
   ]
  },
  {
   "cell_type": "code",
   "execution_count": 42,
   "id": "2f3e8a18-d5e1-480a-8710-e617e47edf65",
   "metadata": {},
   "outputs": [],
   "source": [
    "def greet():\n",
    "    print('Hello')"
   ]
  },
  {
   "cell_type": "code",
   "execution_count": 43,
   "id": "61034fa2-8fba-487b-af18-4bbcb534e3f6",
   "metadata": {},
   "outputs": [
    {
     "name": "stdout",
     "output_type": "stream",
     "text": [
      "Hello\n"
     ]
    }
   ],
   "source": [
    "greet()"
   ]
  },
  {
   "cell_type": "markdown",
   "id": "f1fabe0d-d557-4d65-8e5b-1982e888f120",
   "metadata": {},
   "source": [
    "# Default Argument function"
   ]
  },
  {
   "cell_type": "code",
   "execution_count": 3,
   "id": "dfb6e942-8886-4658-b622-44b05b247c88",
   "metadata": {},
   "outputs": [],
   "source": [
    "def greeting(name,greeting='Hello'):\n",
    "    print(f'{greeting},{name}')"
   ]
  },
  {
   "cell_type": "code",
   "execution_count": 4,
   "id": "295d581a-da99-4974-b139-81451efe5bcb",
   "metadata": {},
   "outputs": [
    {
     "name": "stdout",
     "output_type": "stream",
     "text": [
      "Hello,Alice\n"
     ]
    }
   ],
   "source": [
    "greeting('Alice')"
   ]
  },
  {
   "cell_type": "code",
   "execution_count": 5,
   "id": "394e2e68-7235-4c01-b0ec-78c8f84db5e5",
   "metadata": {},
   "outputs": [],
   "source": [
    "def greeting(name,greeting='Namaste'):\n",
    "    print(f'{greeting},{name}')"
   ]
  },
  {
   "cell_type": "code",
   "execution_count": 6,
   "id": "b834ef0c-5671-41ab-b039-e3715e1217cd",
   "metadata": {},
   "outputs": [
    {
     "name": "stdout",
     "output_type": "stream",
     "text": [
      "Namaste,Alice\n"
     ]
    }
   ],
   "source": [
    "greeting('Alice') #not paassing greetings"
   ]
  },
  {
   "cell_type": "code",
   "execution_count": 51,
   "id": "a3ffe015-ebde-4651-b036-c88bfbaae58e",
   "metadata": {},
   "outputs": [],
   "source": [
    "# variable length arguments(args)"
   ]
  },
  {
   "cell_type": "code",
   "execution_count": 52,
   "id": "360d0ffb-641e-4397-aa34-f66317abb27f",
   "metadata": {},
   "outputs": [],
   "source": [
    "def multiple(*args):\n",
    "    result=1\n",
    "    for num in args:\n",
    "        result=result*num\n",
    "    return result"
   ]
  },
  {
   "cell_type": "code",
   "execution_count": 53,
   "id": "6c84643b-7393-4b80-8ce1-99367775a3ce",
   "metadata": {},
   "outputs": [
    {
     "data": {
      "text/plain": [
       "2"
      ]
     },
     "execution_count": 53,
     "metadata": {},
     "output_type": "execute_result"
    }
   ],
   "source": [
    "multiple(1,2)"
   ]
  },
  {
   "cell_type": "code",
   "execution_count": 54,
   "id": "0347abe2-965a-493d-acb7-4eaa7d519082",
   "metadata": {},
   "outputs": [
    {
     "data": {
      "text/plain": [
       "6"
      ]
     },
     "execution_count": 54,
     "metadata": {},
     "output_type": "execute_result"
    }
   ],
   "source": [
    " multiple(1,2,3)"
   ]
  },
  {
   "cell_type": "code",
   "execution_count": 55,
   "id": "b54d1f03-6bf4-4fb9-a297-91d1b25ec658",
   "metadata": {},
   "outputs": [
    {
     "data": {
      "text/plain": [
       "24"
      ]
     },
     "execution_count": 55,
     "metadata": {},
     "output_type": "execute_result"
    }
   ],
   "source": [
    "multiple(2,3,4)"
   ]
  },
  {
   "cell_type": "code",
   "execution_count": 56,
   "id": "9d3bb216-1929-446d-8cc4-62df84b1ffb0",
   "metadata": {},
   "outputs": [],
   "source": [
    "# variable length arguments(kwargs)"
   ]
  },
  {
   "cell_type": "code",
   "execution_count": 59,
   "id": "53e6c54b-a0c5-40b3-9de8-9c70b2d4bc2b",
   "metadata": {},
   "outputs": [],
   "source": [
    "def display_info(**kwargs):\n",
    "    for key,value in kwargs.items():\n",
    "        print(f'{key}:{value}')"
   ]
  },
  {
   "cell_type": "code",
   "execution_count": 60,
   "id": "d569de0d-439f-4f69-9ba7-2974f6625ca5",
   "metadata": {},
   "outputs": [
    {
     "name": "stdout",
     "output_type": "stream",
     "text": [
      "name:Alice\n",
      "age:25\n",
      "city:borderland\n"
     ]
    }
   ],
   "source": [
    "display_info(name='Alice',age=25,city='borderland')"
   ]
  },
  {
   "cell_type": "code",
   "execution_count": 61,
   "id": "501c1083-af65-4c25-bcd3-4af3744ab3ca",
   "metadata": {},
   "outputs": [],
   "source": [
    "    # Recursive Function"
   ]
  },
  {
   "cell_type": "code",
   "execution_count": 62,
   "id": "7cd3eafd-933e-4dbc-9ff5-d8e67bb9caee",
   "metadata": {},
   "outputs": [],
   "source": [
    "def factorial(n):\n",
    "    if n==0 or n==1:\n",
    "        return 1\n",
    "    else:\n",
    "        return n * factorial(n-1)"
   ]
  },
  {
   "cell_type": "code",
   "execution_count": 63,
   "id": "019fa1cd-9efe-4211-800a-fa3681a67a54",
   "metadata": {},
   "outputs": [
    {
     "data": {
      "text/plain": [
       "120"
      ]
     },
     "execution_count": 63,
     "metadata": {},
     "output_type": "execute_result"
    }
   ],
   "source": [
    "factorial(5)"
   ]
  },
  {
   "cell_type": "markdown",
   "id": "60e6e1ac-fdca-48f8-a574-b44c49dd0631",
   "metadata": {},
   "source": [
    "# Variable Scope"
   ]
  },
  {
   "cell_type": "code",
   "execution_count": 64,
   "id": "ad767844-2716-4e80-98cc-2eeb20d19660",
   "metadata": {},
   "outputs": [],
   "source": [
    "#global variable"
   ]
  },
  {
   "cell_type": "code",
   "execution_count": 65,
   "id": "a1d78262-d501-4dd7-8dc9-632bbd380eef",
   "metadata": {},
   "outputs": [],
   "source": [
    "a=10 # global variable"
   ]
  },
  {
   "cell_type": "code",
   "execution_count": 67,
   "id": "924760f3-184e-478c-9366-f5b5b017122f",
   "metadata": {},
   "outputs": [],
   "source": [
    "def my_function():\n",
    "    new_var=7 # locl variable\n",
    "    print('global varible:',a)\n",
    "    print('local varible:', new_var)"
   ]
  },
  {
   "cell_type": "code",
   "execution_count": 69,
   "id": "08a7c61c-4c58-42b1-b687-8192abd605d7",
   "metadata": {},
   "outputs": [
    {
     "name": "stdout",
     "output_type": "stream",
     "text": [
      "global varible: 10\n",
      "local varible: 7\n",
      "None\n"
     ]
    }
   ],
   "source": [
    "print(my_function())\n"
   ]
  },
  {
   "cell_type": "markdown",
   "id": "c558e159-ebf6-489b-affc-9213ae198809",
   "metadata": {},
   "source": [
    "# User authentication"
   ]
  },
  {
   "cell_type": "code",
   "execution_count": 71,
   "id": "54fda7ea-3ffd-4191-9169-c703dbe90170",
   "metadata": {},
   "outputs": [],
   "source": [
    "def login(username,password):\n",
    "    #check the username and password\n",
    "    user=['alwyn','mark','eva']\n",
    "    passwd=['alwyn123','mark@123','eva789']\n",
    "    if username in user  and password in passwd:\n",
    "            return 'User is authenticated'\n",
    "    else:\n",
    "            return 'user authentication failed'\n",
    "            "
   ]
  },
  {
   "cell_type": "code",
   "execution_count": 72,
   "id": "4a0e213c-65e7-4024-9271-4b456c43c345",
   "metadata": {},
   "outputs": [
    {
     "data": {
      "text/plain": [
       "'user authentication failed'"
      ]
     },
     "execution_count": 72,
     "metadata": {},
     "output_type": "execute_result"
    }
   ],
   "source": [
    "login('alwyn','123') "
   ]
  },
  {
   "cell_type": "code",
   "execution_count": 73,
   "id": "0f379e61-e7d6-4448-9d62-e346848dcb54",
   "metadata": {},
   "outputs": [
    {
     "data": {
      "text/plain": [
       "'User is authenticated'"
      ]
     },
     "execution_count": 73,
     "metadata": {},
     "output_type": "execute_result"
    }
   ],
   "source": [
    "login('eva','eva789') "
   ]
  },
  {
   "cell_type": "markdown",
   "id": "f4f495b9-cbc5-4747-a6cd-51d74e74da10",
   "metadata": {},
   "source": [
    "# Nested Function"
   ]
  },
  {
   "cell_type": "code",
   "execution_count": 75,
   "id": "46b74b9c-aae6-4e2e-a840-219a963f8460",
   "metadata": {},
   "outputs": [],
   "source": [
    "def outer_func(x):\n",
    "    print(x)\n",
    "    def inner_func(y):# closure function\n",
    "        return x+y  \n",
    "    return inner_func"
   ]
  },
  {
   "cell_type": "code",
   "execution_count": 76,
   "id": "d5612f34-fc39-47c3-ab1c-14121acca5d7",
   "metadata": {},
   "outputs": [
    {
     "name": "stdout",
     "output_type": "stream",
     "text": [
      "5\n"
     ]
    }
   ],
   "source": [
    "closure=outer_func(5)"
   ]
  },
  {
   "cell_type": "code",
   "execution_count": 77,
   "id": "eb552bcf-b78e-4555-a328-363c9f6f5613",
   "metadata": {},
   "outputs": [],
   "source": [
    "result=closure(10)"
   ]
  },
  {
   "cell_type": "code",
   "execution_count": 78,
   "id": "155c3775-48bd-46f4-8c9c-c20d08374652",
   "metadata": {},
   "outputs": [
    {
     "name": "stdout",
     "output_type": "stream",
     "text": [
      "15\n"
     ]
    }
   ],
   "source": [
    "print(result)"
   ]
  },
  {
   "cell_type": "markdown",
   "id": "b20858f0-49e9-4a26-9d42-b8c2214fcd01",
   "metadata": {},
   "source": [
    "# lambda Function"
   ]
  },
  {
   "cell_type": "code",
   "execution_count": 79,
   "id": "f90b6658-394a-4b18-b50b-36fc5c0b87ab",
   "metadata": {},
   "outputs": [],
   "source": [
    "def add(x,y):\n",
    "    sum=x+y\n",
    "    return sum"
   ]
  },
  {
   "cell_type": "code",
   "execution_count": 80,
   "id": "1f734231-1396-480f-a193-9ce7ae0c135f",
   "metadata": {},
   "outputs": [
    {
     "data": {
      "text/plain": [
       "3"
      ]
     },
     "execution_count": 80,
     "metadata": {},
     "output_type": "execute_result"
    }
   ],
   "source": [
    "add(1,2)"
   ]
  },
  {
   "cell_type": "code",
   "execution_count": 81,
   "id": "bdb511d7-507f-4c80-8e3f-68e6d7a93538",
   "metadata": {},
   "outputs": [
    {
     "data": {
      "text/plain": [
       "9"
      ]
     },
     "execution_count": 81,
     "metadata": {},
     "output_type": "execute_result"
    }
   ],
   "source": [
    "addition = lambda x,y : x+y\n",
    "addition(4,5)"
   ]
  },
  {
   "cell_type": "code",
   "execution_count": 82,
   "id": "0e4f0fdf-69af-46ea-af12-5e3d0b21ccb9",
   "metadata": {},
   "outputs": [],
   "source": [
    "# square Number"
   ]
  },
  {
   "cell_type": "code",
   "execution_count": 83,
   "id": "5e0eb1dc-2f04-45c3-ad36-17f60b5e7ffc",
   "metadata": {},
   "outputs": [],
   "source": [
    "sqr=lambda x :x**2"
   ]
  },
  {
   "cell_type": "code",
   "execution_count": 84,
   "id": "710f642c-548e-4598-ac14-5936c8d9bebf",
   "metadata": {},
   "outputs": [
    {
     "data": {
      "text/plain": [
       "49"
      ]
     },
     "execution_count": 84,
     "metadata": {},
     "output_type": "execute_result"
    }
   ],
   "source": [
    "sqr(7)"
   ]
  },
  {
   "cell_type": "code",
   "execution_count": 85,
   "id": "e28efab8-a6cf-4131-8771-5f72ab6ce870",
   "metadata": {},
   "outputs": [],
   "source": [
    "#lambda function check if a number is even"
   ]
  },
  {
   "cell_type": "code",
   "execution_count": 86,
   "id": "3c2c3af6-bde5-4823-a067-1e2adfd92c7d",
   "metadata": {},
   "outputs": [],
   "source": [
    "check=lambda x:x%2==0 \n",
    "        "
   ]
  },
  {
   "cell_type": "code",
   "execution_count": 87,
   "id": "9d9a4142-52f4-404e-b2c5-04916db7275d",
   "metadata": {},
   "outputs": [
    {
     "data": {
      "text/plain": [
       "True"
      ]
     },
     "execution_count": 87,
     "metadata": {},
     "output_type": "execute_result"
    }
   ],
   "source": [
    "check(2)"
   ]
  },
  {
   "cell_type": "code",
   "execution_count": 88,
   "id": "461d0543-8b44-4553-8e11-43c2bc50f5a8",
   "metadata": {},
   "outputs": [],
   "source": [
    "#lambda function check if a number is even or odd"
   ]
  },
  {
   "cell_type": "code",
   "execution_count": 89,
   "id": "b7de3569-b869-4b98-b12c-13209b9667ed",
   "metadata": {},
   "outputs": [],
   "source": [
    "check=lambda x:'even' if x%2==0 else 'odd'"
   ]
  },
  {
   "cell_type": "code",
   "execution_count": 90,
   "id": "2cdea85e-72db-4cc1-bdbf-62a1a57f2431",
   "metadata": {},
   "outputs": [
    {
     "data": {
      "text/plain": [
       "'odd'"
      ]
     },
     "execution_count": 90,
     "metadata": {},
     "output_type": "execute_result"
    }
   ],
   "source": [
    "check(3)"
   ]
  },
  {
   "cell_type": "markdown",
   "id": "16b4723f-19e9-414e-8e0a-e56f4acf7a47",
   "metadata": {},
   "source": [
    "# use of Lambda function"
   ]
  },
  {
   "cell_type": "code",
   "execution_count": 91,
   "id": "40913678-3ebb-4ece-941c-ff6cdc7c36c3",
   "metadata": {},
   "outputs": [],
   "source": [
    "student=[\n",
    "    {'name':\"Alice\",\"score\":95},\n",
    "    {'name':\"Ram\",\"score\":88},\n",
    "    {'name':\"Eva\",\"score\":92}\n",
    "]"
   ]
  },
  {
   "cell_type": "code",
   "execution_count": 92,
   "id": "39fa445b-280c-4162-8559-8778f2a7cea1",
   "metadata": {},
   "outputs": [
    {
     "name": "stdout",
     "output_type": "stream",
     "text": [
      "[{'name': 'Alice', 'score': 95}, {'name': 'Ram', 'score': 88}, {'name': 'Eva', 'score': 92}]\n"
     ]
    }
   ],
   "source": [
    "print(student)"
   ]
  },
  {
   "cell_type": "code",
   "execution_count": 93,
   "id": "72e93654-8999-4604-b4f7-d4ab74fcad03",
   "metadata": {},
   "outputs": [],
   "source": [
    "sort_student=sorted(student,key=lambda student:student['score'],reverse='True')"
   ]
  },
  {
   "cell_type": "code",
   "execution_count": 94,
   "id": "493199ae-3074-4792-9237-3cd8d54991f6",
   "metadata": {},
   "outputs": [
    {
     "data": {
      "text/plain": [
       "[{'name': 'Alice', 'score': 95},\n",
       " {'name': 'Eva', 'score': 92},\n",
       " {'name': 'Ram', 'score': 88}]"
      ]
     },
     "execution_count": 94,
     "metadata": {},
     "output_type": "execute_result"
    }
   ],
   "source": [
    "sort_student"
   ]
  },
  {
   "cell_type": "code",
   "execution_count": 95,
   "id": "1a9e8a0e-2327-4ec1-b8aa-d0b0a96a22c6",
   "metadata": {},
   "outputs": [],
   "source": [
    "sort_student=sorted(student,key=lambda student:student['score'],reverse='False')"
   ]
  },
  {
   "cell_type": "code",
   "execution_count": 96,
   "id": "fdab7d4e-1a34-494c-918f-f3098d9ab418",
   "metadata": {},
   "outputs": [
    {
     "data": {
      "text/plain": [
       "[{'name': 'Alice', 'score': 95},\n",
       " {'name': 'Eva', 'score': 92},\n",
       " {'name': 'Ram', 'score': 88}]"
      ]
     },
     "execution_count": 96,
     "metadata": {},
     "output_type": "execute_result"
    }
   ],
   "source": [
    "   sort_student "
   ]
  },
  {
   "cell_type": "markdown",
   "id": "79f9a669-c32b-4a67-b0c7-d0afe14c261f",
   "metadata": {},
   "source": [
    "# Excepption Handling in python"
   ]
  },
  {
   "cell_type": "code",
   "execution_count": 97,
   "id": "f73e5e90-fb9a-413a-a552-bd43e1a03022",
   "metadata": {},
   "outputs": [],
   "source": [
    "# syntax error"
   ]
  },
  {
   "cell_type": "code",
   "execution_count": 98,
   "id": "20281a9c-a567-4f9f-a304-5b9514162d79",
   "metadata": {},
   "outputs": [
    {
     "ename": "_IncompleteInputError",
     "evalue": "incomplete input (3454455852.py, line 1)",
     "output_type": "error",
     "traceback": [
      "\u001b[1;36m  Cell \u001b[1;32mIn[98], line 1\u001b[1;36m\u001b[0m\n\u001b[1;33m    print(\"ram\"\u001b[0m\n\u001b[1;37m               ^\u001b[0m\n\u001b[1;31m_IncompleteInputError\u001b[0m\u001b[1;31m:\u001b[0m incomplete input\n"
     ]
    }
   ],
   "source": [
    "print(\"ram\""
   ]
  },
  {
   "cell_type": "code",
   "execution_count": 99,
   "id": "6d786867-49bc-4661-a3e4-dc1956854839",
   "metadata": {},
   "outputs": [],
   "source": [
    "#type error"
   ]
  },
  {
   "cell_type": "code",
   "execution_count": 100,
   "id": "55a97e41-8e8e-4908-bed2-b48c764edd43",
   "metadata": {},
   "outputs": [],
   "source": [
    "a= 'ritesh'"
   ]
  },
  {
   "cell_type": "code",
   "execution_count": 101,
   "id": "d2f5e93e-ad96-4799-bcb0-bbf1f89525d2",
   "metadata": {},
   "outputs": [],
   "source": [
    "b=5"
   ]
  },
  {
   "cell_type": "code",
   "execution_count": 102,
   "id": "f2036478-5de0-4358-83de-3ffe60e95f07",
   "metadata": {},
   "outputs": [
    {
     "ename": "TypeError",
     "evalue": "can only concatenate str (not \"int\") to str",
     "output_type": "error",
     "traceback": [
      "\u001b[1;31m---------------------------------------------------------------------------\u001b[0m",
      "\u001b[1;31mTypeError\u001b[0m                                 Traceback (most recent call last)",
      "Cell \u001b[1;32mIn[102], line 1\u001b[0m\n\u001b[1;32m----> 1\u001b[0m a\u001b[38;5;241m+\u001b[39mb\n",
      "\u001b[1;31mTypeError\u001b[0m: can only concatenate str (not \"int\") to str"
     ]
    }
   ],
   "source": [
    "a+b\n"
   ]
  },
  {
   "cell_type": "code",
   "execution_count": 103,
   "id": "66103995-069a-449a-ab03-a2131ec2c39b",
   "metadata": {},
   "outputs": [],
   "source": [
    "#zero division error"
   ]
  },
  {
   "cell_type": "code",
   "execution_count": 104,
   "id": "6cb6d5dc-56a4-49e5-9d27-183b7ff99e76",
   "metadata": {},
   "outputs": [
    {
     "ename": "ZeroDivisionError",
     "evalue": "division by zero",
     "output_type": "error",
     "traceback": [
      "\u001b[1;31m---------------------------------------------------------------------------\u001b[0m",
      "\u001b[1;31mZeroDivisionError\u001b[0m                         Traceback (most recent call last)",
      "Cell \u001b[1;32mIn[104], line 1\u001b[0m\n\u001b[1;32m----> 1\u001b[0m \u001b[38;5;241m10\u001b[39m\u001b[38;5;241m/\u001b[39m\u001b[38;5;241m0\u001b[39m\n",
      "\u001b[1;31mZeroDivisionError\u001b[0m: division by zero"
     ]
    }
   ],
   "source": [
    "10/0"
   ]
  },
  {
   "cell_type": "code",
   "execution_count": 105,
   "id": "b7494325-5c7d-4be5-9784-fc9363c2943a",
   "metadata": {},
   "outputs": [],
   "source": [
    "# try except handle"
   ]
  },
  {
   "cell_type": "code",
   "execution_count": 109,
   "id": "ac9ddd8e-4676-48b0-8629-b6247d1a6d95",
   "metadata": {},
   "outputs": [
    {
     "name": "stdout",
     "output_type": "stream",
     "text": [
      "error\n"
     ]
    }
   ],
   "source": [
    "try :\n",
    "    result=10/0\n",
    "except:\n",
    "    print('error')"
   ]
  },
  {
   "cell_type": "code",
   "execution_count": 7,
   "id": "fa028baa-ab1e-4e7f-85b0-30ea726b557e",
   "metadata": {},
   "outputs": [
    {
     "name": "stdout",
     "output_type": "stream",
     "text": [
      "error\n"
     ]
    }
   ],
   "source": [
    "\n",
    "try:\n",
    "    print(result=10/0)\n",
    "except ZeroDivisionError:\n",
    "    print('error')"
   ]
  },
  {
   "cell_type": "code",
   "execution_count": 115,
   "id": "4647f8d6-601c-48dd-b8fd-b3a6b27086d0",
   "metadata": {},
   "outputs": [
    {
     "name": "stdout",
     "output_type": "stream",
     "text": [
      "error\n"
     ]
    }
   ],
   "source": [
    "try:  \n",
    "    print('ritesh'+5)\n",
    "    result=10/0\n",
    "except ZeroDivisionError:\n",
    "    print('error')\n",
    "except TypeError:\n",
    "    print('error')"
   ]
  },
  {
   "cell_type": "markdown",
   "id": "7ee12c65-6d5b-4948-8e7e-5cfc6b2db64b",
   "metadata": {},
   "source": [
    "# finally block"
   ]
  },
  {
   "cell_type": "code",
   "execution_count": 121,
   "id": "9180f0bf-4ad5-4631-a775-05fe823e5ba9",
   "metadata": {},
   "outputs": [],
   "source": [
    "def div(x,y):\n",
    "    try:  \n",
    "        result=x/y\n",
    "        return result \n",
    "    except:\n",
    "        print('exception as occured')\n",
    "    finally :\n",
    "        print('finally block always execute')"
   ]
  },
  {
   "cell_type": "code",
   "execution_count": 122,
   "id": "5b94f31c-93e7-4609-aca4-e07713afde2c",
   "metadata": {},
   "outputs": [
    {
     "name": "stdout",
     "output_type": "stream",
     "text": [
      "finally block always execute\n"
     ]
    },
    {
     "data": {
      "text/plain": [
       "0.6"
      ]
     },
     "execution_count": 122,
     "metadata": {},
     "output_type": "execute_result"
    }
   ],
   "source": [
    "div(3,5)"
   ]
  },
  {
   "cell_type": "code",
   "execution_count": 123,
   "id": "2d764945-fe9e-4978-b801-940ef3bdffd7",
   "metadata": {},
   "outputs": [
    {
     "name": "stdout",
     "output_type": "stream",
     "text": [
      "exception as occured\n",
      "finally block always execute\n"
     ]
    }
   ],
   "source": [
    "div(3,0)"
   ]
  },
  {
   "cell_type": "code",
   "execution_count": null,
   "id": "f6f2aa87-dbd6-4353-bda9-3561ec21b427",
   "metadata": {},
   "outputs": [],
   "source": [
    "def num_type():\n",
    "    try:\n",
    "        num=int(input('please enter a number'))\n",
    "        if num>0:\n",
    "            return f\"{num} is \"\n",
    "            "
   ]
  }
 ],
 "metadata": {
  "kernelspec": {
   "display_name": "Python [conda env:base] *",
   "language": "python",
   "name": "conda-base-py"
  },
  "language_info": {
   "codemirror_mode": {
    "name": "ipython",
    "version": 3
   },
   "file_extension": ".py",
   "mimetype": "text/x-python",
   "name": "python",
   "nbconvert_exporter": "python",
   "pygments_lexer": "ipython3",
   "version": "3.13.5"
  }
 },
 "nbformat": 4,
 "nbformat_minor": 5
}
