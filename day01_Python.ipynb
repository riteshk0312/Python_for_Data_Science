{
 "cells": [
  {
   "cell_type": "markdown",
   "id": "834328e3-35e6-4bfd-84fb-630fdd768297",
   "metadata": {},
   "source": [
    "1+2"
   ]
  },
  {
   "cell_type": "code",
   "execution_count": 1,
   "id": "b318941c-d552-4f21-90f7-342229996e32",
   "metadata": {},
   "outputs": [],
   "source": [
    "#title\n",
    "\n"
   ]
  },
  {
   "cell_type": "markdown",
   "id": "70a81b00-878e-43b5-a567-f7001c7f0e08",
   "metadata": {},
   "source": [
    "#title"
   ]
  },
  {
   "cell_type": "code",
   "execution_count": 3,
   "id": "29b211ee-aa4b-4247-ab3d-20f40afb6a15",
   "metadata": {},
   "outputs": [],
   "source": [
    "# title"
   ]
  },
  {
   "cell_type": "code",
   "execution_count": 4,
   "id": "27856185-b01a-4cdf-9775-18dc0a983206",
   "metadata": {},
   "outputs": [],
   "source": [
    "# title"
   ]
  },
  {
   "cell_type": "code",
   "execution_count": 5,
   "id": "0f8aa334-d48e-406f-8f16-82c2645f3aa6",
   "metadata": {},
   "outputs": [],
   "source": [
    "# Title"
   ]
  },
  {
   "cell_type": "markdown",
   "id": "94b570e1-19c4-40e9-94d2-c10cf0923a18",
   "metadata": {},
   "source": [
    "# Title"
   ]
  },
  {
   "cell_type": "markdown",
   "id": "3c64ca1f-e086-4784-ad5d-a73e57abba4d",
   "metadata": {},
   "source": [
    "This is a paragraph"
   ]
  },
  {
   "cell_type": "markdown",
   "id": "1948f349-1430-4a87-85b6-727c9fcc4f65",
   "metadata": {},
   "source": [
    "# Identifier"
   ]
  },
  {
   "cell_type": "code",
   "execution_count": 7,
   "id": "0134c12a-b334-4351-b761-fcd0bb3705ff",
   "metadata": {},
   "outputs": [],
   "source": [
    "age=25"
   ]
  },
  {
   "cell_type": "code",
   "execution_count": 8,
   "id": "ee4ee5bd-8991-4c61-8050-b4ba82c7a5a9",
   "metadata": {},
   "outputs": [
    {
     "name": "stdout",
     "output_type": "stream",
     "text": [
      "25\n"
     ]
    }
   ],
   "source": [
    "print(age)"
   ]
  },
  {
   "cell_type": "code",
   "execution_count": 9,
   "id": "f1deca11-b119-4ce3-8771-526d8020134b",
   "metadata": {},
   "outputs": [],
   "source": [
    "AGE=15\n"
   ]
  },
  {
   "cell_type": "code",
   "execution_count": 10,
   "id": "f87277ba-772d-40cc-9f4c-5252d94b40d2",
   "metadata": {},
   "outputs": [
    {
     "name": "stdout",
     "output_type": "stream",
     "text": [
      "15\n"
     ]
    }
   ],
   "source": [
    "print(AGE)\n"
   ]
  },
  {
   "cell_type": "markdown",
   "id": "e717549e-de3f-487c-abba-0b77a1c9a47e",
   "metadata": {},
   "source": [
    "variable with character"
   ]
  },
  {
   "cell_type": "code",
   "execution_count": 11,
   "id": "5c913a78-3d16-45c3-b07e-901df3f11d29",
   "metadata": {},
   "outputs": [],
   "source": [
    "name='Ritesh'"
   ]
  },
  {
   "cell_type": "code",
   "execution_count": 13,
   "id": "7deb78da-ed1c-44b9-8029-6c759090d17b",
   "metadata": {},
   "outputs": [
    {
     "name": "stdout",
     "output_type": "stream",
     "text": [
      "Ritesh\n"
     ]
    }
   ],
   "source": [
    "print(name)"
   ]
  },
  {
   "cell_type": "code",
   "execution_count": 14,
   "id": "65aa5a2d-c58e-4429-ae4f-2eb41de8c84d",
   "metadata": {},
   "outputs": [],
   "source": [
    "city=\"solapur\"\n"
   ]
  },
  {
   "cell_type": "code",
   "execution_count": 15,
   "id": "05e48e7a-1004-4ee8-a071-ba047186ed24",
   "metadata": {},
   "outputs": [
    {
     "name": "stdout",
     "output_type": "stream",
     "text": [
      "solapur\n"
     ]
    }
   ],
   "source": [
    "print(city)"
   ]
  },
  {
   "cell_type": "code",
   "execution_count": 16,
   "id": "c430ce27-7436-476f-9084-d0f51c5f8eec",
   "metadata": {},
   "outputs": [
    {
     "ename": "SyntaxError",
     "evalue": "invalid decimal literal (2508368783.py, line 1)",
     "output_type": "error",
     "traceback": [
      "\u001b[1;36m  Cell \u001b[1;32mIn[16], line 1\u001b[1;36m\u001b[0m\n\u001b[1;33m    1name='python'\u001b[0m\n\u001b[1;37m    ^\u001b[0m\n\u001b[1;31mSyntaxError\u001b[0m\u001b[1;31m:\u001b[0m invalid decimal literal\n"
     ]
    }
   ],
   "source": [
    "# cant use numbers initially for a variable name\n",
    "1name='python'"
   ]
  },
  {
   "cell_type": "code",
   "execution_count": 17,
   "id": "848253b7-48cb-4c9c-8323-32139ae627d8",
   "metadata": {},
   "outputs": [
    {
     "name": "stderr",
     "output_type": "stream",
     "text": [
      "UsageError: Line magic function `%name=python` not found.\n"
     ]
    }
   ],
   "source": [
    "# cant use % initially for a variable name\n",
    "# only _ or as a special character can be used initially\n",
    "%name=python"
   ]
  },
  {
   "cell_type": "code",
   "execution_count": 18,
   "id": "f0b5fe7a-810e-43e4-ad83-95d8a7428ece",
   "metadata": {},
   "outputs": [],
   "source": [
    "_name='python'"
   ]
  },
  {
   "cell_type": "code",
   "execution_count": 19,
   "id": "7115db3e-63e2-4ec5-9370-8dd46a61639d",
   "metadata": {},
   "outputs": [],
   "source": [
    "name1='class'"
   ]
  },
  {
   "cell_type": "code",
   "execution_count": null,
   "id": "4c7db4ed-c885-44a9-854d-7c6eb12ef9bc",
   "metadata": {},
   "outputs": [],
   "source": [
    "#have keyword"
   ]
  },
  {
   "cell_type": "code",
   "execution_count": 20,
   "id": "5388c800-8538-4710-9b23-857d3588fbd8",
   "metadata": {},
   "outputs": [
    {
     "name": "stdout",
     "output_type": "stream",
     "text": [
      "['False', 'None', 'True', 'and', 'as', 'assert', 'async', 'await', 'break', 'class', 'continue', 'def', 'del', 'elif', 'else', 'except', 'finally', 'for', 'from', 'global', 'if', 'import', 'in', 'is', 'lambda', 'nonlocal', 'not', 'or', 'pass', 'raise', 'return', 'try', 'while', 'with', 'yield']\n"
     ]
    }
   ],
   "source": [
    "import keyword\n",
    "print(keyword.kwlist)"
   ]
  },
  {
   "cell_type": "code",
   "execution_count": 21,
   "id": "7fbdeca5-e270-4985-b64a-24aa9788dd60",
   "metadata": {},
   "outputs": [
    {
     "data": {
      "text/plain": [
       "'\\nmultiline comment is saved in memory\\n'"
      ]
     },
     "execution_count": 21,
     "metadata": {},
     "output_type": "execute_result"
    }
   ],
   "source": [
    "'''\n",
    "multiline comment is saved in memory\n",
    "'''\n"
   ]
  },
  {
   "cell_type": "markdown",
   "id": "486902a1-d7e3-4c4d-bd8e-681c4777616d",
   "metadata": {},
   "source": [
    "# Variable in Python"
   ]
  },
  {
   "cell_type": "code",
   "execution_count": 23,
   "id": "b7788325-95a9-4a8a-8204-4cdb5f391d1d",
   "metadata": {},
   "outputs": [],
   "source": [
    "name='John'\n",
    "age=25"
   ]
  },
  {
   "cell_type": "code",
   "execution_count": 24,
   "id": "4a4a447a-a203-4174-bdae-5537cf4f9b04",
   "metadata": {},
   "outputs": [],
   "source": [
    "#multiline aasignment\n",
    "x,y,z=10,20,30\n"
   ]
  },
  {
   "cell_type": "code",
   "execution_count": 25,
   "id": "1bf16897-e42f-4427-a04b-28516f0e8a67",
   "metadata": {},
   "outputs": [
    {
     "name": "stdout",
     "output_type": "stream",
     "text": [
      "20\n"
     ]
    }
   ],
   "source": [
    "print(y)"
   ]
  },
  {
   "cell_type": "code",
   "execution_count": 26,
   "id": "bcef788f-20e7-4bf7-a73a-dc5c4f8b5e21",
   "metadata": {},
   "outputs": [],
   "source": [
    "# variable reuse"
   ]
  },
  {
   "cell_type": "code",
   "execution_count": 27,
   "id": "394ea617-ce91-4a99-bee7-1d75e1300875",
   "metadata": {},
   "outputs": [
    {
     "name": "stdout",
     "output_type": "stream",
     "text": [
      "Age is 30 years\n"
     ]
    }
   ],
   "source": [
    "age=\"Age is 30 years\"\n",
    "print(age)"
   ]
  },
  {
   "cell_type": "code",
   "execution_count": 28,
   "id": "c1c6f091-f7e1-4d0a-801d-7ebfdcd2b828",
   "metadata": {},
   "outputs": [
    {
     "name": "stdout",
     "output_type": "stream",
     "text": [
      "True\n"
     ]
    }
   ],
   "source": [
    "is_vaccinated=True #boolean variable\n",
    "print(is_vaccinated)"
   ]
  },
  {
   "cell_type": "code",
   "execution_count": 29,
   "id": "55a6f239-d406-4b8f-a450-10c203c4e148",
   "metadata": {},
   "outputs": [
    {
     "data": {
      "text/plain": [
       "10.5"
      ]
     },
     "execution_count": 29,
     "metadata": {},
     "output_type": "execute_result"
    }
   ],
   "source": [
    "salary=10.5\n",
    "salary"
   ]
  },
  {
   "cell_type": "markdown",
   "id": "31e5f3f5-061b-4b18-9018-791846131147",
   "metadata": {},
   "source": [
    "# data types"
   ]
  },
  {
   "cell_type": "code",
   "execution_count": 31,
   "id": "03e4c9f8-c031-4f00-b95b-e8fbf6c4cebe",
   "metadata": {},
   "outputs": [],
   "source": [
    "a=30"
   ]
  },
  {
   "cell_type": "code",
   "execution_count": 32,
   "id": "1f00e80d-ceed-484a-b596-35c81be29531",
   "metadata": {},
   "outputs": [
    {
     "data": {
      "text/plain": [
       "int"
      ]
     },
     "execution_count": 32,
     "metadata": {},
     "output_type": "execute_result"
    }
   ],
   "source": [
    "type(a)"
   ]
  },
  {
   "cell_type": "code",
   "execution_count": 35,
   "id": "e2077838-3472-4480-b28d-ded619359215",
   "metadata": {},
   "outputs": [
    {
     "data": {
      "text/plain": [
       "140707809703752"
      ]
     },
     "execution_count": 35,
     "metadata": {},
     "output_type": "execute_result"
    }
   ],
   "source": [
    "#memory location\n",
    "id(a)"
   ]
  },
  {
   "cell_type": "code",
   "execution_count": 36,
   "id": "0870e524-230f-445c-a851-a1da91622941",
   "metadata": {},
   "outputs": [
    {
     "data": {
      "text/plain": [
       "140707809703752"
      ]
     },
     "execution_count": 36,
     "metadata": {},
     "output_type": "execute_result"
    }
   ],
   "source": [
    "b=30\n",
    "id(b)"
   ]
  },
  {
   "cell_type": "code",
   "execution_count": 37,
   "id": "82fe9b19-529d-4033-91f5-e5200b90b73d",
   "metadata": {},
   "outputs": [],
   "source": [
    "x=257\n",
    "y=257"
   ]
  },
  {
   "cell_type": "code",
   "execution_count": 38,
   "id": "90e1879b-8adb-43af-b653-622732602f6a",
   "metadata": {},
   "outputs": [
    {
     "data": {
      "text/plain": [
       "2805450964880"
      ]
     },
     "execution_count": 38,
     "metadata": {},
     "output_type": "execute_result"
    }
   ],
   "source": [
    "id(x)"
   ]
  },
  {
   "cell_type": "code",
   "execution_count": 39,
   "id": "b048a97e-b9a3-4b72-9e7d-8b4466260e4f",
   "metadata": {},
   "outputs": [
    {
     "data": {
      "text/plain": [
       "2805450964432"
      ]
     },
     "execution_count": 39,
     "metadata": {},
     "output_type": "execute_result"
    }
   ],
   "source": [
    "id(y)"
   ]
  },
  {
   "cell_type": "code",
   "execution_count": 40,
   "id": "1c83120d-c9d4-49b5-8910-899b400dcecf",
   "metadata": {},
   "outputs": [
    {
     "data": {
      "text/plain": [
       "True"
      ]
     },
     "execution_count": 40,
     "metadata": {},
     "output_type": "execute_result"
    }
   ],
   "source": [
    "x==y # comparison of value"
   ]
  },
  {
   "cell_type": "code",
   "execution_count": 41,
   "id": "2efb49bd-2cbc-4394-912a-d6ba6d98e64c",
   "metadata": {},
   "outputs": [
    {
     "data": {
      "text/plain": [
       "False"
      ]
     },
     "execution_count": 41,
     "metadata": {},
     "output_type": "execute_result"
    }
   ],
   "source": [
    "x is y # memory location"
   ]
  },
  {
   "cell_type": "code",
   "execution_count": 42,
   "id": "0e2884bc-57b3-42c0-bc26-7eb82948bdb0",
   "metadata": {},
   "outputs": [
    {
     "data": {
      "text/plain": [
       "True"
      ]
     },
     "execution_count": 42,
     "metadata": {},
     "output_type": "execute_result"
    }
   ],
   "source": [
    "a is b # memory location"
   ]
  },
  {
   "cell_type": "code",
   "execution_count": 43,
   "id": "e397a405-e680-4b41-9c32-a9a91756aaaa",
   "metadata": {},
   "outputs": [],
   "source": [
    "c=3.14\n"
   ]
  },
  {
   "cell_type": "code",
   "execution_count": 44,
   "id": "a8e26fd6-3e8d-4bcc-847f-ff9058fe7429",
   "metadata": {},
   "outputs": [
    {
     "name": "stdout",
     "output_type": "stream",
     "text": [
      "<class 'float'>\n"
     ]
    }
   ],
   "source": [
    "print(type(c))"
   ]
  },
  {
   "cell_type": "code",
   "execution_count": 45,
   "id": "bb45f188-bf67-4c4a-b315-b342293fed27",
   "metadata": {},
   "outputs": [
    {
     "name": "stdout",
     "output_type": "stream",
     "text": [
      "2805450963184\n"
     ]
    }
   ],
   "source": [
    "print(id(c))"
   ]
  },
  {
   "cell_type": "markdown",
   "id": "986a9efb-a530-48ca-a66a-57489fcab450",
   "metadata": {},
   "source": [
    "# Complex"
   ]
  },
  {
   "cell_type": "code",
   "execution_count": 46,
   "id": "8b42178b-20ab-4523-89bf-1e9c1ce06f2b",
   "metadata": {},
   "outputs": [],
   "source": [
    "z= 3+ 5j #is real part and 4 is imaginary part"
   ]
  },
  {
   "cell_type": "code",
   "execution_count": 48,
   "id": "f11c753b-9b88-45d7-9142-0fe5fb76ae7e",
   "metadata": {},
   "outputs": [
    {
     "name": "stdout",
     "output_type": "stream",
     "text": [
      "(3+5j)\n"
     ]
    }
   ],
   "source": [
    "print(z)"
   ]
  },
  {
   "cell_type": "code",
   "execution_count": 49,
   "id": "9b8bbe6b-769c-4280-927c-e5f3743c19b8",
   "metadata": {},
   "outputs": [
    {
     "data": {
      "text/plain": [
       "2805450964880"
      ]
     },
     "execution_count": 49,
     "metadata": {},
     "output_type": "execute_result"
    }
   ],
   "source": [
    "id (x)"
   ]
  },
  {
   "cell_type": "markdown",
   "id": "99a6f530-a800-4bda-8dc0-e5927f1905b4",
   "metadata": {},
   "source": [
    "#boolean(Bool)"
   ]
  },
  {
   "cell_type": "code",
   "execution_count": 50,
   "id": "cb700cfe-d29b-4833-bf79-5803dc7c93bd",
   "metadata": {},
   "outputs": [],
   "source": [
    "a=True"
   ]
  },
  {
   "cell_type": "code",
   "execution_count": 51,
   "id": "8ea0b55e-0e4b-4118-90b5-f4c275cc30d2",
   "metadata": {},
   "outputs": [
    {
     "data": {
      "text/plain": [
       "bool"
      ]
     },
     "execution_count": 51,
     "metadata": {},
     "output_type": "execute_result"
    }
   ],
   "source": [
    "type(a)"
   ]
  },
  {
   "cell_type": "code",
   "execution_count": 53,
   "id": "b8f39f57-fde2-4fbc-87e3-184b76a7a020",
   "metadata": {},
   "outputs": [
    {
     "data": {
      "text/plain": [
       "bool"
      ]
     },
     "execution_count": 53,
     "metadata": {},
     "output_type": "execute_result"
    }
   ],
   "source": [
    "b=bool(20)\n",
    "type(b)"
   ]
  },
  {
   "cell_type": "code",
   "execution_count": 54,
   "id": "61e4f7ed-027b-4a3f-a127-4a91ff243186",
   "metadata": {},
   "outputs": [
    {
     "data": {
      "text/plain": [
       "True"
      ]
     },
     "execution_count": 54,
     "metadata": {},
     "output_type": "execute_result"
    }
   ],
   "source": [
    "b"
   ]
  },
  {
   "cell_type": "markdown",
   "id": "5ec3e51f-780f-4e6d-ac25-e4d40ab36a4e",
   "metadata": {},
   "source": [
    "None Type"
   ]
  },
  {
   "cell_type": "code",
   "execution_count": 56,
   "id": "056fb1af-bad4-44c7-9225-53d1fa0ac1ea",
   "metadata": {},
   "outputs": [],
   "source": [
    "result = None\n"
   ]
  },
  {
   "cell_type": "code",
   "execution_count": 57,
   "id": "cc0ef1c8-008b-4d38-87e0-899b404450b8",
   "metadata": {},
   "outputs": [
    {
     "name": "stdout",
     "output_type": "stream",
     "text": [
      "None\n"
     ]
    }
   ],
   "source": [
    "print(result)"
   ]
  },
  {
   "cell_type": "code",
   "execution_count": 58,
   "id": "b3cd87d8-2ce7-42b5-9dc5-6c77bb4a207c",
   "metadata": {},
   "outputs": [
    {
     "data": {
      "text/plain": [
       "NoneType"
      ]
     },
     "execution_count": 58,
     "metadata": {},
     "output_type": "execute_result"
    }
   ],
   "source": [
    "type(result)"
   ]
  },
  {
   "cell_type": "markdown",
   "id": "2f4c4ae8-c817-4e6d-9d01-4d7f40ce6268",
   "metadata": {},
   "source": [
    "# strings"
   ]
  },
  {
   "cell_type": "code",
   "execution_count": 59,
   "id": "f89108de-7d62-4b46-9b7d-4f170d612118",
   "metadata": {},
   "outputs": [],
   "source": [
    "single_quote = 'Hello World'\n"
   ]
  },
  {
   "cell_type": "code",
   "execution_count": 60,
   "id": "0bd4f3af-d5a8-4d74-a4d4-01bf8899ba9f",
   "metadata": {},
   "outputs": [],
   "source": [
    "double_quote= \"Python is a language\""
   ]
  },
  {
   "cell_type": "code",
   "execution_count": 62,
   "id": "4b8d20f8-c82a-4a80-acdd-a5c10754a7dd",
   "metadata": {},
   "outputs": [],
   "source": [
    "triple_quote=\"\"\"This is  \n",
    "triple quote variable\"\"\""
   ]
  },
  {
   "cell_type": "raw",
   "id": "b41d414d-bddb-4460-b370-7b23ed2d07ac",
   "metadata": {},
   "source": [
    "print(triple_quote)"
   ]
  },
  {
   "cell_type": "markdown",
   "id": "200820bb-096c-4fef-a0e6-5301803597ca",
   "metadata": {},
   "source": [
    "#String Concatenation"
   ]
  },
  {
   "cell_type": "code",
   "execution_count": 63,
   "id": "95a835de-89b9-4ec5-aa95-10b2b8e282a6",
   "metadata": {},
   "outputs": [],
   "source": [
    "fname=\"ritesh\"\n",
    "lname='kalyanshetti'"
   ]
  },
  {
   "cell_type": "code",
   "execution_count": 64,
   "id": "eccd89ea-57a9-4676-a591-8c9eb940aeb1",
   "metadata": {},
   "outputs": [
    {
     "name": "stdout",
     "output_type": "stream",
     "text": [
      "riteshkalyanshetti\n"
     ]
    }
   ],
   "source": [
    "full_name= fname+lname\n",
    "print(full_name)"
   ]
  },
  {
   "cell_type": "code",
   "execution_count": 65,
   "id": "349366e9-2ffb-449d-853b-fc5860894056",
   "metadata": {},
   "outputs": [
    {
     "name": "stdout",
     "output_type": "stream",
     "text": [
      "ritesh kalyanshetti\n"
     ]
    }
   ],
   "source": [
    "full_name= fname+\" \"+lname\n",
    "print(full_name)"
   ]
  },
  {
   "cell_type": "code",
   "execution_count": 66,
   "id": "42ce1932-04b1-4eb1-9c70-82d6d7331b0e",
   "metadata": {},
   "outputs": [
    {
     "data": {
      "text/plain": [
       "6"
      ]
     },
     "execution_count": 66,
     "metadata": {},
     "output_type": "execute_result"
    }
   ],
   "source": [
    "text='Python'\n",
    "len(text)"
   ]
  },
  {
   "cell_type": "markdown",
   "id": "fbae955a-8a61-4572-8ab5-718ba4ab57a1",
   "metadata": {},
   "source": [
    "#indexing in python"
   ]
  },
  {
   "cell_type": "code",
   "execution_count": 68,
   "id": "325a32a6-aacf-4bec-9207-717e4c682774",
   "metadata": {},
   "outputs": [
    {
     "data": {
      "text/plain": [
       "'P'"
      ]
     },
     "execution_count": 68,
     "metadata": {},
     "output_type": "execute_result"
    }
   ],
   "source": [
    "text[0]"
   ]
  },
  {
   "cell_type": "code",
   "execution_count": 69,
   "id": "e536246c-53d6-4a40-b166-2849a8e40bcc",
   "metadata": {},
   "outputs": [
    {
     "data": {
      "text/plain": [
       "'h'"
      ]
     },
     "execution_count": 69,
     "metadata": {},
     "output_type": "execute_result"
    }
   ],
   "source": [
    "text[3]"
   ]
  },
  {
   "cell_type": "code",
   "execution_count": 70,
   "id": "515d2276-d2ce-441e-8b4a-59c5e4ae19fe",
   "metadata": {},
   "outputs": [
    {
     "ename": "IndexError",
     "evalue": "string index out of range",
     "output_type": "error",
     "traceback": [
      "\u001b[1;31m---------------------------------------------------------------------------\u001b[0m",
      "\u001b[1;31mIndexError\u001b[0m                                Traceback (most recent call last)",
      "Cell \u001b[1;32mIn[70], line 1\u001b[0m\n\u001b[1;32m----> 1\u001b[0m text[\u001b[38;5;241m100\u001b[39m]\n",
      "\u001b[1;31mIndexError\u001b[0m: string index out of range"
     ]
    }
   ],
   "source": [
    "text[100]# index out of range error"
   ]
  },
  {
   "cell_type": "code",
   "execution_count": 71,
   "id": "25989ada-129a-4adc-8a3b-fb051cbe37c2",
   "metadata": {},
   "outputs": [
    {
     "data": {
      "text/plain": [
       "'n'"
      ]
     },
     "execution_count": 71,
     "metadata": {},
     "output_type": "execute_result"
    }
   ],
   "source": [
    "text[-1]"
   ]
  },
  {
   "cell_type": "code",
   "execution_count": 72,
   "id": "aae22233-76cc-490d-9963-db141a8b877e",
   "metadata": {},
   "outputs": [
    {
     "data": {
      "text/plain": [
       "'P'"
      ]
     },
     "execution_count": 72,
     "metadata": {},
     "output_type": "execute_result"
    }
   ],
   "source": [
    "text[-6]"
   ]
  },
  {
   "cell_type": "markdown",
   "id": "67e32f0c-bd70-434c-8a06-f4a30680f5fe",
   "metadata": {},
   "source": [
    "#string slicing\n"
   ]
  },
  {
   "cell_type": "code",
   "execution_count": null,
   "id": "92d07e40-5c77-44cb-9363-4fb5d20ac063",
   "metadata": {},
   "outputs": [],
   "source": [
    "name = \"ritesh Kalyanshetti\""
   ]
  },
  {
   "cell_type": "code",
   "execution_count": 80,
   "id": "b0f96ef4-98b6-4b33-9265-a5717548f0f6",
   "metadata": {},
   "outputs": [
    {
     "data": {
      "text/plain": [
       "'oh'"
      ]
     },
     "execution_count": 80,
     "metadata": {},
     "output_type": "execute_result"
    }
   ],
   "source": [
    "name[1:3]"
   ]
  },
  {
   "cell_type": "code",
   "execution_count": 77,
   "id": "1a40ca26-e907-4dc8-977e-26770dcfcfeb",
   "metadata": {},
   "outputs": [
    {
     "data": {
      "text/plain": [
       "'guage'"
      ]
     },
     "execution_count": 77,
     "metadata": {},
     "output_type": "execute_result"
    }
   ],
   "source": [
    "text = \"A Python is a language\"\n",
    "text[-5:]"
   ]
  },
  {
   "cell_type": "markdown",
   "id": "8eed1523-4427-4bc6-8530-2d80cdeff811",
   "metadata": {},
   "source": [
    "string methods"
   ]
  },
  {
   "cell_type": "code",
   "execution_count": 81,
   "id": "4e238a7e-789b-4c83-a5cc-6d647a32ea1f",
   "metadata": {},
   "outputs": [],
   "source": [
    "#conversion"
   ]
  },
  {
   "cell_type": "code",
   "execution_count": 82,
   "id": "bbc6305a-4b44-4c2e-b76c-7e83fd3c7856",
   "metadata": {},
   "outputs": [
    {
     "data": {
      "text/plain": [
       "int"
      ]
     },
     "execution_count": 82,
     "metadata": {},
     "output_type": "execute_result"
    }
   ],
   "source": [
    "num=25\n",
    "type(num)"
   ]
  },
  {
   "cell_type": "code",
   "execution_count": 83,
   "id": "6377034c-1da4-459e-98be-190be343e8a7",
   "metadata": {},
   "outputs": [
    {
     "data": {
      "text/plain": [
       "'25'"
      ]
     },
     "execution_count": 83,
     "metadata": {},
     "output_type": "execute_result"
    }
   ],
   "source": [
    "str_num=str(num)\n",
    "str_num"
   ]
  },
  {
   "cell_type": "code",
   "execution_count": 84,
   "id": "2b94a2f7-1e03-49ea-ad64-e1d82207fd38",
   "metadata": {},
   "outputs": [
    {
     "data": {
      "text/plain": [
       "str"
      ]
     },
     "execution_count": 84,
     "metadata": {},
     "output_type": "execute_result"
    }
   ],
   "source": [
    "type(str_num)"
   ]
  },
  {
   "cell_type": "code",
   "execution_count": 85,
   "id": "2726ca67-7eaf-43cf-bf26-64532455d461",
   "metadata": {},
   "outputs": [],
   "source": [
    "float_num = float(num)"
   ]
  },
  {
   "cell_type": "code",
   "execution_count": 86,
   "id": "97967962-7498-4e87-9763-a3de1f318e30",
   "metadata": {},
   "outputs": [
    {
     "data": {
      "text/plain": [
       "25.0"
      ]
     },
     "execution_count": 86,
     "metadata": {},
     "output_type": "execute_result"
    }
   ],
   "source": [
    "float_num"
   ]
  },
  {
   "cell_type": "code",
   "execution_count": 87,
   "id": "7bbe1d11-154f-43db-b3f6-ec1336063ff5",
   "metadata": {},
   "outputs": [],
   "source": [
    "pie=3.14\n",
    "int_pie=int(pie)"
   ]
  },
  {
   "cell_type": "code",
   "execution_count": 88,
   "id": "ed1f27ff-ddb9-4209-ba3a-36acb5764bf7",
   "metadata": {},
   "outputs": [
    {
     "data": {
      "text/plain": [
       "3"
      ]
     },
     "execution_count": 88,
     "metadata": {},
     "output_type": "execute_result"
    }
   ],
   "source": [
    "int_pie"
   ]
  },
  {
   "cell_type": "code",
   "execution_count": 89,
   "id": "065ae19e-7e90-466c-935d-07ebfff894ab",
   "metadata": {},
   "outputs": [
    {
     "data": {
      "text/plain": [
       "(3.14+0j)"
      ]
     },
     "execution_count": 89,
     "metadata": {},
     "output_type": "execute_result"
    }
   ],
   "source": [
    "complex(pie)"
   ]
  },
  {
   "cell_type": "code",
   "execution_count": 90,
   "id": "e436a825-a387-497d-b943-919fefd6ac9a",
   "metadata": {},
   "outputs": [],
   "source": [
    "#case conversion"
   ]
  },
  {
   "cell_type": "code",
   "execution_count": 91,
   "id": "946fbaa4-515a-4396-9faa-74a873b9923b",
   "metadata": {},
   "outputs": [],
   "source": [
    "text = \"Python is Fun\""
   ]
  },
  {
   "cell_type": "code",
   "execution_count": 92,
   "id": "b7172da9-dc5d-4d43-ba26-7e3c9fa598f4",
   "metadata": {},
   "outputs": [],
   "source": [
    "upper_text = text.upper()"
   ]
  },
  {
   "cell_type": "code",
   "execution_count": 93,
   "id": "4fb52f39-a2cd-4ea8-ae31-b57e994b53b5",
   "metadata": {},
   "outputs": [
    {
     "data": {
      "text/plain": [
       "'PYTHON IS FUN'"
      ]
     },
     "execution_count": 93,
     "metadata": {},
     "output_type": "execute_result"
    }
   ],
   "source": [
    "upper_text"
   ]
  },
  {
   "cell_type": "code",
   "execution_count": 100,
   "id": "5c11686d-d4bf-46fe-865e-ef7822f4f77e",
   "metadata": {},
   "outputs": [
    {
     "name": "stdout",
     "output_type": "stream",
     "text": [
      "python is fun\n"
     ]
    }
   ],
   "source": [
    "lower_text=text.lower()\n",
    "print(lower_text)"
   ]
  },
  {
   "cell_type": "code",
   "execution_count": 101,
   "id": "f329c63a-6b34-4baa-9d6e-7a91f72bbfea",
   "metadata": {},
   "outputs": [
    {
     "name": "stdout",
     "output_type": "stream",
     "text": [
      "Python is fun!\n"
     ]
    }
   ],
   "source": [
    "text = \" Python is fun! \"\n",
    "print(text)"
   ]
  },
  {
   "cell_type": "code",
   "execution_count": 104,
   "id": "a8097f15-ca71-4fc0-9ab7-e7ba0ee61490",
   "metadata": {},
   "outputs": [
    {
     "name": "stdout",
     "output_type": "stream",
     "text": [
      "Python is fun!\n"
     ]
    }
   ],
   "source": [
    "strip_text= text.rstrip()\n",
    "print(strip_text)"
   ]
  },
  {
   "cell_type": "markdown",
   "id": "029a21d0-f94d-4d21-b5de-586d8a439c2f",
   "metadata": {},
   "source": [
    "Search and replace methods\n"
   ]
  },
  {
   "cell_type": "code",
   "execution_count": 105,
   "id": "46eb9cc2-cbb5-4f24-8f68-61cdb4cbb6dd",
   "metadata": {},
   "outputs": [],
   "source": [
    "sent = \"Python is easy and Fun\"\n",
    "\n"
   ]
  },
  {
   "cell_type": "code",
   "execution_count": 106,
   "id": "c0fe480a-1278-4bc9-a61a-694090dbf6d8",
   "metadata": {},
   "outputs": [],
   "source": [
    "index= sent.find('is')"
   ]
  },
  {
   "cell_type": "code",
   "execution_count": 107,
   "id": "1dccdebf-e3c4-415c-9426-a4e1cc4d414a",
   "metadata": {},
   "outputs": [
    {
     "data": {
      "text/plain": [
       "7"
      ]
     },
     "execution_count": 107,
     "metadata": {},
     "output_type": "execute_result"
    }
   ],
   "source": [
    "index"
   ]
  },
  {
   "cell_type": "code",
   "execution_count": 108,
   "id": "feb09f5b-4838-4b15-939a-271e4f1743a4",
   "metadata": {},
   "outputs": [
    {
     "data": {
      "text/plain": [
       "-1"
      ]
     },
     "execution_count": 108,
     "metadata": {},
     "output_type": "execute_result"
    }
   ],
   "source": [
    "sent.find('Java')"
   ]
  },
  {
   "cell_type": "code",
   "execution_count": 109,
   "id": "abc9c499-38b7-474f-9eb0-230212280ec6",
   "metadata": {},
   "outputs": [
    {
     "ename": "ValueError",
     "evalue": "substring not found",
     "output_type": "error",
     "traceback": [
      "\u001b[1;31m---------------------------------------------------------------------------\u001b[0m",
      "\u001b[1;31mValueError\u001b[0m                                Traceback (most recent call last)",
      "Cell \u001b[1;32mIn[109], line 1\u001b[0m\n\u001b[1;32m----> 1\u001b[0m sent\u001b[38;5;241m.\u001b[39mindex(\u001b[38;5;124m\"\u001b[39m\u001b[38;5;124mjava\u001b[39m\u001b[38;5;124m\"\u001b[39m)\n",
      "\u001b[1;31mValueError\u001b[0m: substring not found"
     ]
    }
   ],
   "source": [
    "sent.index(\"java\")# if string not found "
   ]
  },
  {
   "cell_type": "markdown",
   "id": "8f297841-4e89-49bb-af5f-16292275c130",
   "metadata": {},
   "source": [
    "# Replace"
   ]
  },
  {
   "cell_type": "code",
   "execution_count": 3,
   "id": "15d73f45-4928-4ec4-839a-6e373cb9fe2e",
   "metadata": {},
   "outputs": [
    {
     "data": {
      "text/plain": [
       "'Python is easy and Fun'"
      ]
     },
     "execution_count": 3,
     "metadata": {},
     "output_type": "execute_result"
    }
   ],
   "source": [
    "sent = \"Python is easy and Fun\"\n",
    "sent\n"
   ]
  },
  {
   "cell_type": "code",
   "execution_count": 4,
   "id": "5c76769f-4c94-4246-b499-c9620eea0d23",
   "metadata": {},
   "outputs": [
    {
     "name": "stdout",
     "output_type": "stream",
     "text": [
      "Javascript is easy and Fun\n"
     ]
    }
   ],
   "source": [
    "replace_sent= sent.replace(\"Python\",\"Javascript\")\n",
    "print(replace_sent)"
   ]
  },
  {
   "cell_type": "code",
   "execution_count": 5,
   "id": "8f295901-d569-4f0a-817c-f58146450918",
   "metadata": {},
   "outputs": [
    {
     "data": {
      "text/plain": [
       "'Python is easy and Fun'"
      ]
     },
     "execution_count": 5,
     "metadata": {},
     "output_type": "execute_result"
    }
   ],
   "source": [
    "sent"
   ]
  },
  {
   "cell_type": "code",
   "execution_count": 6,
   "id": "04427585-bfdc-4c93-b47d-0a8370414b21",
   "metadata": {},
   "outputs": [
    {
     "data": {
      "text/plain": [
       "1"
      ]
     },
     "execution_count": 6,
     "metadata": {},
     "output_type": "execute_result"
    }
   ],
   "source": [
    "count = sent.count(\"Python\")\n",
    "count"
   ]
  },
  {
   "cell_type": "markdown",
   "id": "03f0e668-3d00-4846-b7da-bb0d50405208",
   "metadata": {},
   "source": [
    "#checking method"
   ]
  },
  {
   "cell_type": "code",
   "execution_count": 9,
   "id": "8df122d4-9bfa-4c3c-82db-5f5168babadc",
   "metadata": {},
   "outputs": [
    {
     "data": {
      "text/plain": [
       "True"
      ]
     },
     "execution_count": 9,
     "metadata": {},
     "output_type": "execute_result"
    }
   ],
   "source": [
    "sent.startswith(\"Python\")\n",
    "#sent.endwith()\n",
    "#sent.isalpha()\n",
    "#sent.isdigit()\n",
    "#sent.isalnum()"
   ]
  },
  {
   "cell_type": "code",
   "execution_count": 120,
   "id": "ad763dee-7bf7-433a-a288-453232a82895",
   "metadata": {},
   "outputs": [],
   "source": [
    "#spliiting and joining methods"
   ]
  },
  {
   "cell_type": "code",
   "execution_count": 121,
   "id": "29c5190d-4f56-486f-b256-74e66d282971",
   "metadata": {},
   "outputs": [
    {
     "data": {
      "text/plain": [
       "'Python is easy and Fun'"
      ]
     },
     "execution_count": 121,
     "metadata": {},
     "output_type": "execute_result"
    }
   ],
   "source": [
    "sent\n"
   ]
  },
  {
   "cell_type": "code",
   "execution_count": 122,
   "id": "07d2020f-b5fe-4743-ac65-12f926003f2d",
   "metadata": {},
   "outputs": [],
   "source": [
    "word= sent.split()\n"
   ]
  },
  {
   "cell_type": "code",
   "execution_count": 123,
   "id": "d9e5ed24-9fb5-4542-9228-4f447642c477",
   "metadata": {},
   "outputs": [
    {
     "data": {
      "text/plain": [
       "['Python', 'is', 'easy', 'and', 'Fun']"
      ]
     },
     "execution_count": 123,
     "metadata": {},
     "output_type": "execute_result"
    }
   ],
   "source": [
    "word"
   ]
  },
  {
   "cell_type": "code",
   "execution_count": 124,
   "id": "1315c531-ad1d-4cfe-be0a-7bdd02189cf9",
   "metadata": {},
   "outputs": [],
   "source": [
    "x=\"-\".join(word)"
   ]
  },
  {
   "cell_type": "code",
   "execution_count": 125,
   "id": "2842bddd-1100-4a6e-9057-126f16b6782f",
   "metadata": {},
   "outputs": [
    {
     "data": {
      "text/plain": [
       "'Python-is-easy-and-Fun'"
      ]
     },
     "execution_count": 125,
     "metadata": {},
     "output_type": "execute_result"
    }
   ],
   "source": [
    "x\n"
   ]
  },
  {
   "cell_type": "code",
   "execution_count": 126,
   "id": "04a60fb7-ed09-432e-8d90-ac24cb060726",
   "metadata": {},
   "outputs": [
    {
     "data": {
      "text/plain": [
       "'Python is easy and Fun'"
      ]
     },
     "execution_count": 126,
     "metadata": {},
     "output_type": "execute_result"
    }
   ],
   "source": [
    "\" \".join(word)"
   ]
  },
  {
   "cell_type": "markdown",
   "id": "0a697c05-99dd-456d-b17a-15b5ba84f3ff",
   "metadata": {},
   "source": [
    "#Formatting"
   ]
  },
  {
   "cell_type": "code",
   "execution_count": 127,
   "id": "f2a835ad-07d1-4bfe-9dd3-559d1c3dd469",
   "metadata": {},
   "outputs": [],
   "source": [
    "name=\"John\"\n",
    "age=25"
   ]
  },
  {
   "cell_type": "code",
   "execution_count": 130,
   "id": "f7485bf6-17cf-4b74-8158-53d0b60bfa0c",
   "metadata": {},
   "outputs": [
    {
     "data": {
      "text/plain": [
       "'My name is John,and I am 25 year old,'"
      ]
     },
     "execution_count": 130,
     "metadata": {},
     "output_type": "execute_result"
    }
   ],
   "source": [
    "format_string = \"My name is {},and I am {} year old,\".format(name,age)\n",
    "format_string"
   ]
  },
  {
   "cell_type": "code",
   "execution_count": 131,
   "id": "64f399a3-377d-424b-86f3-b4815d63317f",
   "metadata": {},
   "outputs": [
    {
     "name": "stdout",
     "output_type": "stream",
     "text": [
      "my age is 25 and name is John\n"
     ]
    }
   ],
   "source": [
    "print(f\"my age is {age} and name is {name}\")"
   ]
  },
  {
   "cell_type": "code",
   "execution_count": 132,
   "id": "2eb1cb3c-b710-4ee4-9cc5-0aa418f9ea6f",
   "metadata": {},
   "outputs": [],
   "source": [
    "char='A'"
   ]
  },
  {
   "cell_type": "code",
   "execution_count": 133,
   "id": "cfb38289-2b0a-432b-96ce-b9a6e2f6b773",
   "metadata": {},
   "outputs": [
    {
     "data": {
      "text/plain": [
       "65"
      ]
     },
     "execution_count": 133,
     "metadata": {},
     "output_type": "execute_result"
    }
   ],
   "source": [
    "y=ord(char)\n",
    "y"
   ]
  },
  {
   "cell_type": "code",
   "execution_count": 134,
   "id": "933c44a6-c5a3-486c-8066-5f1f956778cc",
   "metadata": {},
   "outputs": [
    {
     "data": {
      "text/plain": [
       "'p'"
      ]
     },
     "execution_count": 134,
     "metadata": {},
     "output_type": "execute_result"
    }
   ],
   "source": [
    "chr(112)"
   ]
  },
  {
   "cell_type": "code",
   "execution_count": 137,
   "id": "f1cb6fb0-47c1-4775-bb15-3f1103b2c9f5",
   "metadata": {},
   "outputs": [
    {
     "data": {
      "text/plain": [
       "114"
      ]
     },
     "execution_count": 137,
     "metadata": {},
     "output_type": "execute_result"
    }
   ],
   "source": [
    "ord(\"r\")"
   ]
  },
  {
   "cell_type": "code",
   "execution_count": 138,
   "id": "a5bf8a1d-b2ea-4776-a11a-2f410a0f0646",
   "metadata": {},
   "outputs": [],
   "source": [
    "a=5"
   ]
  },
  {
   "cell_type": "code",
   "execution_count": 139,
   "id": "59a589bd-85d8-4dcf-a5db-8488c73b8c27",
   "metadata": {},
   "outputs": [],
   "source": [
    "b=3\n"
   ]
  },
  {
   "cell_type": "code",
   "execution_count": 140,
   "id": "bdac9cfd-bd79-44a1-a0ef-90d4cc38c6d3",
   "metadata": {},
   "outputs": [
    {
     "data": {
      "text/plain": [
       "3"
      ]
     },
     "execution_count": 140,
     "metadata": {},
     "output_type": "execute_result"
    }
   ],
   "source": [
    "a and b\n"
   ]
  },
  {
   "cell_type": "code",
   "execution_count": 141,
   "id": "b8af20ed-846b-4746-99c2-77960a6fe50b",
   "metadata": {},
   "outputs": [
    {
     "data": {
      "text/plain": [
       "5"
      ]
     },
     "execution_count": 141,
     "metadata": {},
     "output_type": "execute_result"
    }
   ],
   "source": [
    "a or B"
   ]
  },
  {
   "cell_type": "code",
   "execution_count": 142,
   "id": "3448f067-3414-46db-add6-5cb11b36f3d9",
   "metadata": {},
   "outputs": [
    {
     "data": {
      "text/plain": [
       "True"
      ]
     },
     "execution_count": 142,
     "metadata": {},
     "output_type": "execute_result"
    }
   ],
   "source": [
    "bool(5)"
   ]
  },
  {
   "cell_type": "code",
   "execution_count": 143,
   "id": "4168cdf1-11be-41e2-90e0-96fbe6e60d36",
   "metadata": {},
   "outputs": [
    {
     "data": {
      "text/plain": [
       "True"
      ]
     },
     "execution_count": 143,
     "metadata": {},
     "output_type": "execute_result"
    }
   ],
   "source": [
    "bool(3)"
   ]
  },
  {
   "cell_type": "code",
   "execution_count": 144,
   "id": "0ce16caa-83f3-4dd3-a05c-3485a86cddcd",
   "metadata": {},
   "outputs": [
    {
     "data": {
      "text/plain": [
       "-5"
      ]
     },
     "execution_count": 144,
     "metadata": {},
     "output_type": "execute_result"
    }
   ],
   "source": [
    "- a"
   ]
  },
  {
   "cell_type": "code",
   "execution_count": 145,
   "id": "3336ee66-5c06-4d27-b610-2b1120cb5f25",
   "metadata": {},
   "outputs": [
    {
     "data": {
      "text/plain": [
       "-3"
      ]
     },
     "execution_count": 145,
     "metadata": {},
     "output_type": "execute_result"
    }
   ],
   "source": [
    "-b\n"
   ]
  },
  {
   "cell_type": "code",
   "execution_count": 146,
   "id": "fbdf066a-b2de-4a45-9c64-7f39bf91a00a",
   "metadata": {},
   "outputs": [
    {
     "data": {
      "text/plain": [
       "-6"
      ]
     },
     "execution_count": 146,
     "metadata": {},
     "output_type": "execute_result"
    }
   ],
   "source": [
    "~a"
   ]
  },
  {
   "cell_type": "code",
   "execution_count": 147,
   "id": "75f2615d-7cc3-4405-be38-a671b9f34bfc",
   "metadata": {},
   "outputs": [
    {
     "data": {
      "text/plain": [
       "-4"
      ]
     },
     "execution_count": 147,
     "metadata": {},
     "output_type": "execute_result"
    }
   ],
   "source": [
    "~b\n"
   ]
  },
  {
   "cell_type": "markdown",
   "id": "d8948dc5-be05-4689-acfe-774d5416eb21",
   "metadata": {},
   "source": [
    "comparison operators"
   ]
  },
  {
   "cell_type": "code",
   "execution_count": 149,
   "id": "45c94321-eca9-4df9-b9fd-fb3b412fe0ef",
   "metadata": {},
   "outputs": [],
   "source": [
    "a=b"
   ]
  },
  {
   "cell_type": "code",
   "execution_count": 150,
   "id": "9822ea34-360c-44d7-9c66-32f1d254e976",
   "metadata": {},
   "outputs": [
    {
     "data": {
      "text/plain": [
       "True"
      ]
     },
     "execution_count": 150,
     "metadata": {},
     "output_type": "execute_result"
    }
   ],
   "source": [
    "a==b"
   ]
  },
  {
   "cell_type": "code",
   "execution_count": 151,
   "id": "876d699c-fe3e-41a5-96e3-09865a0f2fc0",
   "metadata": {},
   "outputs": [
    {
     "data": {
      "text/plain": [
       "False"
      ]
     },
     "execution_count": 151,
     "metadata": {},
     "output_type": "execute_result"
    }
   ],
   "source": [
    "a>b"
   ]
  },
  {
   "cell_type": "code",
   "execution_count": 152,
   "id": "7bfbf24b-3c50-43ba-8987-5515df60465c",
   "metadata": {},
   "outputs": [
    {
     "data": {
      "text/plain": [
       "False"
      ]
     },
     "execution_count": 152,
     "metadata": {},
     "output_type": "execute_result"
    }
   ],
   "source": [
    "a<b"
   ]
  },
  {
   "cell_type": "code",
   "execution_count": 153,
   "id": "cf7da0b1-65be-40d2-b2c1-cf800f52a1ab",
   "metadata": {},
   "outputs": [
    {
     "data": {
      "text/plain": [
       "True"
      ]
     },
     "execution_count": 153,
     "metadata": {},
     "output_type": "execute_result"
    }
   ],
   "source": [
    "a<=b"
   ]
  },
  {
   "cell_type": "code",
   "execution_count": 154,
   "id": "4028c52d-cd0b-4e16-b403-e08904c83b90",
   "metadata": {},
   "outputs": [
    {
     "data": {
      "text/plain": [
       "True"
      ]
     },
     "execution_count": 154,
     "metadata": {},
     "output_type": "execute_result"
    }
   ],
   "source": [
    "a>=b\n"
   ]
  },
  {
   "cell_type": "code",
   "execution_count": 155,
   "id": "793a7fdb-69c5-45b2-bc5e-94703155cf1b",
   "metadata": {},
   "outputs": [
    {
     "data": {
      "text/plain": [
       "True"
      ]
     },
     "execution_count": 155,
     "metadata": {},
     "output_type": "execute_result"
    }
   ],
   "source": [
    "a is b"
   ]
  },
  {
   "cell_type": "markdown",
   "id": "f35daa89-03a4-4aa0-a60c-5bffe1b6f857",
   "metadata": {},
   "source": [
    "assignment operator"
   ]
  },
  {
   "cell_type": "code",
   "execution_count": 157,
   "id": "29cf8a19-2f3c-4620-9c1c-67ba3d4a2c79",
   "metadata": {},
   "outputs": [],
   "source": [
    "a-=b"
   ]
  },
  {
   "cell_type": "code",
   "execution_count": 158,
   "id": "535cb3b0-94d3-478b-8e33-e340623c83d2",
   "metadata": {},
   "outputs": [
    {
     "data": {
      "text/plain": [
       "0"
      ]
     },
     "execution_count": 158,
     "metadata": {},
     "output_type": "execute_result"
    }
   ],
   "source": [
    "a"
   ]
  },
  {
   "cell_type": "code",
   "execution_count": 159,
   "id": "61d42815-e2ec-4eb5-878a-469124631800",
   "metadata": {},
   "outputs": [],
   "source": [
    "a+=b"
   ]
  },
  {
   "cell_type": "code",
   "execution_count": 160,
   "id": "2adcaa23-1a60-4682-8fb0-29d75a197a4c",
   "metadata": {},
   "outputs": [
    {
     "data": {
      "text/plain": [
       "3"
      ]
     },
     "execution_count": 160,
     "metadata": {},
     "output_type": "execute_result"
    }
   ],
   "source": [
    "a"
   ]
  },
  {
   "cell_type": "markdown",
   "id": "a3be61e8-734b-4a8b-a33d-7f87463fd8dd",
   "metadata": {},
   "source": [
    "membership operator"
   ]
  },
  {
   "cell_type": "code",
   "execution_count": 161,
   "id": "20a8fdde-135c-4aaf-bcf6-bf43493f1103",
   "metadata": {},
   "outputs": [
    {
     "data": {
      "text/plain": [
       "'Python is easy and Fun'"
      ]
     },
     "execution_count": 161,
     "metadata": {},
     "output_type": "execute_result"
    }
   ],
   "source": [
    "sent"
   ]
  },
  {
   "cell_type": "code",
   "execution_count": 163,
   "id": "149c9a7d-1dcb-4850-a9a0-4aedd3972374",
   "metadata": {},
   "outputs": [
    {
     "data": {
      "text/plain": [
       "True"
      ]
     },
     "execution_count": 163,
     "metadata": {},
     "output_type": "execute_result"
    }
   ],
   "source": [
    "'Python' in sent"
   ]
  },
  {
   "cell_type": "code",
   "execution_count": 165,
   "id": "20e57232-791b-412c-906a-57767bd248cc",
   "metadata": {},
   "outputs": [
    {
     "data": {
      "text/plain": [
       "False"
      ]
     },
     "execution_count": 165,
     "metadata": {},
     "output_type": "execute_result"
    }
   ],
   "source": [
    "'Python' not in sent"
   ]
  },
  {
   "cell_type": "code",
   "execution_count": null,
   "id": "7a2c00b9-769d-4d07-b863-14c98192ed67",
   "metadata": {},
   "outputs": [],
   "source": []
  }
 ],
 "metadata": {
  "kernelspec": {
   "display_name": "Python [conda env:base] *",
   "language": "python",
   "name": "conda-base-py"
  },
  "language_info": {
   "codemirror_mode": {
    "name": "ipython",
    "version": 3
   },
   "file_extension": ".py",
   "mimetype": "text/x-python",
   "name": "python",
   "nbconvert_exporter": "python",
   "pygments_lexer": "ipython3",
   "version": "3.13.5"
  }
 },
 "nbformat": 4,
 "nbformat_minor": 5
}
