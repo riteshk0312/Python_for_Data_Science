{
 "cells": [
  {
   "cell_type": "markdown",
   "id": "85ce2c2b-7596-4b62-b040-0438c17b92ef",
   "metadata": {},
   "source": [
    "# List"
   ]
  },
  {
   "cell_type": "markdown",
   "id": "8ce80481-eef6-40f5-8652-724beca4ae71",
   "metadata": {},
   "source": [
    "# we create list using []"
   ]
  },
  {
   "cell_type": "code",
   "execution_count": 1,
   "id": "12b40ce3-ca28-4215-88aa-d66799210754",
   "metadata": {},
   "outputs": [],
   "source": [
    "my_list=[1,'Name',True,3.5]"
   ]
  },
  {
   "cell_type": "code",
   "execution_count": 3,
   "id": "57f3b9c5-a503-4afe-a039-81a416c65d28",
   "metadata": {},
   "outputs": [
    {
     "data": {
      "text/plain": [
       "list"
      ]
     },
     "execution_count": 3,
     "metadata": {},
     "output_type": "execute_result"
    }
   ],
   "source": [
    "type(my_list)"
   ]
  },
  {
   "cell_type": "code",
   "execution_count": 4,
   "id": "9f8c86fb-af5c-4f97-9d6b-ac5f1aec6b51",
   "metadata": {},
   "outputs": [
    {
     "name": "stdout",
     "output_type": "stream",
     "text": [
      "[1, 'Name', True, 3.5]\n"
     ]
    }
   ],
   "source": [
    "print(my_list)"
   ]
  },
  {
   "cell_type": "code",
   "execution_count": 5,
   "id": "49c5bf66-4f9a-43eb-a498-f87648aaa439",
   "metadata": {},
   "outputs": [],
   "source": [
    "another_list=[2,4.5,False,[1,'Name',True,my_list]]"
   ]
  },
  {
   "cell_type": "code",
   "execution_count": 6,
   "id": "e624e854-b628-4c94-9fec-9af468df2395",
   "metadata": {},
   "outputs": [
    {
     "name": "stdout",
     "output_type": "stream",
     "text": [
      "[2, 4.5, False, [1, 'Name', True, [1, 'Name', True, 3.5]]]\n"
     ]
    }
   ],
   "source": [
    "print(another_list)"
   ]
  },
  {
   "cell_type": "code",
   "execution_count": 7,
   "id": "bba58255-9053-4c4e-badc-39cc483498a0",
   "metadata": {},
   "outputs": [],
   "source": [
    "# empty list"
   ]
  },
  {
   "cell_type": "code",
   "execution_count": 8,
   "id": "31d84eae-39ac-4ec0-b0d8-9330ed715944",
   "metadata": {},
   "outputs": [
    {
     "data": {
      "text/plain": [
       "list"
      ]
     },
     "execution_count": 8,
     "metadata": {},
     "output_type": "execute_result"
    }
   ],
   "source": [
    "empty_list=[]\n",
    "type(empty_list)"
   ]
  },
  {
   "cell_type": "code",
   "execution_count": 9,
   "id": "173df9ae-2dc4-47d9-b2c6-96720d357261",
   "metadata": {},
   "outputs": [
    {
     "name": "stdout",
     "output_type": "stream",
     "text": [
      "[]\n"
     ]
    }
   ],
   "source": [
    "print(empty_list)"
   ]
  },
  {
   "cell_type": "markdown",
   "id": "91287fe0-1fbf-4dee-9190-3cbe2fe12100",
   "metadata": {},
   "source": [
    "# Mixed List"
   ]
  },
  {
   "cell_type": "code",
   "execution_count": 10,
   "id": "81db021e-3495-4008-b3d3-37dade343c66",
   "metadata": {},
   "outputs": [],
   "source": [
    "mixed_list=[1,'two',3.0,[4,5,6],False]"
   ]
  },
  {
   "cell_type": "markdown",
   "id": "bdaf9930-8179-4290-be18-4293a5376e38",
   "metadata": {},
   "source": [
    "# Operation on lists"
   ]
  },
  {
   "cell_type": "markdown",
   "id": "8c765d41-d533-448a-b490-771e320808cd",
   "metadata": {},
   "source": [
    "### Addition"
   ]
  },
  {
   "cell_type": "code",
   "execution_count": 11,
   "id": "ae99b778-2ab1-4120-aa42-85462210900a",
   "metadata": {},
   "outputs": [],
   "source": [
    "# append"
   ]
  },
  {
   "cell_type": "code",
   "execution_count": 12,
   "id": "cd8a38ab-dfcf-4a1f-bbbf-26adc6a4b32f",
   "metadata": {},
   "outputs": [],
   "source": [
    "mixed_list.append(99)"
   ]
  },
  {
   "cell_type": "code",
   "execution_count": 13,
   "id": "4918d5d8-fa66-402e-8d42-812c1792410d",
   "metadata": {},
   "outputs": [
    {
     "name": "stdout",
     "output_type": "stream",
     "text": [
      "[1, 'two', 3.0, [4, 5, 6], False, 99]\n"
     ]
    }
   ],
   "source": [
    "print(mixed_list)"
   ]
  },
  {
   "cell_type": "code",
   "execution_count": 15,
   "id": "698b2f88-6538-484a-a540-976c215e3942",
   "metadata": {},
   "outputs": [],
   "source": [
    "lis1=[250,260,270]"
   ]
  },
  {
   "cell_type": "code",
   "execution_count": 16,
   "id": "beed9f46-7ef7-4447-8d92-ab14897c17de",
   "metadata": {},
   "outputs": [
    {
     "name": "stdout",
     "output_type": "stream",
     "text": [
      "[250, 260, 270]\n"
     ]
    }
   ],
   "source": [
    "print(lis1)"
   ]
  },
  {
   "cell_type": "code",
   "execution_count": 17,
   "id": "0884f4af-6f10-4183-8523-b8f9ae9f9412",
   "metadata": {},
   "outputs": [],
   "source": [
    "mixed_list.extend(lis1)"
   ]
  },
  {
   "cell_type": "code",
   "execution_count": 18,
   "id": "0f7a2fc5-643a-4099-8da8-e4427f44817f",
   "metadata": {},
   "outputs": [
    {
     "name": "stdout",
     "output_type": "stream",
     "text": [
      "[1, 'two', 3.0, [4, 5, 6], False, 99, 250, 260, 270]\n"
     ]
    }
   ],
   "source": [
    "print(mixed_list)"
   ]
  },
  {
   "cell_type": "code",
   "execution_count": 19,
   "id": "8154ad16-2bc6-4b3c-bb98-6057879ddf1d",
   "metadata": {},
   "outputs": [],
   "source": [
    "# Insert"
   ]
  },
  {
   "cell_type": "code",
   "execution_count": 20,
   "id": "32a0362e-b7c8-4bc9-ac28-9e771140d4dd",
   "metadata": {},
   "outputs": [],
   "source": [
    "mixed_list.insert(3,8888)"
   ]
  },
  {
   "cell_type": "code",
   "execution_count": 21,
   "id": "a8428d9d-75ba-4130-8ba8-fb1010bd0c3c",
   "metadata": {},
   "outputs": [
    {
     "name": "stdout",
     "output_type": "stream",
     "text": [
      "[1, 'two', 3.0, 8888, [4, 5, 6], False, 99, 250, 260, 270]\n"
     ]
    }
   ],
   "source": [
    "print(mixed_list)"
   ]
  },
  {
   "cell_type": "code",
   "execution_count": 22,
   "id": "850a9675-c430-4833-b7fe-7548817cb5d5",
   "metadata": {},
   "outputs": [],
   "source": [
    "l1=[1,2,3]"
   ]
  },
  {
   "cell_type": "code",
   "execution_count": 23,
   "id": "43419bcb-86a4-4cec-a8b1-54dc7b97e535",
   "metadata": {},
   "outputs": [],
   "source": [
    "l2=[4,5,6]"
   ]
  },
  {
   "cell_type": "code",
   "execution_count": 24,
   "id": "de453427-4d31-48ba-a368-6c2805dea954",
   "metadata": {},
   "outputs": [],
   "source": [
    "l3=l1+l2"
   ]
  },
  {
   "cell_type": "code",
   "execution_count": 25,
   "id": "8046438b-50ca-4b2b-89c0-da3c14d39752",
   "metadata": {},
   "outputs": [
    {
     "name": "stdout",
     "output_type": "stream",
     "text": [
      "[1, 2, 3, 4, 5, 6]\n"
     ]
    }
   ],
   "source": [
    "print(l3)"
   ]
  },
  {
   "cell_type": "markdown",
   "id": "25693c2c-b7d3-4dfe-9650-879457dd3b41",
   "metadata": {},
   "source": [
    "### Remove"
   ]
  },
  {
   "cell_type": "code",
   "execution_count": 26,
   "id": "c59df9dd-d9bf-44f2-a18f-c40a3bec5b68",
   "metadata": {},
   "outputs": [
    {
     "data": {
      "text/plain": [
       "[1, 'two', 3.0, 8888, [4, 5, 6], False, 99, 250, 260, 270]"
      ]
     },
     "execution_count": 26,
     "metadata": {},
     "output_type": "execute_result"
    }
   ],
   "source": [
    "mixed_list"
   ]
  },
  {
   "cell_type": "code",
   "execution_count": 27,
   "id": "7f2dacc5-3ff9-4778-8843-90b29977458c",
   "metadata": {},
   "outputs": [],
   "source": [
    "# remove"
   ]
  },
  {
   "cell_type": "code",
   "execution_count": 28,
   "id": "66285f88-4c9c-4bb5-ace6-2538e1085abd",
   "metadata": {},
   "outputs": [
    {
     "ename": "ValueError",
     "evalue": "list.remove(x): x not in list",
     "output_type": "error",
     "traceback": [
      "\u001b[1;31m---------------------------------------------------------------------------\u001b[0m",
      "\u001b[1;31mValueError\u001b[0m                                Traceback (most recent call last)",
      "Cell \u001b[1;32mIn[28], line 1\u001b[0m\n\u001b[1;32m----> 1\u001b[0m mixed_list\u001b[38;5;241m.\u001b[39mremove(\u001b[38;5;124m'\u001b[39m\u001b[38;5;124mpankaj\u001b[39m\u001b[38;5;124m'\u001b[39m)\n",
      "\u001b[1;31mValueError\u001b[0m: list.remove(x): x not in list"
     ]
    }
   ],
   "source": [
    "mixed_list.remove('pankaj')"
   ]
  },
  {
   "cell_type": "code",
   "execution_count": 30,
   "id": "ae2042d6-aaf4-4b0d-9cbf-816cf31c90d2",
   "metadata": {},
   "outputs": [
    {
     "ename": "ValueError",
     "evalue": "list.remove(x): x not in list",
     "output_type": "error",
     "traceback": [
      "\u001b[1;31m---------------------------------------------------------------------------\u001b[0m",
      "\u001b[1;31mValueError\u001b[0m                                Traceback (most recent call last)",
      "Cell \u001b[1;32mIn[30], line 1\u001b[0m\n\u001b[1;32m----> 1\u001b[0m mixed_list\u001b[38;5;241m.\u001b[39mremove(\u001b[38;5;241m5\u001b[39m)\n",
      "\u001b[1;31mValueError\u001b[0m: list.remove(x): x not in list"
     ]
    }
   ],
   "source": [
    "mixed_list.remove(5)"
   ]
  },
  {
   "cell_type": "code",
   "execution_count": 31,
   "id": "ccc802cc-3f97-4c2f-b04a-fc166e5674be",
   "metadata": {},
   "outputs": [],
   "source": [
    "# pop - Index"
   ]
  },
  {
   "cell_type": "code",
   "execution_count": 32,
   "id": "a40d8b35-03f0-417b-9f1f-ebeb5969b261",
   "metadata": {},
   "outputs": [
    {
     "data": {
      "text/plain": [
       "270"
      ]
     },
     "execution_count": 32,
     "metadata": {},
     "output_type": "execute_result"
    }
   ],
   "source": [
    "mixed_list.pop()"
   ]
  },
  {
   "cell_type": "code",
   "execution_count": 33,
   "id": "1372c0f2-d4b0-4e67-a3ed-37eb18c92609",
   "metadata": {},
   "outputs": [
    {
     "data": {
      "text/plain": [
       "[1, 'two', 3.0, 8888, [4, 5, 6], False, 99, 250, 260]"
      ]
     },
     "execution_count": 33,
     "metadata": {},
     "output_type": "execute_result"
    }
   ],
   "source": [
    "mixed_list"
   ]
  },
  {
   "cell_type": "code",
   "execution_count": 34,
   "id": "041115c4-b4cb-4a09-869a-4987ab1aa571",
   "metadata": {},
   "outputs": [
    {
     "data": {
      "text/plain": [
       "1"
      ]
     },
     "execution_count": 34,
     "metadata": {},
     "output_type": "execute_result"
    }
   ],
   "source": [
    "mixed_list.pop(0)"
   ]
  },
  {
   "cell_type": "code",
   "execution_count": 35,
   "id": "9e17293f-4b67-4a91-ae9e-16b7ebcc45b0",
   "metadata": {},
   "outputs": [
    {
     "data": {
      "text/plain": [
       "['two', 3.0, 8888, [4, 5, 6], False, 99, 250, 260]"
      ]
     },
     "execution_count": 35,
     "metadata": {},
     "output_type": "execute_result"
    }
   ],
   "source": [
    "mixed_list"
   ]
  },
  {
   "cell_type": "code",
   "execution_count": 36,
   "id": "8d2da865-f215-4279-b9bd-9f15f46ed416",
   "metadata": {},
   "outputs": [],
   "source": [
    "# Del"
   ]
  },
  {
   "cell_type": "code",
   "execution_count": 37,
   "id": "4cd5099c-1a84-46a0-839f-660c8b8a24c0",
   "metadata": {},
   "outputs": [],
   "source": [
    "del mixed_list[2]"
   ]
  },
  {
   "cell_type": "code",
   "execution_count": 38,
   "id": "fc4dc496-a5e4-464c-8ae6-9cc66eee09b2",
   "metadata": {},
   "outputs": [
    {
     "data": {
      "text/plain": [
       "['two', 3.0, [4, 5, 6], False, 99, 250, 260]"
      ]
     },
     "execution_count": 38,
     "metadata": {},
     "output_type": "execute_result"
    }
   ],
   "source": [
    "mixed_list"
   ]
  },
  {
   "cell_type": "markdown",
   "id": "e428d2c4-301f-428e-aa91-8dc76d7558db",
   "metadata": {},
   "source": [
    "## 3. Update "
   ]
  },
  {
   "cell_type": "code",
   "execution_count": 40,
   "id": "1d4e4a40-293e-4744-90b1-1715d2f98e8e",
   "metadata": {},
   "outputs": [
    {
     "data": {
      "text/plain": [
       "['two', 3.0, [4, 5, 6], False, 99, 250, 260]"
      ]
     },
     "execution_count": 40,
     "metadata": {},
     "output_type": "execute_result"
    }
   ],
   "source": [
    "mixed_list"
   ]
  },
  {
   "cell_type": "code",
   "execution_count": 42,
   "id": "3f12a2da-f056-42ea-bd26-526661f99a51",
   "metadata": {},
   "outputs": [
    {
     "data": {
      "text/plain": [
       "3.0"
      ]
     },
     "execution_count": 42,
     "metadata": {},
     "output_type": "execute_result"
    }
   ],
   "source": [
    "mixed_list[1]"
   ]
  },
  {
   "cell_type": "code",
   "execution_count": 44,
   "id": "eca699c6-87a8-4f23-af4a-67ebf7447eb1",
   "metadata": {},
   "outputs": [],
   "source": [
    "mixed_list[1]='Three'"
   ]
  },
  {
   "cell_type": "code",
   "execution_count": 45,
   "id": "90798eb0-8ee2-4795-bf75-7859a156d3fa",
   "metadata": {},
   "outputs": [
    {
     "name": "stdout",
     "output_type": "stream",
     "text": [
      "['two', 'Three', [4, 5, 6], False, 99, 250, 260]\n"
     ]
    }
   ],
   "source": [
    "print(mixed_list)"
   ]
  },
  {
   "cell_type": "markdown",
   "id": "cffff155-04de-4e2b-9da8-192123690c99",
   "metadata": {},
   "source": [
    "# Common Operations"
   ]
  },
  {
   "cell_type": "code",
   "execution_count": 47,
   "id": "a3e2b2fd-5474-4e41-8a26-40f89b5f4da5",
   "metadata": {},
   "outputs": [
    {
     "data": {
      "text/plain": [
       "True"
      ]
     },
     "execution_count": 47,
     "metadata": {},
     "output_type": "execute_result"
    }
   ],
   "source": [
    "'Three' in mixed_list"
   ]
  },
  {
   "cell_type": "code",
   "execution_count": 48,
   "id": "2f869887-f45d-4bfa-bf4d-c7e98771b33a",
   "metadata": {},
   "outputs": [
    {
     "data": {
      "text/plain": [
       "False"
      ]
     },
     "execution_count": 48,
     "metadata": {},
     "output_type": "execute_result"
    }
   ],
   "source": [
    "'three' in mixed_list"
   ]
  },
  {
   "cell_type": "markdown",
   "id": "6bc41aa1-9400-4576-8f9d-ab970062a002",
   "metadata": {},
   "source": [
    "# Length"
   ]
  },
  {
   "cell_type": "code",
   "execution_count": 49,
   "id": "41964dc1-13a0-4791-93ec-6a8744664eec",
   "metadata": {},
   "outputs": [
    {
     "data": {
      "text/plain": [
       "7"
      ]
     },
     "execution_count": 49,
     "metadata": {},
     "output_type": "execute_result"
    }
   ],
   "source": [
    "len(mixed_list)"
   ]
  },
  {
   "cell_type": "markdown",
   "id": "8565a56d-af18-4890-950a-f1cb2ac17e24",
   "metadata": {},
   "source": [
    "# List manipulation Techniques"
   ]
  },
  {
   "cell_type": "markdown",
   "id": "f43416dd-b353-4d70-a962-a044edccf7a3",
   "metadata": {},
   "source": [
    "# Reverse"
   ]
  },
  {
   "cell_type": "code",
   "execution_count": 52,
   "id": "84689128-9293-49a9-b530-c3724ab4f878",
   "metadata": {},
   "outputs": [],
   "source": [
    "List1=[5,7,1,99,23,45]"
   ]
  },
  {
   "cell_type": "code",
   "execution_count": 53,
   "id": "10604e91-4c74-40cf-828a-9a465ebfa982",
   "metadata": {},
   "outputs": [
    {
     "name": "stdout",
     "output_type": "stream",
     "text": [
      "[250, 260, 270]\n"
     ]
    }
   ],
   "source": [
    "print(list1)"
   ]
  },
  {
   "cell_type": "code",
   "execution_count": 55,
   "id": "82fd07c5-75b0-46cb-a394-7d2ac2037101",
   "metadata": {},
   "outputs": [
    {
     "data": {
      "text/plain": [
       "99"
      ]
     },
     "execution_count": 55,
     "metadata": {},
     "output_type": "execute_result"
    }
   ],
   "source": [
    "List1[3]"
   ]
  },
  {
   "cell_type": "code",
   "execution_count": 56,
   "id": "ddd3ce7e-aabf-44a4-a284-e23d8e9443f6",
   "metadata": {},
   "outputs": [],
   "source": [
    "List1.reverse()"
   ]
  },
  {
   "cell_type": "code",
   "execution_count": 57,
   "id": "cc897b25-f032-44c6-a507-9da596471407",
   "metadata": {},
   "outputs": [
    {
     "name": "stdout",
     "output_type": "stream",
     "text": [
      "[250, 260, 270]\n"
     ]
    }
   ],
   "source": [
    "print(list1)"
   ]
  },
  {
   "cell_type": "markdown",
   "id": "20b346b0-38ee-4ea9-84de-9693f4112b5a",
   "metadata": {},
   "source": [
    "# 2. Sorting"
   ]
  },
  {
   "cell_type": "code",
   "execution_count": 59,
   "id": "41225d4b-1f81-4378-ba20-fe4b72d660af",
   "metadata": {},
   "outputs": [
    {
     "data": {
      "text/plain": [
       "[45, 23, 99, 1, 7, 5]"
      ]
     },
     "execution_count": 59,
     "metadata": {},
     "output_type": "execute_result"
    }
   ],
   "source": [
    "List1"
   ]
  },
  {
   "cell_type": "code",
   "execution_count": 60,
   "id": "325b4b8f-be34-474c-a34b-c4c0c9950cff",
   "metadata": {},
   "outputs": [],
   "source": [
    "List1.sort() # ascending"
   ]
  },
  {
   "cell_type": "code",
   "execution_count": 61,
   "id": "bb2e4a4c-164b-4711-8321-4f1df272f0c8",
   "metadata": {},
   "outputs": [
    {
     "name": "stdout",
     "output_type": "stream",
     "text": [
      "[1, 5, 7, 23, 45, 99]\n"
     ]
    }
   ],
   "source": [
    "print(List1)"
   ]
  },
  {
   "cell_type": "code",
   "execution_count": 66,
   "id": "d130b0ab-8de9-40ef-a650-74510f660934",
   "metadata": {},
   "outputs": [],
   "source": [
    "List1.sort(reverse=True)  #descending"
   ]
  },
  {
   "cell_type": "code",
   "execution_count": 67,
   "id": "5110c302-40d0-4fe8-a3be-72d2a44bc89c",
   "metadata": {},
   "outputs": [
    {
     "name": "stdout",
     "output_type": "stream",
     "text": [
      "[99, 45, 23, 7, 5, 1]\n"
     ]
    }
   ],
   "source": [
    "print(List1)"
   ]
  },
  {
   "cell_type": "markdown",
   "id": "8cabfc83-23c9-4e65-aec9-91d492a813da",
   "metadata": {},
   "source": [
    "# 3. copy"
   ]
  },
  {
   "cell_type": "code",
   "execution_count": 73,
   "id": "73981720-c4b3-4db1-b3f5-8bc4b5a17d4a",
   "metadata": {},
   "outputs": [],
   "source": [
    "original_list=[1,2,3]"
   ]
  },
  {
   "cell_type": "code",
   "execution_count": 74,
   "id": "3209d470-c83b-4fda-8e22-48f0204b4516",
   "metadata": {},
   "outputs": [],
   "source": [
    "temp1=original_list #(hard copy)"
   ]
  },
  {
   "cell_type": "code",
   "execution_count": 75,
   "id": "bb21c119-0619-4d8b-ad6f-23beba94c71e",
   "metadata": {},
   "outputs": [
    {
     "name": "stdout",
     "output_type": "stream",
     "text": [
      "[1, 2, 3]\n"
     ]
    }
   ],
   "source": [
    "print(temp1)"
   ]
  },
  {
   "cell_type": "code",
   "execution_count": 82,
   "id": "0fea22a4-c33d-41ee-81c1-c8968005a241",
   "metadata": {},
   "outputs": [],
   "source": [
    "temp2=original_list.copy() #shallow copy"
   ]
  },
  {
   "cell_type": "code",
   "execution_count": 77,
   "id": "6e59661e-c59c-4cfd-90cd-eace456f269c",
   "metadata": {},
   "outputs": [
    {
     "name": "stdout",
     "output_type": "stream",
     "text": [
      "[1, 2, 3]\n"
     ]
    }
   ],
   "source": [
    "print(temp2)"
   ]
  },
  {
   "cell_type": "code",
   "execution_count": 78,
   "id": "4a4c4576-4eda-4546-a503-8089aab18750",
   "metadata": {},
   "outputs": [],
   "source": [
    "original_list.append('Apple')"
   ]
  },
  {
   "cell_type": "code",
   "execution_count": 79,
   "id": "147da0d6-4e02-42fd-90b0-bb3f242a17ad",
   "metadata": {},
   "outputs": [
    {
     "data": {
      "text/plain": [
       "[1, 2, 3, 'Apple']"
      ]
     },
     "execution_count": 79,
     "metadata": {},
     "output_type": "execute_result"
    }
   ],
   "source": [
    "original_list"
   ]
  },
  {
   "cell_type": "code",
   "execution_count": 80,
   "id": "df8a71ae-a813-4db1-bd3e-20d63473e51b",
   "metadata": {},
   "outputs": [
    {
     "data": {
      "text/plain": [
       "[1, 2, 3, 'Apple']"
      ]
     },
     "execution_count": 80,
     "metadata": {},
     "output_type": "execute_result"
    }
   ],
   "source": [
    "temp1\n"
   ]
  },
  {
   "cell_type": "code",
   "execution_count": 81,
   "id": "50015dd8-9785-476d-b515-a25004a42d19",
   "metadata": {},
   "outputs": [
    {
     "data": {
      "text/plain": [
       "[1, 2, 3]"
      ]
     },
     "execution_count": 81,
     "metadata": {},
     "output_type": "execute_result"
    }
   ],
   "source": [
    "temp2"
   ]
  },
  {
   "cell_type": "code",
   "execution_count": 83,
   "id": "bfedcedd-6aaa-4ccf-8a45-88945e05a0bb",
   "metadata": {},
   "outputs": [
    {
     "data": {
      "text/plain": [
       "'Apple'"
      ]
     },
     "execution_count": 83,
     "metadata": {},
     "output_type": "execute_result"
    }
   ],
   "source": [
    "temp1.pop()"
   ]
  },
  {
   "cell_type": "code",
   "execution_count": 84,
   "id": "fa213960-3d0f-47dc-9995-69965c0ddd8b",
   "metadata": {},
   "outputs": [
    {
     "data": {
      "text/plain": [
       "[1, 2, 3]"
      ]
     },
     "execution_count": 84,
     "metadata": {},
     "output_type": "execute_result"
    }
   ],
   "source": [
    "temp1"
   ]
  },
  {
   "cell_type": "code",
   "execution_count": 85,
   "id": "6d7954d2-df89-4c80-addf-dd76c351674e",
   "metadata": {},
   "outputs": [
    {
     "data": {
      "text/plain": [
       "[1, 2, 3]"
      ]
     },
     "execution_count": 85,
     "metadata": {},
     "output_type": "execute_result"
    }
   ],
   "source": [
    "original_list\n"
   ]
  },
  {
   "cell_type": "markdown",
   "id": "b3f02755-1186-4a19-8c47-eb8a0c422dcb",
   "metadata": {},
   "source": [
    "# List Constructor"
   ]
  },
  {
   "cell_type": "code",
   "execution_count": 87,
   "id": "f4b73bbc-6c41-40fe-bb0e-6efc942b8ef4",
   "metadata": {},
   "outputs": [],
   "source": [
    "new_list=[1,2,3,4,5] # List creation"
   ]
  },
  {
   "cell_type": "code",
   "execution_count": 88,
   "id": "5ffb8c3c-86eb-4aa0-9511-09857a3b8f5a",
   "metadata": {},
   "outputs": [],
   "source": [
    "fruit=list(['apple','kiwi'])"
   ]
  },
  {
   "cell_type": "code",
   "execution_count": 89,
   "id": "52b9410f-63d3-42bf-b2fb-3e3f5cba0b42",
   "metadata": {},
   "outputs": [
    {
     "name": "stdout",
     "output_type": "stream",
     "text": [
      "['apple', 'kiwi']\n"
     ]
    }
   ],
   "source": [
    "print(fruit)"
   ]
  },
  {
   "cell_type": "markdown",
   "id": "6e99ab37-02c3-48c0-8ac7-23ee5c24eb21",
   "metadata": {},
   "source": [
    "# count"
   ]
  },
  {
   "cell_type": "code",
   "execution_count": 90,
   "id": "895a37ac-6f26-4c4c-afd1-40eb4b16f06a",
   "metadata": {},
   "outputs": [],
   "source": [
    "my_list=[1,2,2,3,3,3,5,2,3,7,8,8,8]"
   ]
  },
  {
   "cell_type": "code",
   "execution_count": 91,
   "id": "8cbd808e-0455-429c-a6a3-6c03edd1386b",
   "metadata": {},
   "outputs": [
    {
     "name": "stdout",
     "output_type": "stream",
     "text": [
      "[1, 2, 2, 3, 3, 3, 5, 2, 3, 7, 8, 8, 8]\n"
     ]
    }
   ],
   "source": [
    "print(my_list)"
   ]
  },
  {
   "cell_type": "code",
   "execution_count": 92,
   "id": "b6c35309-1978-4e52-8f19-dfd591e1159e",
   "metadata": {},
   "outputs": [],
   "source": [
    "count_of_2=my_list.count(2)"
   ]
  },
  {
   "cell_type": "code",
   "execution_count": 93,
   "id": "29968cc7-9cdb-43e6-8af3-10fb17502f75",
   "metadata": {},
   "outputs": [
    {
     "name": "stdout",
     "output_type": "stream",
     "text": [
      "3\n"
     ]
    }
   ],
   "source": [
    "print(count_of_2)"
   ]
  },
  {
   "cell_type": "code",
   "execution_count": 94,
   "id": "5fbf1e12-0170-473f-b2b2-ac2be7484bae",
   "metadata": {},
   "outputs": [
    {
     "data": {
      "text/plain": [
       "0"
      ]
     },
     "execution_count": 94,
     "metadata": {},
     "output_type": "execute_result"
    }
   ],
   "source": [
    "my_list.count(99)"
   ]
  },
  {
   "cell_type": "markdown",
   "id": "c875dc1c-5215-412a-af1e-99943de884ab",
   "metadata": {},
   "source": [
    "# indexing in Python"
   ]
  },
  {
   "cell_type": "code",
   "execution_count": 101,
   "id": "eebc1fa4-bc29-4dfe-bde1-0c4bfe82881d",
   "metadata": {},
   "outputs": [],
   "source": [
    "my_list=['a','b','c','python',100,23,[99,999]]"
   ]
  },
  {
   "cell_type": "markdown",
   "id": "57dbc2ba-c3e0-4c95-b714-c62f26fcff99",
   "metadata": {},
   "source": [
    "## Positiive Indexing"
   ]
  },
  {
   "cell_type": "code",
   "execution_count": 96,
   "id": "740cfe3b-2857-4b5d-826d-51fd71f526aa",
   "metadata": {},
   "outputs": [
    {
     "data": {
      "text/plain": [
       "'python'"
      ]
     },
     "execution_count": 96,
     "metadata": {},
     "output_type": "execute_result"
    }
   ],
   "source": [
    "my_list[3]"
   ]
  },
  {
   "cell_type": "code",
   "execution_count": 98,
   "id": "bdea1f17-13b4-43f2-9efd-b2b130af3105",
   "metadata": {},
   "outputs": [
    {
     "data": {
      "text/plain": [
       "'a'"
      ]
     },
     "execution_count": 98,
     "metadata": {},
     "output_type": "execute_result"
    }
   ],
   "source": [
    "my_list[0]"
   ]
  },
  {
   "cell_type": "code",
   "execution_count": 99,
   "id": "bb256e71-0835-47f5-b3de-fe3099cbd25e",
   "metadata": {},
   "outputs": [
    {
     "data": {
      "text/plain": [
       "'a'"
      ]
     },
     "execution_count": 99,
     "metadata": {},
     "output_type": "execute_result"
    }
   ],
   "source": [
    "my_list[0]"
   ]
  },
  {
   "cell_type": "markdown",
   "id": "82b01791-2446-42a3-a734-9877c54a3080",
   "metadata": {},
   "source": [
    "## Negative Indexing"
   ]
  },
  {
   "cell_type": "code",
   "execution_count": 102,
   "id": "0b991c92-15e5-4ee3-b990-ceec1afc4d07",
   "metadata": {},
   "outputs": [
    {
     "data": {
      "text/plain": [
       "[99, 999]"
      ]
     },
     "execution_count": 102,
     "metadata": {},
     "output_type": "execute_result"
    }
   ],
   "source": [
    "my_list[-1]"
   ]
  },
  {
   "cell_type": "code",
   "execution_count": 103,
   "id": "22962365-f5cb-47e1-b7cb-42c05b54f16e",
   "metadata": {},
   "outputs": [
    {
     "data": {
      "text/plain": [
       "'python'"
      ]
     },
     "execution_count": 103,
     "metadata": {},
     "output_type": "execute_result"
    }
   ],
   "source": [
    "my_list[-4]"
   ]
  },
  {
   "cell_type": "code",
   "execution_count": 104,
   "id": "165d50b6-6ff4-4a70-a7de-acbcc50adb9f",
   "metadata": {},
   "outputs": [],
   "source": [
    "# Print 999"
   ]
  },
  {
   "cell_type": "code",
   "execution_count": 105,
   "id": "4e4babb9-5111-4e61-8590-2eeb3cb86ab1",
   "metadata": {},
   "outputs": [],
   "source": [
    "a=my_list[-1]"
   ]
  },
  {
   "cell_type": "code",
   "execution_count": 106,
   "id": "9fbb4371-f171-4743-b656-4e294105bda4",
   "metadata": {},
   "outputs": [
    {
     "data": {
      "text/plain": [
       "999"
      ]
     },
     "execution_count": 106,
     "metadata": {},
     "output_type": "execute_result"
    }
   ],
   "source": [
    "a[-1]"
   ]
  },
  {
   "cell_type": "code",
   "execution_count": 107,
   "id": "05a7fd4a-8569-46ce-9cf6-f68a4f9b3268",
   "metadata": {},
   "outputs": [
    {
     "data": {
      "text/plain": [
       "[99, 999]"
      ]
     },
     "execution_count": 107,
     "metadata": {},
     "output_type": "execute_result"
    }
   ],
   "source": [
    "a\n"
   ]
  },
  {
   "cell_type": "code",
   "execution_count": 108,
   "id": "28c5efde-3bec-4422-b5a8-234434ad1cf1",
   "metadata": {},
   "outputs": [],
   "source": [
    "# chaining method"
   ]
  },
  {
   "cell_type": "code",
   "execution_count": 109,
   "id": "e45bfa55-756b-41aa-9fc0-707fa94f117d",
   "metadata": {},
   "outputs": [
    {
     "data": {
      "text/plain": [
       "999"
      ]
     },
     "execution_count": 109,
     "metadata": {},
     "output_type": "execute_result"
    }
   ],
   "source": [
    "my_list[-1][-1]"
   ]
  },
  {
   "cell_type": "markdown",
   "id": "740a548c-f5ea-4901-8f5d-b9a28e204234",
   "metadata": {},
   "source": [
    "# Slicing"
   ]
  },
  {
   "cell_type": "code",
   "execution_count": 115,
   "id": "4eb82de0-55d3-413f-8ea5-c06b3d250387",
   "metadata": {},
   "outputs": [],
   "source": [
    "# basic slicing"
   ]
  },
  {
   "cell_type": "code",
   "execution_count": 110,
   "id": "80a083c9-b4ad-4840-9f88-729547527051",
   "metadata": {},
   "outputs": [
    {
     "data": {
      "text/plain": [
       "['a', 'b', 'c', 'python', 100, 23, [99, 999]]"
      ]
     },
     "execution_count": 110,
     "metadata": {},
     "output_type": "execute_result"
    }
   ],
   "source": [
    "my_list"
   ]
  },
  {
   "cell_type": "code",
   "execution_count": 113,
   "id": "808f69a3-3af2-4247-a114-7a31e79b4220",
   "metadata": {},
   "outputs": [
    {
     "data": {
      "text/plain": [
       "[100, 23]"
      ]
     },
     "execution_count": 113,
     "metadata": {},
     "output_type": "execute_result"
    }
   ],
   "source": [
    "my_list[4:6] # [start index, stop index,step]"
   ]
  },
  {
   "cell_type": "code",
   "execution_count": 114,
   "id": "9e3bde72-d1f8-4e77-b9ae-c7eb8f300863",
   "metadata": {},
   "outputs": [
    {
     "data": {
      "text/plain": [
       "[100, 23]"
      ]
     },
     "execution_count": 114,
     "metadata": {},
     "output_type": "execute_result"
    }
   ],
   "source": [
    "my_list[4:6:1]"
   ]
  },
  {
   "cell_type": "code",
   "execution_count": 116,
   "id": "4e41e155-5992-4090-bbd4-e7cdffc56f37",
   "metadata": {},
   "outputs": [],
   "source": [
    "# Slicing with steps"
   ]
  },
  {
   "cell_type": "code",
   "execution_count": 117,
   "id": "fc0483b5-5174-4fac-872d-a55b4db0b2eb",
   "metadata": {},
   "outputs": [],
   "source": [
    "num = [0,1,2,3,4,5,6,7,8,9]"
   ]
  },
  {
   "cell_type": "code",
   "execution_count": 119,
   "id": "cd74786f-02bd-4aec-995d-d2f9c5975cea",
   "metadata": {},
   "outputs": [
    {
     "data": {
      "text/plain": [
       "[0, 2, 4, 6, 8]"
      ]
     },
     "execution_count": 119,
     "metadata": {},
     "output_type": "execute_result"
    }
   ],
   "source": [
    "num[::2]#even"
   ]
  },
  {
   "cell_type": "code",
   "execution_count": 126,
   "id": "b28d4334-4b3d-4425-bdbe-fe0878a8b1a3",
   "metadata": {},
   "outputs": [
    {
     "data": {
      "text/plain": [
       "[1, 3, 5, 7, 9]"
      ]
     },
     "execution_count": 126,
     "metadata": {},
     "output_type": "execute_result"
    }
   ],
   "source": [
    "num[1::2]#odd"
   ]
  },
  {
   "cell_type": "code",
   "execution_count": 122,
   "id": "6f7f89ee-27ae-42df-86af-b69f8d7f7ad8",
   "metadata": {},
   "outputs": [
    {
     "data": {
      "text/plain": [
       "7"
      ]
     },
     "execution_count": 122,
     "metadata": {},
     "output_type": "execute_result"
    }
   ],
   "source": [
    "num[-3] #negative index"
   ]
  },
  {
   "cell_type": "code",
   "execution_count": 125,
   "id": "02af55ad-8c54-459a-80e8-d5e75d8b4e29",
   "metadata": {},
   "outputs": [
    {
     "data": {
      "text/plain": [
       "[7, 8, 9]"
      ]
     },
     "execution_count": 125,
     "metadata": {},
     "output_type": "execute_result"
    }
   ],
   "source": [
    "num[-3:] # last 3 records"
   ]
  },
  {
   "cell_type": "code",
   "execution_count": 133,
   "id": "5e7f5028-0d5f-45df-901c-e4ef481f0871",
   "metadata": {},
   "outputs": [],
   "source": [
    "a=num[::-1]"
   ]
  },
  {
   "cell_type": "code",
   "execution_count": 134,
   "id": "ff556738-25be-43ab-bdd7-cdbbc16b76ac",
   "metadata": {},
   "outputs": [
    {
     "data": {
      "text/plain": [
       "[9, 8, 7, 6, 5, 4, 3, 2, 1, 0]"
      ]
     },
     "execution_count": 134,
     "metadata": {},
     "output_type": "execute_result"
    }
   ],
   "source": [
    "a"
   ]
  },
  {
   "cell_type": "code",
   "execution_count": 135,
   "id": "da7e61c4-1615-4b94-b2d1-d7197eb9a6ea",
   "metadata": {},
   "outputs": [],
   "source": [
    "#omited list"
   ]
  },
  {
   "cell_type": "code",
   "execution_count": 136,
   "id": "259aaacb-af11-496f-9b35-d2e37cd8d56c",
   "metadata": {},
   "outputs": [
    {
     "data": {
      "text/plain": [
       "[0, 1, 2, 3, 4, 5, 6, 7, 8, 9]"
      ]
     },
     "execution_count": 136,
     "metadata": {},
     "output_type": "execute_result"
    }
   ],
   "source": [
    "num[:]"
   ]
  },
  {
   "cell_type": "code",
   "execution_count": 137,
   "id": "18014124-71b5-4c3d-9f60-086bb0df4dac",
   "metadata": {},
   "outputs": [],
   "source": [
    "# update using slicing"
   ]
  },
  {
   "cell_type": "code",
   "execution_count": null,
   "id": "72f8a468-752f-4add-8a6e-fd86f45ae5a1",
   "metadata": {},
   "outputs": [],
   "source": []
  },
  {
   "cell_type": "code",
   "execution_count": 139,
   "id": "0ce6654c-d152-40f7-a000-f71be3aec50d",
   "metadata": {},
   "outputs": [
    {
     "name": "stdout",
     "output_type": "stream",
     "text": [
      "[0, 1, 2, 3, 4, 5, 6, 7, 8, 9]\n"
     ]
    }
   ],
   "source": [
    "print(num)"
   ]
  },
  {
   "cell_type": "code",
   "execution_count": null,
   "id": "586dd4b4-9198-437b-8e1f-2ec9b09f5f01",
   "metadata": {},
   "outputs": [],
   "source": []
  },
  {
   "cell_type": "code",
   "execution_count": 138,
   "id": "40ba6946-6050-41cf-9c2d-56c3e34e1ed2",
   "metadata": {},
   "outputs": [
    {
     "data": {
      "text/plain": [
       "[1, 2, 3, 4]"
      ]
     },
     "execution_count": 138,
     "metadata": {},
     "output_type": "execute_result"
    }
   ],
   "source": [
    "num[1:5]"
   ]
  },
  {
   "cell_type": "code",
   "execution_count": 140,
   "id": "4c3e14ee-c264-4360-b59d-5ffc44d23287",
   "metadata": {},
   "outputs": [],
   "source": [
    "num[1:5]=[11,22,33,44]"
   ]
  },
  {
   "cell_type": "code",
   "execution_count": 141,
   "id": "9564ab71-fba1-454f-a982-55fbf21f352c",
   "metadata": {},
   "outputs": [
    {
     "name": "stdout",
     "output_type": "stream",
     "text": [
      "[0, 11, 22, 33, 44, 5, 6, 7, 8, 9]\n"
     ]
    }
   ],
   "source": [
    "print(num)"
   ]
  },
  {
   "cell_type": "markdown",
   "id": "e3ca55dd-b438-463a-bf82-1d9aae5988de",
   "metadata": {},
   "source": [
    "# Multi dimensional list"
   ]
  },
  {
   "cell_type": "code",
   "execution_count": 142,
   "id": "52e237ff-ee6d-4d7c-b093-bf17cc3b8668",
   "metadata": {},
   "outputs": [
    {
     "data": {
      "text/plain": [
       "[[1, 2, 3], [3, 4, 5], [7, 8, 9]]"
      ]
     },
     "execution_count": 142,
     "metadata": {},
     "output_type": "execute_result"
    }
   ],
   "source": [
    "mtx=[[1,2,3],[3,4,5],[7,8,9]]\n",
    "mtx"
   ]
  },
  {
   "cell_type": "code",
   "execution_count": 143,
   "id": "4e6c1828-e53b-4149-9868-2560a1349388",
   "metadata": {},
   "outputs": [
    {
     "data": {
      "text/plain": [
       "5"
      ]
     },
     "execution_count": 143,
     "metadata": {},
     "output_type": "execute_result"
    }
   ],
   "source": [
    "mtx[1][2]"
   ]
  },
  {
   "cell_type": "markdown",
   "id": "6a42d223-74aa-40a2-9c8c-15db0b3cf86a",
   "metadata": {},
   "source": [
    "# List comprehansion"
   ]
  },
  {
   "cell_type": "markdown",
   "id": "167dc29d-9550-4848-831b-c2437a4d87b0",
   "metadata": {},
   "source": [
    "# print square of a number"
   ]
  },
  {
   "cell_type": "code",
   "execution_count": 154,
   "id": "a0eb95b2-661f-47b7-9abe-edec9a20db15",
   "metadata": {},
   "outputs": [
    {
     "name": "stdout",
     "output_type": "stream",
     "text": [
      "[1, 4, 9, 16, 25, 36]\n"
     ]
    }
   ],
   "source": [
    "list2=[]\n",
    "for num in range(1,7):\n",
    "    result=num**2\n",
    "\n",
    "    list2.append(result)\n",
    "print(list2)    "
   ]
  },
  {
   "cell_type": "code",
   "execution_count": 155,
   "id": "65794591-1ac5-45d5-ba68-746bd6040cab",
   "metadata": {},
   "outputs": [],
   "source": [
    "list3=[num**2 for num in range(1,7)]"
   ]
  },
  {
   "cell_type": "code",
   "execution_count": 156,
   "id": "ea7ea076-3dde-4016-a7cc-183246133907",
   "metadata": {},
   "outputs": [
    {
     "data": {
      "text/plain": [
       "[1, 4, 9, 16, 25, 36]"
      ]
     },
     "execution_count": 156,
     "metadata": {},
     "output_type": "execute_result"
    }
   ],
   "source": [
    "list3"
   ]
  },
  {
   "cell_type": "markdown",
   "id": "7ec8630d-c1e1-45e9-8b5f-fa64ed009aa8",
   "metadata": {},
   "source": [
    "#### conditional expression"
   ]
  },
  {
   "cell_type": "code",
   "execution_count": 160,
   "id": "cec04595-c51d-4f3b-a262-cf0ee7aca51d",
   "metadata": {},
   "outputs": [
    {
     "name": "stdout",
     "output_type": "stream",
     "text": [
      "[1, 4, 27, 16, 125, 36]\n"
     ]
    }
   ],
   "source": [
    "list3=[]\n",
    "for num in range(1,7):\n",
    "    if num%2==0:\n",
    "        result=num**2\n",
    "    else: \n",
    "        result=num**3\n",
    "    list3.append(result)\n",
    "print(list3)        \n",
    "    "
   ]
  },
  {
   "cell_type": "code",
   "execution_count": 162,
   "id": "61284dfb-a112-4fc9-9109-9c3f09180864",
   "metadata": {},
   "outputs": [],
   "source": [
    "list3=[num**2 if num%2==0 else num**3 for num in range(1,7)]\n"
   ]
  },
  {
   "cell_type": "code",
   "execution_count": 163,
   "id": "b43a50d9-7636-41f6-8169-aee093022e98",
   "metadata": {},
   "outputs": [
    {
     "data": {
      "text/plain": [
       "[1, 4, 27, 16, 125, 36]"
      ]
     },
     "execution_count": 163,
     "metadata": {},
     "output_type": "execute_result"
    }
   ],
   "source": [
    "list3"
   ]
  },
  {
   "cell_type": "code",
   "execution_count": 164,
   "id": "4ebc9f00-4dec-4bb9-9135-0dcd62a8b578",
   "metadata": {},
   "outputs": [],
   "source": [
    "#odd number"
   ]
  },
  {
   "cell_type": "code",
   "execution_count": 170,
   "id": "f2debb0f-fdcd-4e63-bd8e-d6f58859d340",
   "metadata": {},
   "outputs": [
    {
     "data": {
      "text/plain": [
       "[1, 3, 5, 7]"
      ]
     },
     "execution_count": 170,
     "metadata": {},
     "output_type": "execute_result"
    }
   ],
   "source": [
    "odd_num=[x for x in range(9) if x%2!=0]\n",
    "odd_num"
   ]
  },
  {
   "cell_type": "markdown",
   "id": "04d38a3f-5034-414b-84a4-892daa0da727",
   "metadata": {},
   "source": [
    "### nested list"
   ]
  },
  {
   "cell_type": "code",
   "execution_count": 171,
   "id": "046fc02b-a4d7-4a92-9dd1-2f88dfec7e5c",
   "metadata": {},
   "outputs": [
    {
     "data": {
      "text/plain": [
       "[[1, 2, 3], [3, 4, 5], [7, 8, 9]]"
      ]
     },
     "execution_count": 171,
     "metadata": {},
     "output_type": "execute_result"
    }
   ],
   "source": [
    "mtx"
   ]
  },
  {
   "cell_type": "code",
   "execution_count": 180,
   "id": "e250d9bb-b70b-4267-8ab5-95ee012b6c0b",
   "metadata": {},
   "outputs": [
    {
     "name": "stdout",
     "output_type": "stream",
     "text": [
      "[1, 2, 3, 3, 4, 5, 7, 8, 9]\n"
     ]
    }
   ],
   "source": [
    "temp1=[]\n",
    "for row in mtx:\n",
    "    # print(row)\n",
    "    for num in row:\n",
    "        # print(num)\n",
    "        temp1.append(num)\n",
    "print(temp1)"
   ]
  },
  {
   "cell_type": "code",
   "execution_count": 181,
   "id": "ea1b39d7-b4a0-4333-92b1-82f4cc9b3153",
   "metadata": {},
   "outputs": [],
   "source": [
    "temp2 = [num for row in mtx for num in row]"
   ]
  },
  {
   "cell_type": "code",
   "execution_count": 182,
   "id": "5d9a3dcb-809b-4d9a-a28f-50c0ca10615f",
   "metadata": {},
   "outputs": [
    {
     "data": {
      "text/plain": [
       "[1, 2, 3, 3, 4, 5, 7, 8, 9]"
      ]
     },
     "execution_count": 182,
     "metadata": {},
     "output_type": "execute_result"
    }
   ],
   "source": [
    "temp2"
   ]
  },
  {
   "cell_type": "markdown",
   "id": "2af71985-1b07-4f39-8691-0c9a28cffbf2",
   "metadata": {},
   "source": [
    "# Question 1"
   ]
  },
  {
   "cell_type": "code",
   "execution_count": 186,
   "id": "751cf32c-92c7-4f53-8d83-e9e01ff871d3",
   "metadata": {},
   "outputs": [
    {
     "data": {
      "text/plain": [
       "75"
      ]
     },
     "execution_count": 186,
     "metadata": {},
     "output_type": "execute_result"
    }
   ],
   "source": [
    "min(marks)"
   ]
  },
  {
   "cell_type": "code",
   "execution_count": 188,
   "id": "68a5b60e-0e10-4e6b-8af6-6803dc400beb",
   "metadata": {},
   "outputs": [
    {
     "name": "stdout",
     "output_type": "stream",
     "text": [
      "84.2\n"
     ]
    }
   ],
   "source": [
    "average=sum(marks)/len(marks)\n",
    "print(average)"
   ]
  },
  {
   "cell_type": "code",
   "execution_count": 189,
   "id": "a1c390e3-ee21-4c4c-96bc-2c78091f24ab",
   "metadata": {},
   "outputs": [],
   "source": [
    "# name of students whose marks above 80"
   ]
  },
  {
   "cell_type": "code",
   "execution_count": 199,
   "id": "8296d000-ca75-4c77-8d45-3896e83e4643",
   "metadata": {},
   "outputs": [
    {
     "name": "stdout",
     "output_type": "stream",
     "text": [
      "student name is jack and mark: 92\n",
      "student name is eva and mark: 87\n",
      "student name is david and mark: 88\n"
     ]
    }
   ],
   "source": [
    "student=['ram','jack','eva','charlie','david']\n",
    "marks=[75,92,87,79,88]\n",
    "max(marks)\n",
    "for stud,score in zip(student,marks):\n",
    "    if score>80:\n",
    "       print(f'student name is {stud} and mark: {score}')     "
   ]
  },
  {
   "cell_type": "markdown",
   "id": "9d19d76c-ee47-4328-a5a7-5621f83d8c81",
   "metadata": {},
   "source": [
    "# Tuple"
   ]
  },
  {
   "cell_type": "markdown",
   "id": "cafb3684-ae61-490d-990b-4e68e2270df6",
   "metadata": {},
   "source": [
    "# ()"
   ]
  },
  {
   "cell_type": "code",
   "execution_count": 203,
   "id": "63ce5f1b-e60a-4abc-a8ee-df7e083398b3",
   "metadata": {},
   "outputs": [
    {
     "data": {
      "text/plain": [
       "tuple"
      ]
     },
     "execution_count": 203,
     "metadata": {},
     "output_type": "execute_result"
    }
   ],
   "source": [
    "my_tuple=(1,2.5,'hello',False)\n",
    "type(my_tuple)"
   ]
  },
  {
   "cell_type": "code",
   "execution_count": 204,
   "id": "9ea228c3-36c4-4622-b7e9-847ec4e8b571",
   "metadata": {},
   "outputs": [
    {
     "name": "stdout",
     "output_type": "stream",
     "text": [
      "(1, 2.5, 'hello', False)\n"
     ]
    }
   ],
   "source": [
    "print(my_tuple)    "
   ]
  },
  {
   "cell_type": "code",
   "execution_count": 205,
   "id": "fcf70b6c-c1a5-4d67-b6e7-3d66778ebce9",
   "metadata": {},
   "outputs": [],
   "source": [
    "# empty tuple"
   ]
  },
  {
   "cell_type": "code",
   "execution_count": 206,
   "id": "4126dd49-ddfd-4eff-a832-9fc52d60c73c",
   "metadata": {},
   "outputs": [
    {
     "data": {
      "text/plain": [
       "tuple"
      ]
     },
     "execution_count": 206,
     "metadata": {},
     "output_type": "execute_result"
    }
   ],
   "source": [
    "empty_tuple=()\n",
    "type(empty_tuple)"
   ]
  },
  {
   "cell_type": "code",
   "execution_count": 207,
   "id": "2ec0afa1-a025-403b-a548-83b563ab4c94",
   "metadata": {},
   "outputs": [
    {
     "ename": "TypeError",
     "evalue": "'tuple' object does not support item assignment",
     "output_type": "error",
     "traceback": [
      "\u001b[1;31m---------------------------------------------------------------------------\u001b[0m",
      "\u001b[1;31mTypeError\u001b[0m                                 Traceback (most recent call last)",
      "Cell \u001b[1;32mIn[207], line 1\u001b[0m\n\u001b[1;32m----> 1\u001b[0m my_tuple[\u001b[38;5;241m0\u001b[39m]\u001b[38;5;241m=\u001b[39m\u001b[38;5;124m'\u001b[39m\u001b[38;5;124mOne\u001b[39m\u001b[38;5;124m'\u001b[39m\n",
      "\u001b[1;31mTypeError\u001b[0m: 'tuple' object does not support item assignment"
     ]
    }
   ],
   "source": [
    "my_tuple[0]='One'"
   ]
  },
  {
   "cell_type": "code",
   "execution_count": 208,
   "id": "b55f8b51-b10d-44dd-a52b-76daf6680a6b",
   "metadata": {},
   "outputs": [
    {
     "data": {
      "text/plain": [
       "int"
      ]
     },
     "execution_count": 208,
     "metadata": {},
     "output_type": "execute_result"
    }
   ],
   "source": [
    "tup=(0)\n",
    "type(tup)"
   ]
  },
  {
   "cell_type": "code",
   "execution_count": 209,
   "id": "65ed7ea0-bf3b-485f-aee8-24c25aff37fe",
   "metadata": {},
   "outputs": [
    {
     "data": {
      "text/plain": [
       "tuple"
      ]
     },
     "execution_count": 209,
     "metadata": {},
     "output_type": "execute_result"
    }
   ],
   "source": [
    "tup=(0,)\n",
    "type(tup)"
   ]
  },
  {
   "cell_type": "markdown",
   "id": "9273f762-855d-4b7c-8b41-46554a18f846",
   "metadata": {},
   "source": [
    "# Basic operations in tuple"
   ]
  },
  {
   "cell_type": "code",
   "execution_count": 210,
   "id": "3fbaabdf-dfd3-45e6-9529-cbf6d499c8cd",
   "metadata": {},
   "outputs": [],
   "source": [
    "# concetenation"
   ]
  },
  {
   "cell_type": "code",
   "execution_count": 211,
   "id": "14511f15-2b0d-48e4-96e5-e33141d0c345",
   "metadata": {},
   "outputs": [
    {
     "data": {
      "text/plain": [
       "(1, 2, 3, 3, 4, 5)"
      ]
     },
     "execution_count": 211,
     "metadata": {},
     "output_type": "execute_result"
    }
   ],
   "source": [
    "t1=(1,2,3)\n",
    "t2=(3,4,5)\n",
    "t3=t1+t2\n",
    "t3"
   ]
  },
  {
   "cell_type": "markdown",
   "id": "71645f7d-b550-49b2-99f1-fc4821da14b3",
   "metadata": {},
   "source": [
    "# repetition"
   ]
  },
  {
   "cell_type": "code",
   "execution_count": 212,
   "id": "31011449-4bd9-4173-8735-a616635fd3f9",
   "metadata": {},
   "outputs": [],
   "source": [
    "repeat_tuple=t1*3"
   ]
  },
  {
   "cell_type": "code",
   "execution_count": 213,
   "id": "15bf47d8-b4a8-4a01-aa8f-500c965d87eb",
   "metadata": {},
   "outputs": [
    {
     "data": {
      "text/plain": [
       "(1, 2, 3, 1, 2, 3, 1, 2, 3)"
      ]
     },
     "execution_count": 213,
     "metadata": {},
     "output_type": "execute_result"
    }
   ],
   "source": [
    "repeat_tuple"
   ]
  },
  {
   "cell_type": "code",
   "execution_count": 216,
   "id": "5a95fb2f-ea27-4f6a-9a70-e06369c61efd",
   "metadata": {},
   "outputs": [
    {
     "name": "stdout",
     "output_type": "stream",
     "text": [
      "1\n",
      "2\n",
      "3\n",
      "1\n",
      "2\n",
      "3\n",
      "1\n",
      "2\n",
      "3\n"
     ]
    }
   ],
   "source": [
    "for num in repeat_tuple:\n",
    "    print(num)"
   ]
  },
  {
   "cell_type": "markdown",
   "id": "12027f32-9845-475b-bd9d-ac1e8a094a6d",
   "metadata": {},
   "source": [
    "# Packing and Unpacking"
   ]
  },
  {
   "cell_type": "code",
   "execution_count": 217,
   "id": "c6b39202-5b73-4692-942b-e4b4eb25a060",
   "metadata": {},
   "outputs": [
    {
     "data": {
      "text/plain": [
       "(1, 2, 3)"
      ]
     },
     "execution_count": 217,
     "metadata": {},
     "output_type": "execute_result"
    }
   ],
   "source": [
    "t1"
   ]
  },
  {
   "cell_type": "code",
   "execution_count": 218,
   "id": "0962215f-b37a-4bf5-b300-0c127f8b84c7",
   "metadata": {},
   "outputs": [],
   "source": [
    "a,b,c = t1 #unpacking"
   ]
  },
  {
   "cell_type": "code",
   "execution_count": 219,
   "id": "a2d91ff9-6518-4741-9443-0a31e88e2e56",
   "metadata": {},
   "outputs": [
    {
     "name": "stdout",
     "output_type": "stream",
     "text": [
      "1\n"
     ]
    }
   ],
   "source": [
    "print(a)"
   ]
  },
  {
   "cell_type": "code",
   "execution_count": 220,
   "id": "ab63bd6b-0c60-4a56-8c6d-91267d981b2f",
   "metadata": {},
   "outputs": [
    {
     "name": "stdout",
     "output_type": "stream",
     "text": [
      "3\n"
     ]
    }
   ],
   "source": [
    "print(c)"
   ]
  },
  {
   "cell_type": "code",
   "execution_count": 221,
   "id": "931576d5-aa90-4f44-8bef-9a7caebd1e1b",
   "metadata": {},
   "outputs": [],
   "source": [
    " t4=7,8,9   "
   ]
  },
  {
   "cell_type": "code",
   "execution_count": 222,
   "id": "5fb6220f-812d-4879-993c-f34616e2ac6c",
   "metadata": {},
   "outputs": [
    {
     "data": {
      "text/plain": [
       "(7, 8, 9)"
      ]
     },
     "execution_count": 222,
     "metadata": {},
     "output_type": "execute_result"
    }
   ],
   "source": [
    "t4\n",
    "    "
   ]
  },
  {
   "cell_type": "code",
   "execution_count": 223,
   "id": "145e4321-b324-49b3-981a-de89fef65b5f",
   "metadata": {},
   "outputs": [],
   "source": [
    "t5=7,8\n"
   ]
  },
  {
   "cell_type": "code",
   "execution_count": 224,
   "id": "06c08c2d-08a0-4bc4-82e9-cd6cda021f1b",
   "metadata": {},
   "outputs": [
    {
     "data": {
      "text/plain": [
       "(7, 8)"
      ]
     },
     "execution_count": 224,
     "metadata": {},
     "output_type": "execute_result"
    }
   ],
   "source": [
    "t5\n"
   ]
  },
  {
   "cell_type": "code",
   "execution_count": 225,
   "id": "7f5d5054-484b-4073-b702-c55165b00c7c",
   "metadata": {},
   "outputs": [
    {
     "data": {
      "text/plain": [
       "6"
      ]
     },
     "execution_count": 225,
     "metadata": {},
     "output_type": "execute_result"
    }
   ],
   "source": [
    "len(t3)"
   ]
  },
  {
   "cell_type": "code",
   "execution_count": 226,
   "id": "fce2407b-813d-45cf-a366-d98941c4456e",
   "metadata": {},
   "outputs": [
    {
     "data": {
      "text/plain": [
       "True"
      ]
     },
     "execution_count": 226,
     "metadata": {},
     "output_type": "execute_result"
    }
   ],
   "source": [
    "1 in t3"
   ]
  },
  {
   "cell_type": "code",
   "execution_count": 227,
   "id": "8f954988-2540-4c3b-a23e-1690f9c9f478",
   "metadata": {},
   "outputs": [],
   "source": [
    "# slicing in tuple"
   ]
  },
  {
   "cell_type": "code",
   "execution_count": 228,
   "id": "d699cac6-1097-4b2e-b90f-bdc648a46a47",
   "metadata": {},
   "outputs": [
    {
     "data": {
      "text/plain": [
       "5"
      ]
     },
     "execution_count": 228,
     "metadata": {},
     "output_type": "execute_result"
    }
   ],
   "source": [
    "t3[-1]"
   ]
  },
  {
   "cell_type": "code",
   "execution_count": 229,
   "id": "5b3012b4-31eb-4f00-9900-c096ec0a6d43",
   "metadata": {},
   "outputs": [
    {
     "data": {
      "text/plain": [
       "3"
      ]
     },
     "execution_count": 229,
     "metadata": {},
     "output_type": "execute_result"
    }
   ],
   "source": [
    "t3[3]"
   ]
  },
  {
   "cell_type": "code",
   "execution_count": 230,
   "id": "fc76375f-5626-4ce9-b051-b956fdb7a3b2",
   "metadata": {},
   "outputs": [],
   "source": [
    "fruits=('apple','mango','kiwi','banana')"
   ]
  },
  {
   "cell_type": "code",
   "execution_count": 231,
   "id": "1eac4291-638b-42e2-9552-77b61fe60410",
   "metadata": {},
   "outputs": [
    {
     "data": {
      "text/plain": [
       "('mango', 'kiwi')"
      ]
     },
     "execution_count": 231,
     "metadata": {},
     "output_type": "execute_result"
    }
   ],
   "source": [
    "fruits[1:3]"
   ]
  },
  {
   "cell_type": "code",
   "execution_count": 232,
   "id": "d343d1f4-9505-4f3b-aa0f-64a11500a1dd",
   "metadata": {},
   "outputs": [],
   "source": [
    "list_fruits=list(fruits)"
   ]
  },
  {
   "cell_type": "code",
   "execution_count": 233,
   "id": "73c027e5-443b-4c49-99d6-08417977701a",
   "metadata": {},
   "outputs": [
    {
     "data": {
      "text/plain": [
       "list"
      ]
     },
     "execution_count": 233,
     "metadata": {},
     "output_type": "execute_result"
    }
   ],
   "source": [
    "type(list_fruits)"
   ]
  },
  {
   "cell_type": "code",
   "execution_count": 234,
   "id": "a6327f22-a962-464a-97d3-9b2647079128",
   "metadata": {},
   "outputs": [],
   "source": [
    "list_fruits[2]='dragon fruit'"
   ]
  },
  {
   "cell_type": "code",
   "execution_count": 235,
   "id": "058f63d0-3a67-4af6-bb0d-4032c4f081d6",
   "metadata": {},
   "outputs": [
    {
     "data": {
      "text/plain": [
       "['apple', 'mango', 'dragon fruit', 'banana']"
      ]
     },
     "execution_count": 235,
     "metadata": {},
     "output_type": "execute_result"
    }
   ],
   "source": [
    "list_fruits"
   ]
  },
  {
   "cell_type": "code",
   "execution_count": null,
   "id": "118a5764-522a-43c3-82d5-de07a20ecbbc",
   "metadata": {},
   "outputs": [],
   "source": []
  }
 ],
 "metadata": {
  "kernelspec": {
   "display_name": "Python [conda env:base] *",
   "language": "python",
   "name": "conda-base-py"
  },
  "language_info": {
   "codemirror_mode": {
    "name": "ipython",
    "version": 3
   },
   "file_extension": ".py",
   "mimetype": "text/x-python",
   "name": "python",
   "nbconvert_exporter": "python",
   "pygments_lexer": "ipython3",
   "version": "3.13.5"
  }
 },
 "nbformat": 4,
 "nbformat_minor": 5
}
