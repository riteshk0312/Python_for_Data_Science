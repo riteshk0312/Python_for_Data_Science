{
 "cells": [
  {
   "cell_type": "markdown",
   "id": "90657365-6c82-47da-85a8-2af744e0b99b",
   "metadata": {},
   "source": [
    "# Dictionary"
   ]
  },
  {
   "cell_type": "code",
   "execution_count": 1,
   "id": "413dbfe9-2d53-44de-8ea5-6cb7de67fac1",
   "metadata": {},
   "outputs": [],
   "source": [
    "my_dict={\n",
    "    'name':'Bob',\n",
    "    'age':25,\n",
    "    100:'Id',\n",
    "    'department':'Operations',\n",
    "    'marks':[25,35,45]\n",
    "}"
   ]
  },
  {
   "cell_type": "code",
   "execution_count": 2,
   "id": "c5e615a1-37de-46f1-acd8-aceef97c24a1",
   "metadata": {},
   "outputs": [
    {
     "name": "stdout",
     "output_type": "stream",
     "text": [
      "{'name': 'Bob', 'age': 25, 100: 'Id', 'department': 'Operations', 'marks': [25, 35, 45]}\n"
     ]
    }
   ],
   "source": [
    "print(my_dict)"
   ]
  },
  {
   "cell_type": "code",
   "execution_count": 3,
   "id": "8648a4cb-9f49-44fe-ba96-2ce330c31f0e",
   "metadata": {},
   "outputs": [
    {
     "data": {
      "text/plain": [
       "dict"
      ]
     },
     "execution_count": 3,
     "metadata": {},
     "output_type": "execute_result"
    }
   ],
   "source": [
    "empty_dict={\n",
    "}\n",
    "type(empty_dict)"
   ]
  },
  {
   "cell_type": "markdown",
   "id": "8340c710-f00b-460a-ada5-787c4cc560ba",
   "metadata": {},
   "source": [
    "# Basic Operations on dictionary"
   ]
  },
  {
   "cell_type": "markdown",
   "id": "d366b821-4c0b-4a60-bdfa-cab2ba81258b",
   "metadata": {},
   "source": [
    "## 1.Addition"
   ]
  },
  {
   "cell_type": "code",
   "execution_count": 3,
   "id": "e6ebad93-643d-418c-a8c3-f2e67dd452f7",
   "metadata": {},
   "outputs": [],
   "source": [
    "student_info={\n",
    "    'name':'Eva',\n",
    "    'age':22,\n",
    "    'grade':'A'\n",
    "}"
   ]
  },
  {
   "cell_type": "code",
   "execution_count": 4,
   "id": "26a27227-2abd-49d0-b025-8ad4b82d3022",
   "metadata": {},
   "outputs": [],
   "source": [
    "student_info['city']='New York'"
   ]
  },
  {
   "cell_type": "code",
   "execution_count": 5,
   "id": "bd754f97-d1d3-4b22-9f69-edf6b80c0762",
   "metadata": {},
   "outputs": [
    {
     "data": {
      "text/plain": [
       "{'name': 'Eva', 'age': 22, 'grade': 'A', 'city': 'New York'}"
      ]
     },
     "execution_count": 5,
     "metadata": {},
     "output_type": "execute_result"
    }
   ],
   "source": [
    "student_info"
   ]
  },
  {
   "cell_type": "code",
   "execution_count": 6,
   "id": "39b6907a-4be4-477a-a335-fd00d758c251",
   "metadata": {},
   "outputs": [],
   "source": [
    "# update"
   ]
  },
  {
   "cell_type": "code",
   "execution_count": 7,
   "id": "e84f73c5-09f5-4c05-bc8c-515b71ad37a1",
   "metadata": {},
   "outputs": [],
   "source": [
    "add_info={\n",
    "    'city':'Mumbai',\n",
    "    'marks':95\n",
    "}"
   ]
  },
  {
   "cell_type": "code",
   "execution_count": 8,
   "id": "f7cdae6c-1444-4064-b24b-7e50d2f5ff8f",
   "metadata": {},
   "outputs": [],
   "source": [
    "student_info.update(add_info) #update the  student_info dict"
   ]
  },
  {
   "cell_type": "code",
   "execution_count": 9,
   "id": "cc94065a-6b10-44a1-9374-c626cddaa1d9",
   "metadata": {},
   "outputs": [
    {
     "data": {
      "text/plain": [
       "{'name': 'Eva', 'age': 22, 'grade': 'A', 'city': 'Mumbai', 'marks': 95}"
      ]
     },
     "execution_count": 9,
     "metadata": {},
     "output_type": "execute_result"
    }
   ],
   "source": [
    "student_info"
   ]
  },
  {
   "cell_type": "code",
   "execution_count": 10,
   "id": "ffc130a9-05cc-49a6-8aa4-64d953c1fafc",
   "metadata": {},
   "outputs": [],
   "source": [
    "# 2.Remove"
   ]
  },
  {
   "cell_type": "code",
   "execution_count": 11,
   "id": "57cf0dfc-76c2-4f56-8659-931df2f5a91f",
   "metadata": {},
   "outputs": [],
   "source": [
    "# pop\n"
   ]
  },
  {
   "cell_type": "code",
   "execution_count": 12,
   "id": "31c42f2f-b3de-43f5-b3ed-b5d82d1641bd",
   "metadata": {},
   "outputs": [
    {
     "data": {
      "text/plain": [
       "'A'"
      ]
     },
     "execution_count": 12,
     "metadata": {},
     "output_type": "execute_result"
    }
   ],
   "source": [
    "student_info.pop('grade')"
   ]
  },
  {
   "cell_type": "code",
   "execution_count": 13,
   "id": "84d445c3-14c8-408c-9ead-20a2ee3aee69",
   "metadata": {},
   "outputs": [
    {
     "data": {
      "text/plain": [
       "{'name': 'Eva', 'age': 22, 'city': 'Mumbai', 'marks': 95}"
      ]
     },
     "execution_count": 13,
     "metadata": {},
     "output_type": "execute_result"
    }
   ],
   "source": [
    "student_info"
   ]
  },
  {
   "cell_type": "code",
   "execution_count": 14,
   "id": "6b671ae9-7859-49b4-a31e-6e5469b50ad9",
   "metadata": {},
   "outputs": [
    {
     "data": {
      "text/plain": [
       "'Eva'"
      ]
     },
     "execution_count": 14,
     "metadata": {},
     "output_type": "execute_result"
    }
   ],
   "source": [
    "student_info.pop('name')"
   ]
  },
  {
   "cell_type": "code",
   "execution_count": 17,
   "id": "81b95cbb-df69-46e6-8b48-94ae24c40dec",
   "metadata": {},
   "outputs": [],
   "source": [
    "# pop item"
   ]
  },
  {
   "cell_type": "code",
   "execution_count": 18,
   "id": "fc28e911-5440-4adb-abcc-0506fa87469f",
   "metadata": {},
   "outputs": [
    {
     "data": {
      "text/plain": [
       "('marks', 95)"
      ]
     },
     "execution_count": 18,
     "metadata": {},
     "output_type": "execute_result"
    }
   ],
   "source": [
    "student_info.popitem()"
   ]
  },
  {
   "cell_type": "code",
   "execution_count": 19,
   "id": "f48263b5-75ae-44fb-b8f2-77817555611e",
   "metadata": {},
   "outputs": [
    {
     "data": {
      "text/plain": [
       "{'name': 'Eva', 'age': 22, 'city': 'Mumbai'}"
      ]
     },
     "execution_count": 19,
     "metadata": {},
     "output_type": "execute_result"
    }
   ],
   "source": [
    "student_info"
   ]
  },
  {
   "cell_type": "code",
   "execution_count": 21,
   "id": "9e8ef29c-1f6f-4230-83de-14832de1dae9",
   "metadata": {},
   "outputs": [],
   "source": [
    "# Del"
   ]
  },
  {
   "cell_type": "code",
   "execution_count": 22,
   "id": "503b10b8-7c7a-4204-b1ac-c8fd0f45bbaa",
   "metadata": {},
   "outputs": [],
   "source": [
    "del student_info['age']"
   ]
  },
  {
   "cell_type": "code",
   "execution_count": 23,
   "id": "6e27d497-7b8a-4869-ba62-6f867afd94af",
   "metadata": {},
   "outputs": [
    {
     "data": {
      "text/plain": [
       "{'name': 'Eva', 'city': 'Mumbai'}"
      ]
     },
     "execution_count": 23,
     "metadata": {},
     "output_type": "execute_result"
    }
   ],
   "source": [
    "student_info"
   ]
  },
  {
   "cell_type": "markdown",
   "id": "24dd17e4-999f-4048-9610-cc706a8d783c",
   "metadata": {},
   "source": [
    "# Common list of operations"
   ]
  },
  {
   "cell_type": "code",
   "execution_count": 27,
   "id": "0f2096ce-3265-4ce0-a45c-96e90a0bba36",
   "metadata": {},
   "outputs": [],
   "source": [
    "stud_info={\n",
    "    'name':'Ram',\n",
    "    'subject':['Maths','Science'],\n",
    "    'score':(23,25),\n",
    "    'city':'pune'\n",
    "}"
   ]
  },
  {
   "cell_type": "code",
   "execution_count": 29,
   "id": "9506c014-bb1e-4597-a117-648fd8e684cb",
   "metadata": {},
   "outputs": [],
   "source": [
    "# Checking Operation 'in'\n"
   ]
  },
  {
   "cell_type": "code",
   "execution_count": 32,
   "id": "bca0d94a-52c9-4577-96b2-c8aab4582d79",
   "metadata": {},
   "outputs": [
    {
     "name": "stdout",
     "output_type": "stream",
     "text": [
      "Ram not found\n"
     ]
    }
   ],
   "source": [
    "key='Ram'\n",
    "if key in stud_info:\n",
    "    print(stud_info[key])\n",
    "else:\n",
    "    print(f'{key} not found')"
   ]
  },
  {
   "cell_type": "code",
   "execution_count": 33,
   "id": "5e064dfb-ac39-4a25-8638-efed382a9bcc",
   "metadata": {},
   "outputs": [],
   "source": [
    "# to get key"
   ]
  },
  {
   "cell_type": "code",
   "execution_count": 34,
   "id": "1087bdd8-e553-4c3b-b422-fc3acac3b43b",
   "metadata": {},
   "outputs": [
    {
     "data": {
      "text/plain": [
       "dict_keys(['name', 'subject', 'score', 'city'])"
      ]
     },
     "execution_count": 34,
     "metadata": {},
     "output_type": "execute_result"
    }
   ],
   "source": [
    "stud_info.keys()"
   ]
  },
  {
   "cell_type": "code",
   "execution_count": 35,
   "id": "c57d9cdd-cfef-4b22-b3be-4562db1d9c23",
   "metadata": {},
   "outputs": [
    {
     "data": {
      "text/plain": [
       "dict_values(['Ram', ['Maths', 'Science'], (23, 25), 'pune'])"
      ]
     },
     "execution_count": 35,
     "metadata": {},
     "output_type": "execute_result"
    }
   ],
   "source": [
    "stud_info.values()"
   ]
  },
  {
   "cell_type": "code",
   "execution_count": 36,
   "id": "64adc3c1-27af-4311-af4a-35ca689dfe32",
   "metadata": {},
   "outputs": [
    {
     "data": {
      "text/plain": [
       "dict_items([('name', 'Ram'), ('subject', ['Maths', 'Science']), ('score', (23, 25)), ('city', 'pune')])"
      ]
     },
     "execution_count": 36,
     "metadata": {},
     "output_type": "execute_result"
    }
   ],
   "source": [
    "stud_info.items()"
   ]
  },
  {
   "cell_type": "markdown",
   "id": "72a4e83b-afab-4dc9-8f1d-799fe2bf8638",
   "metadata": {},
   "source": [
    "# Dictionary Manipulation"
   ]
  },
  {
   "cell_type": "code",
   "execution_count": 38,
   "id": "49d731b9-6492-46d6-8264-5d551d69bb70",
   "metadata": {},
   "outputs": [
    {
     "data": {
      "text/plain": [
       "{'name': 'Ram',\n",
       " 'subject': ['Maths', 'Science'],\n",
       " 'score': (23, 25),\n",
       " 'city': 'pune'}"
      ]
     },
     "execution_count": 38,
     "metadata": {},
     "output_type": "execute_result"
    }
   ],
   "source": [
    "stud_info"
   ]
  },
  {
   "cell_type": "code",
   "execution_count": 39,
   "id": "666ee6b4-0a54-48df-8208-90785b658368",
   "metadata": {},
   "outputs": [],
   "source": [
    "# sort by keys"
   ]
  },
  {
   "cell_type": "code",
   "execution_count": 40,
   "id": "01f952f2-fa48-4142-95a2-19de6a22ad2a",
   "metadata": {},
   "outputs": [
    {
     "data": {
      "text/plain": [
       "{'city': 'pune',\n",
       " 'name': 'Ram',\n",
       " 'score': (23, 25),\n",
       " 'subject': ['Maths', 'Science']}"
      ]
     },
     "execution_count": 40,
     "metadata": {},
     "output_type": "execute_result"
    }
   ],
   "source": [
    "sorted_stud_dict=dict(sorted(stud_info.items()))\n",
    "sorted_stud_dict"
   ]
  },
  {
   "cell_type": "code",
   "execution_count": 41,
   "id": "d6f2a65b-83df-4ca9-a190-a05612c331ec",
   "metadata": {},
   "outputs": [],
   "source": [
    "# Copy dictionary"
   ]
  },
  {
   "cell_type": "code",
   "execution_count": 43,
   "id": "c0993f0b-b45f-4cf3-b696-74bb750317ba",
   "metadata": {},
   "outputs": [
    {
     "data": {
      "text/plain": [
       "{'name': 'Ram',\n",
       " 'subject': ['Maths', 'Science'],\n",
       " 'score': (23, 25),\n",
       " 'city': 'pune'}"
      ]
     },
     "execution_count": 43,
     "metadata": {},
     "output_type": "execute_result"
    }
   ],
   "source": [
    "copy_stud_info=stud_info.copy()\n",
    "copy_stud_info"
   ]
  },
  {
   "cell_type": "code",
   "execution_count": 44,
   "id": "a343e886-743b-4149-bc26-53f31ff4ffde",
   "metadata": {},
   "outputs": [],
   "source": [
    "# Nested Dictionary"
   ]
  },
  {
   "cell_type": "code",
   "execution_count": 48,
   "id": "2d6aa0cb-942c-4c1b-a5a3-76352f02571a",
   "metadata": {},
   "outputs": [],
   "source": [
    "nested_dict={\n",
    "    'person': {\n",
    "        'name':'Mark',\n",
    "        'age': 20\n",
    "    }\n",
    "}"
   ]
  },
  {
   "cell_type": "code",
   "execution_count": 49,
   "id": "07f1a820-4315-41c2-a854-60241fadc4d6",
   "metadata": {},
   "outputs": [
    {
     "data": {
      "text/plain": [
       "{'person': {'name': 'Mark', 'age': 20}}"
      ]
     },
     "execution_count": 49,
     "metadata": {},
     "output_type": "execute_result"
    }
   ],
   "source": [
    "nested_dict"
   ]
  },
  {
   "cell_type": "code",
   "execution_count": 51,
   "id": "2ed7b0db-5e1f-4303-aba6-2067a692e72d",
   "metadata": {},
   "outputs": [],
   "source": [
    "# Access\n",
    "# to print the age of person"
   ]
  },
  {
   "cell_type": "code",
   "execution_count": 52,
   "id": "ba5776b0-b3f2-40bc-84c1-fac013cad323",
   "metadata": {},
   "outputs": [
    {
     "data": {
      "text/plain": [
       "20"
      ]
     },
     "execution_count": 52,
     "metadata": {},
     "output_type": "execute_result"
    }
   ],
   "source": [
    "nested_dict['person']['age']"
   ]
  },
  {
   "cell_type": "code",
   "execution_count": 58,
   "id": "098fe46f-8e3e-4984-ba80-91819b319862",
   "metadata": {},
   "outputs": [
    {
     "data": {
      "text/plain": [
       "'Science'"
      ]
     },
     "execution_count": 58,
     "metadata": {},
     "output_type": "execute_result"
    }
   ],
   "source": [
    "# to print science\n",
    "stud_info['subject'][1]"
   ]
  },
  {
   "cell_type": "markdown",
   "id": "5223f6af-3b43-40d7-a52a-cab3b1d49192",
   "metadata": {},
   "source": [
    "# Dictionary Comprehension"
   ]
  },
  {
   "cell_type": "code",
   "execution_count": 61,
   "id": "263631a2-d6fb-4362-b824-b4a6673f02bb",
   "metadata": {},
   "outputs": [
    {
     "name": "stdout",
     "output_type": "stream",
     "text": [
      "{1: 1, 2: 4, 3: 9, 4: 16, 5: 25}\n"
     ]
    }
   ],
   "source": [
    "# number and its square\n",
    "temp_dict={}\n",
    "for num in range(1,6):\n",
    "    temp_dict[num]=num**2\n",
    "\n",
    "print(temp_dict)"
   ]
  },
  {
   "cell_type": "code",
   "execution_count": 64,
   "id": "e1322d8a-e6c0-44a2-be0d-26a7800bd16a",
   "metadata": {},
   "outputs": [
    {
     "data": {
      "text/plain": [
       "{1: 1, 2: 4, 3: 9, 4: 16, 5: 25}"
      ]
     },
     "execution_count": 64,
     "metadata": {},
     "output_type": "execute_result"
    }
   ],
   "source": [
    "temp_dict1={num:num**2 for num in range(1,6)}\n",
    "temp_dict1"
   ]
  },
  {
   "cell_type": "code",
   "execution_count": 65,
   "id": "28736fd3-6613-45fa-b526-130c32f20712",
   "metadata": {},
   "outputs": [],
   "source": [
    "# number and cube"
   ]
  },
  {
   "cell_type": "code",
   "execution_count": 66,
   "id": "4761ddec-f16b-436e-8dae-3c57b270cd66",
   "metadata": {},
   "outputs": [
    {
     "data": {
      "text/plain": [
       "{1: 1, 2: 8, 3: 27, 4: 64, 5: 125}"
      ]
     },
     "execution_count": 66,
     "metadata": {},
     "output_type": "execute_result"
    }
   ],
   "source": [
    "temp_dict2={num:num**3 for num in range(1,6)}\n",
    "temp_dict2"
   ]
  },
  {
   "cell_type": "code",
   "execution_count": 67,
   "id": "3244610a-33aa-4441-8403-061c05cb14bc",
   "metadata": {},
   "outputs": [
    {
     "data": {
      "text/plain": [
       "{'apple': 5, 'kiwi': 4, 'orange': 6}"
      ]
     },
     "execution_count": 67,
     "metadata": {},
     "output_type": "execute_result"
    }
   ],
   "source": [
    "fruit=['apple','kiwi','orange']\n",
    "#word_len_dict={fruit:length of the fruit}\n",
    "\"\"\"temp_fruit={}\n",
    "for num in range(len[fruit]):\n",
    "    temp_fruit[num]=\"\"\"\n",
    "word_len_dict={word:len(word) for word in fruit}\n",
    "word_len_dict"
   ]
  },
  {
   "cell_type": "code",
   "execution_count": 72,
   "id": "13179808-ea45-4129-9731-5e3a5f71ed4e",
   "metadata": {},
   "outputs": [
    {
     "data": {
      "text/plain": [
       "{'arun': 39, 'megha': 45, 'parth': 38}"
      ]
     },
     "execution_count": 72,
     "metadata": {},
     "output_type": "execute_result"
    }
   ],
   "source": [
    "# using two list\n",
    "stud=['arun','megha','parth']\n",
    "marks=[39,45,38]\n",
    "\n",
    "st_mk_dict={stud[i]:marks[i] for i in range(len(stud))}\n",
    "st_mk_dict"
   ]
  },
  {
   "cell_type": "code",
   "execution_count": 73,
   "id": "e398423e-6d28-4e0f-bb60-4f459df13191",
   "metadata": {},
   "outputs": [],
   "source": [
    "emp_info={\n",
    "    'Alice': 6000,\n",
    "    'Bob': 5500,\n",
    "    'Charlie': 6200,\n",
    "    'David': 4800,\n",
    "    'Eve': 7000\n",
    "}"
   ]
  },
  {
   "cell_type": "code",
   "execution_count": 75,
   "id": "eab29d87-b7ee-4ae8-b444-fd621055859c",
   "metadata": {},
   "outputs": [
    {
     "name": "stdout",
     "output_type": "stream",
     "text": [
      "highest salary: 7000\n"
     ]
    }
   ],
   "source": [
    "# find and display the highest salary\n",
    "\n",
    "\"\"\"hihest_salary={}\n",
    "for emp,salary in emp_info  \"\"\"\n",
    "\n",
    "highest_sal=max(emp_info.values())\n",
    "print('highest salary:',highest_sal )"
   ]
  },
  {
   "cell_type": "code",
   "execution_count": 78,
   "id": "71317d6b-0947-4821-b7e8-767e13b73035",
   "metadata": {},
   "outputs": [
    {
     "name": "stdout",
     "output_type": "stream",
     "text": [
      "avg  salary: {5900.0}\n"
     ]
    }
   ],
   "source": [
    "# Print the average\n",
    "\n",
    "avg_sal=(sum(emp_info.values())/len(emp_info))\n",
    "print('avg  salary:',{avg_sal} )"
   ]
  },
  {
   "cell_type": "code",
   "execution_count": 79,
   "id": "b6fb24eb-e955-4fb4-8ef1-99ff36264c44",
   "metadata": {},
   "outputs": [
    {
     "name": "stdout",
     "output_type": "stream",
     "text": [
      "['Alice', 'Charlie', 'Eve']\n"
     ]
    }
   ],
   "source": [
    "# emp with the salary greater than 5000\n",
    "emp_list=[name for name,sal in emp_info.items() if sal>5999]\n",
    "print(emp_list)"
   ]
  },
  {
   "cell_type": "code",
   "execution_count": 82,
   "id": "92f04191-8541-42a7-b4c8-e7b1a27d5806",
   "metadata": {},
   "outputs": [
    {
     "name": "stdout",
     "output_type": "stream",
     "text": [
      "sorted list is  ['Alice', 'Bob', 'Charlie', 'David', 'Eve']\n"
     ]
    }
   ],
   "source": [
    "# sort and display the employee name\n",
    "emp_sorted=sorted(emp_info.keys())\n",
    "print(\"sorted list is \",emp_sorted)"
   ]
  },
  {
   "cell_type": "markdown",
   "id": "f50eda77-13e1-479f-949d-c641d01ab5b8",
   "metadata": {},
   "source": [
    "# Sets"
   ]
  },
  {
   "cell_type": "code",
   "execution_count": 19,
   "id": "6cac74b5-75bd-4321-ac40-d2c17b219d10",
   "metadata": {},
   "outputs": [
    {
     "data": {
      "text/plain": [
       "{'blue', 'green', 'red'}"
      ]
     },
     "execution_count": 19,
     "metadata": {},
     "output_type": "execute_result"
    }
   ],
   "source": [
    "set_color={'red','green','blue','red'}\n",
    "\n",
    "\n",
    "\n",
    "set_color"
   ]
  },
  {
   "cell_type": "raw",
   "id": "0a681a5a-fb0a-4acb-89bf-890f81d76c86",
   "metadata": {},
   "source": [
    "type(set_color)"
   ]
  },
  {
   "cell_type": "code",
   "execution_count": 20,
   "id": "19d90eae-8c5a-4933-a132-35d4e866c64d",
   "metadata": {},
   "outputs": [
    {
     "data": {
      "text/plain": [
       "{'apple', 'banana'}"
      ]
     },
     "execution_count": 20,
     "metadata": {},
     "output_type": "execute_result"
    }
   ],
   "source": [
    "# using set()\n",
    "fruit_set=set(['apple','banana'])\n",
    "fruit_set"
   ]
  },
  {
   "cell_type": "code",
   "execution_count": 21,
   "id": "23fe4fdf-9c64-41c7-9ece-9e0f9a5b9615",
   "metadata": {},
   "outputs": [],
   "source": [
    "# mixed data type"
   ]
  },
  {
   "cell_type": "code",
   "execution_count": 22,
   "id": "4cf82130-9c57-4c44-b47f-c686461cf6ed",
   "metadata": {},
   "outputs": [],
   "source": [
    "mixed_set={1,2.5,'Pyhton',(1,2),True,False}"
   ]
  },
  {
   "cell_type": "code",
   "execution_count": 23,
   "id": "a1caeb87-ed6e-4862-a0f3-db3e621b7788",
   "metadata": {},
   "outputs": [
    {
     "data": {
      "text/plain": [
       "{(1, 2), 1, 2.5, False, 'Pyhton'}"
      ]
     },
     "execution_count": 23,
     "metadata": {},
     "output_type": "execute_result"
    }
   ],
   "source": [
    "mixed_set"
   ]
  },
  {
   "cell_type": "code",
   "execution_count": 24,
   "id": "da476af4-1d30-4974-86dd-ae4f361a96dc",
   "metadata": {},
   "outputs": [
    {
     "ename": "TypeError",
     "evalue": "'set' object is not subscriptable",
     "output_type": "error",
     "traceback": [
      "\u001b[1;31m---------------------------------------------------------------------------\u001b[0m",
      "\u001b[1;31mTypeError\u001b[0m                                 Traceback (most recent call last)",
      "Cell \u001b[1;32mIn[24], line 2\u001b[0m\n\u001b[0;32m      1\u001b[0m \u001b[38;5;66;03m# we cannot access set using index\u001b[39;00m\n\u001b[1;32m----> 2\u001b[0m mixed_set[\u001b[38;5;241m0\u001b[39m]\n",
      "\u001b[1;31mTypeError\u001b[0m: 'set' object is not subscriptable"
     ]
    }
   ],
   "source": [
    "# we cannot access set using index\n",
    "mixed_set[0]"
   ]
  },
  {
   "cell_type": "markdown",
   "id": "dfa8f9cd-bdcc-4604-bcd7-703f02576fe4",
   "metadata": {},
   "source": [
    "# Operations in set"
   ]
  },
  {
   "cell_type": "markdown",
   "id": "72706cf1-3a93-44c9-b436-8aa0d8f5ac29",
   "metadata": {},
   "source": [
    "## addition "
   ]
  },
  {
   "cell_type": "code",
   "execution_count": 25,
   "id": "add18fba-bc2d-4f3b-8585-43758ab6480a",
   "metadata": {},
   "outputs": [
    {
     "data": {
      "text/plain": [
       "{1, 2, 3, 4, 5}"
      ]
     },
     "execution_count": 25,
     "metadata": {},
     "output_type": "execute_result"
    }
   ],
   "source": [
    "my_set={1,2,3,4,5}\n",
    "my_set"
   ]
  },
  {
   "cell_type": "code",
   "execution_count": 26,
   "id": "91209c89-dcbc-4d98-81a2-21c3b3cd5807",
   "metadata": {},
   "outputs": [
    {
     "data": {
      "text/plain": [
       "{1, 2, 3, 4, 5, 8}"
      ]
     },
     "execution_count": 26,
     "metadata": {},
     "output_type": "execute_result"
    }
   ],
   "source": [
    "my_set.add(8)\n",
    "my_set"
   ]
  },
  {
   "cell_type": "code",
   "execution_count": 27,
   "id": "23c8cbc9-7b07-4db7-bfa6-e595f0fa8142",
   "metadata": {},
   "outputs": [
    {
     "data": {
      "text/plain": [
       "{1, 2, 3, 4, 5, 5.5, 8}"
      ]
     },
     "execution_count": 27,
     "metadata": {},
     "output_type": "execute_result"
    }
   ],
   "source": [
    "my_set.add(5.5)\n",
    "my_set"
   ]
  },
  {
   "cell_type": "code",
   "execution_count": 28,
   "id": "f31badfa-bb63-498a-8a5c-6e2a1d5d1ba0",
   "metadata": {},
   "outputs": [
    {
     "data": {
      "text/plain": [
       "{1, 2, 3, 4, 5, 5.5, 8, 'blue', 'green', 'red'}"
      ]
     },
     "execution_count": 28,
     "metadata": {},
     "output_type": "execute_result"
    }
   ],
   "source": [
    "my_set.update(set_color)\n",
    "my_set"
   ]
  },
  {
   "cell_type": "markdown",
   "id": "464100f4-dd1f-4371-92af-777e52e4e0f9",
   "metadata": {},
   "source": [
    "## Remove"
   ]
  },
  {
   "cell_type": "code",
   "execution_count": 29,
   "id": "4face947-6449-4b10-8e55-525aee10b889",
   "metadata": {},
   "outputs": [
    {
     "data": {
      "text/plain": [
       "{1, 2, 3, 5, 5.5, 8, 'blue', 'green', 'red'}"
      ]
     },
     "execution_count": 29,
     "metadata": {},
     "output_type": "execute_result"
    }
   ],
   "source": [
    "my_set.remove(4)\n",
    "my_set"
   ]
  },
  {
   "cell_type": "code",
   "execution_count": 21,
   "id": "f0247256-bcc2-400a-891d-f4602ce2652a",
   "metadata": {},
   "outputs": [
    {
     "data": {
      "text/plain": [
       "1"
      ]
     },
     "execution_count": 21,
     "metadata": {},
     "output_type": "execute_result"
    }
   ],
   "source": [
    "my_set.pop()"
   ]
  },
  {
   "cell_type": "code",
   "execution_count": 22,
   "id": "470f4213-5002-4849-a5b3-a1896aa72968",
   "metadata": {},
   "outputs": [
    {
     "data": {
      "text/plain": [
       "{2, 3, 5, 5.5, 8, 'blue', 'green', 'red'}"
      ]
     },
     "execution_count": 22,
     "metadata": {},
     "output_type": "execute_result"
    }
   ],
   "source": [
    "my_set\n"
   ]
  },
  {
   "cell_type": "markdown",
   "id": "cd0f5662-6715-4864-aa3e-a3bce9b46b84",
   "metadata": {},
   "source": [
    "## checking Operation"
   ]
  },
  {
   "cell_type": "code",
   "execution_count": 24,
   "id": "97e25415-57b1-4b0c-b7dc-e57c415ee1fb",
   "metadata": {},
   "outputs": [
    {
     "data": {
      "text/plain": [
       "True"
      ]
     },
     "execution_count": 24,
     "metadata": {},
     "output_type": "execute_result"
    }
   ],
   "source": [
    "'blue' in my_set"
   ]
  },
  {
   "cell_type": "code",
   "execution_count": 25,
   "id": "0cb7d0e8-ddd4-4528-afeb-32a221d575a5",
   "metadata": {},
   "outputs": [
    {
     "data": {
      "text/plain": [
       "False"
      ]
     },
     "execution_count": 25,
     "metadata": {},
     "output_type": "execute_result"
    }
   ],
   "source": [
    "4 in my_set"
   ]
  },
  {
   "cell_type": "code",
   "execution_count": 26,
   "id": "d84fe102-c987-4a66-97fe-82d85e6eca75",
   "metadata": {},
   "outputs": [
    {
     "data": {
      "text/plain": [
       "True"
      ]
     },
     "execution_count": 26,
     "metadata": {},
     "output_type": "execute_result"
    }
   ],
   "source": [
    "True in mixed_set\n"
   ]
  },
  {
   "cell_type": "code",
   "execution_count": 27,
   "id": "f16fe814-084e-4dfc-8e47-3f45ea28ad67",
   "metadata": {},
   "outputs": [
    {
     "data": {
      "text/plain": [
       "True"
      ]
     },
     "execution_count": 27,
     "metadata": {},
     "output_type": "execute_result"
    }
   ],
   "source": [
    "False in mixed_set"
   ]
  },
  {
   "cell_type": "markdown",
   "id": "7767b1f7-4354-4fba-b6c3-beeaf63cd4ea",
   "metadata": {},
   "source": [
    "## Set Manipulation"
   ]
  },
  {
   "cell_type": "code",
   "execution_count": 28,
   "id": "40adfcee-fa0e-48dc-a324-5cafe002229e",
   "metadata": {},
   "outputs": [],
   "source": [
    "set1 ={1,2,3,7,8}"
   ]
  },
  {
   "cell_type": "code",
   "execution_count": 29,
   "id": "2d5c1795-a2f2-4c1d-b374-752d6fd8bc58",
   "metadata": {},
   "outputs": [],
   "source": [
    "set2={4,5,6,7,9,8}"
   ]
  },
  {
   "cell_type": "markdown",
   "id": "2506db4a-91e5-4861-8a11-5107f7251b84",
   "metadata": {},
   "source": [
    "union |"
   ]
  },
  {
   "cell_type": "code",
   "execution_count": 30,
   "id": "b74aafd5-61f6-42e4-a882-e6d983de5a09",
   "metadata": {},
   "outputs": [],
   "source": [
    "union_result=set1|set2"
   ]
  },
  {
   "cell_type": "code",
   "execution_count": 31,
   "id": "e8e632d4-a68e-47b3-9ded-b63d8ce9aaf1",
   "metadata": {},
   "outputs": [
    {
     "name": "stdout",
     "output_type": "stream",
     "text": [
      "{1, 2, 3, 4, 5, 6, 7, 8, 9}\n"
     ]
    }
   ],
   "source": [
    "print(union_result)"
   ]
  },
  {
   "cell_type": "code",
   "execution_count": 32,
   "id": "06c43f98-6581-46e1-9ddb-e338efc6aee7",
   "metadata": {},
   "outputs": [],
   "source": [
    "# intersection &"
   ]
  },
  {
   "cell_type": "code",
   "execution_count": 33,
   "id": "afea32a3-fd4d-44de-976d-d6e3cb3e9a52",
   "metadata": {},
   "outputs": [],
   "source": [
    "intersect_result=set1 & set2"
   ]
  },
  {
   "cell_type": "code",
   "execution_count": 34,
   "id": "8ac43b23-64f4-4625-b380-5ca1b804c10a",
   "metadata": {},
   "outputs": [
    {
     "name": "stdout",
     "output_type": "stream",
     "text": [
      "{8, 7}\n"
     ]
    }
   ],
   "source": [
    "print(intersect_result)"
   ]
  },
  {
   "cell_type": "code",
   "execution_count": 35,
   "id": "bc84f994-4368-4a40-a8d1-17b837396152",
   "metadata": {},
   "outputs": [],
   "source": [
    "# difference -"
   ]
  },
  {
   "cell_type": "code",
   "execution_count": 36,
   "id": "4686de37-251c-4436-85d3-b05a80858de6",
   "metadata": {},
   "outputs": [],
   "source": [
    "diff_result=set1-set2"
   ]
  },
  {
   "cell_type": "code",
   "execution_count": 37,
   "id": "b23a4b5e-9d3f-44c1-a0a1-8a629034aab2",
   "metadata": {},
   "outputs": [
    {
     "name": "stdout",
     "output_type": "stream",
     "text": [
      "{1, 2, 3}\n"
     ]
    }
   ],
   "source": [
    "print(diff_result)"
   ]
  },
  {
   "cell_type": "code",
   "execution_count": 38,
   "id": "5e2c8da6-e71d-487e-b76a-be01d00f83a2",
   "metadata": {},
   "outputs": [],
   "source": [
    "diff_result=set2-set1"
   ]
  },
  {
   "cell_type": "code",
   "execution_count": 39,
   "id": "204248ff-d3d1-421e-9f48-4a7d8be6b269",
   "metadata": {},
   "outputs": [
    {
     "name": "stdout",
     "output_type": "stream",
     "text": [
      "{9, 4, 5, 6}\n"
     ]
    }
   ],
   "source": [
    "print(diff_result)"
   ]
  },
  {
   "cell_type": "code",
   "execution_count": 40,
   "id": "ace51a96-e13d-4c71-8780-f94a1181654f",
   "metadata": {},
   "outputs": [
    {
     "name": "stdout",
     "output_type": "stream",
     "text": [
      "False\n",
      "1\n",
      "2.5\n",
      "(1, 2)\n",
      "Pyhton\n"
     ]
    }
   ],
   "source": [
    "for values in mixed_set:\n",
    "    print(values)"
   ]
  },
  {
   "cell_type": "code",
   "execution_count": 41,
   "id": "3ac89df0-67a9-46ad-b047-21da4c206cd8",
   "metadata": {},
   "outputs": [
    {
     "data": {
      "text/plain": [
       "set()"
      ]
     },
     "execution_count": 41,
     "metadata": {},
     "output_type": "execute_result"
    }
   ],
   "source": [
    "set_color.clear()\n",
    "set_color"
   ]
  },
  {
   "cell_type": "code",
   "execution_count": 49,
   "id": "f954262f-1baf-445f-894c-0e629c42aa36",
   "metadata": {},
   "outputs": [
    {
     "name": "stdout",
     "output_type": "stream",
     "text": [
      "\n",
      "p\n",
      "py\n",
      "pyt\n",
      "pyth\n",
      "pytho\n",
      "python\n",
      "pytho\n",
      "pyth\n",
      "pyt\n",
      "py\n",
      "p\n"
     ]
    }
   ],
   "source": [
    "text='python'\n",
    "\n",
    "for i in range(0,len(text)):\n",
    "    print(text[0:i])\n",
    "print(text)\n",
    "for j in range(1,len(text)):\n",
    "    print(text[:-j])\n",
    "\n"
   ]
  },
  {
   "cell_type": "code",
   "execution_count": 50,
   "id": "342186cc-5028-4ebf-b08c-439750d0b37a",
   "metadata": {},
   "outputs": [
    {
     "data": {
      "text/plain": [
       "[1, 4, 9, 1089]"
      ]
     },
     "execution_count": 50,
     "metadata": {},
     "output_type": "execute_result"
    }
   ],
   "source": [
    "# Map()\n",
    "num=[1,2,3,33]\n",
    "sqr_num=list(map(lambda x:x**2,num))\n",
    "sqr_num"
   ]
  },
  {
   "cell_type": "code",
   "execution_count": 51,
   "id": "7ffad8a0-02a4-4e6d-8b26-c0a4121b2592",
   "metadata": {},
   "outputs": [],
   "source": [
    "# filter function "
   ]
  },
  {
   "cell_type": "code",
   "execution_count": 53,
   "id": "33b97341-325c-438d-bdfc-3d2548bdfcee",
   "metadata": {},
   "outputs": [
    {
     "data": {
      "text/plain": [
       "[2]"
      ]
     },
     "execution_count": 53,
     "metadata": {},
     "output_type": "execute_result"
    }
   ],
   "source": [
    "num=[1,2,3,33]\n",
    "even_num=list(filter(lambda x:x%2==0,num))\n",
    "even_num"
   ]
  },
  {
   "cell_type": "code",
   "execution_count": 54,
   "id": "d4c984e1-06b8-49d5-8136-aa68b801209a",
   "metadata": {},
   "outputs": [],
   "source": [
    "# sorted Function"
   ]
  },
  {
   "cell_type": "code",
   "execution_count": 55,
   "id": "96e189c4-d9ed-4469-bf0b-147b4457610f",
   "metadata": {},
   "outputs": [],
   "source": [
    "names=['Alice','charles','Eva','Dave']"
   ]
  },
  {
   "cell_type": "code",
   "execution_count": 56,
   "id": "0339fb34-204b-4ab7-9496-df92ceebae0e",
   "metadata": {},
   "outputs": [
    {
     "data": {
      "text/plain": [
       "['Eva', 'Dave', 'Alice', 'charles']"
      ]
     },
     "execution_count": 56,
     "metadata": {},
     "output_type": "execute_result"
    }
   ],
   "source": [
    "sorted_name=sorted(names,key=lambda name:len(name))\n",
    "sorted_name"
   ]
  },
  {
   "cell_type": "code",
   "execution_count": null,
   "id": "0c2b5f2a-8814-4f19-9147-b68c52a4e9cd",
   "metadata": {},
   "outputs": [],
   "source": []
  }
 ],
 "metadata": {
  "kernelspec": {
   "display_name": "Python [conda env:base] *",
   "language": "python",
   "name": "conda-base-py"
  },
  "language_info": {
   "codemirror_mode": {
    "name": "ipython",
    "version": 3
   },
   "file_extension": ".py",
   "mimetype": "text/x-python",
   "name": "python",
   "nbconvert_exporter": "python",
   "pygments_lexer": "ipython3",
   "version": "3.13.5"
  }
 },
 "nbformat": 4,
 "nbformat_minor": 5
}
