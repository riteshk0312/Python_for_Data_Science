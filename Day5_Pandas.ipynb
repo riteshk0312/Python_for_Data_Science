{
 "cells": [
  {
   "cell_type": "markdown",
   "id": "d7585212-1785-4a09-83ea-7cc8e0c6982f",
   "metadata": {},
   "source": [
    "# Pandas"
   ]
  },
  {
   "cell_type": "markdown",
   "id": "cc89dfd0-3577-400a-a008-ed7061fe1252",
   "metadata": {},
   "source": [
    "## 1. Series"
   ]
  },
  {
   "cell_type": "code",
   "execution_count": 1,
   "id": "e796fc7c-7fbd-4911-a4e5-5d5744504c03",
   "metadata": {},
   "outputs": [],
   "source": [
    "data= [10,20,30,40,50]"
   ]
  },
  {
   "cell_type": "code",
   "execution_count": 2,
   "id": "83175002-82bd-40f4-99d9-58ba386ceaa3",
   "metadata": {},
   "outputs": [],
   "source": [
    "# create series from list\n"
   ]
  },
  {
   "cell_type": "code",
   "execution_count": 3,
   "id": "4f402b82-b9ec-4037-b222-77ec66c59321",
   "metadata": {},
   "outputs": [],
   "source": [
    "import pandas as pd"
   ]
  },
  {
   "cell_type": "code",
   "execution_count": 5,
   "id": "00c24725-aa94-4876-b9ed-03cfef05db01",
   "metadata": {},
   "outputs": [
    {
     "name": "stdout",
     "output_type": "stream",
     "text": [
      "0    10\n",
      "1    20\n",
      "2    30\n",
      "3    40\n",
      "4    50\n",
      "dtype: int64\n"
     ]
    }
   ],
   "source": [
    "series_from_list=pd.Series(data)\n",
    "print(series_from_list)"
   ]
  },
  {
   "cell_type": "code",
   "execution_count": 6,
   "id": "29290733-e9e3-4c2f-9a22-b298f0f0d56c",
   "metadata": {},
   "outputs": [],
   "source": [
    "import numpy as np"
   ]
  },
  {
   "cell_type": "code",
   "execution_count": 8,
   "id": "e35ff0ca-d3b8-4b62-bb87-c759eb243b87",
   "metadata": {},
   "outputs": [],
   "source": [
    "numpy_array=np.array([1,2,3,4,5])"
   ]
  },
  {
   "cell_type": "code",
   "execution_count": 10,
   "id": "5fdc4a80-ba2b-43f0-b6d8-eda634fc7ab3",
   "metadata": {},
   "outputs": [
    {
     "data": {
      "text/plain": [
       "0    1\n",
       "1    2\n",
       "2    3\n",
       "3    4\n",
       "4    5\n",
       "dtype: int64"
      ]
     },
     "execution_count": 10,
     "metadata": {},
     "output_type": "execute_result"
    }
   ],
   "source": [
    "series_from_numpy=pd.Series(numpy_array)\n",
    "series_from_numpy"
   ]
  },
  {
   "cell_type": "code",
   "execution_count": 11,
   "id": "5d301a54-b579-42d6-9b37-49e0c6632fff",
   "metadata": {},
   "outputs": [],
   "source": [
    "# create custom Index"
   ]
  },
  {
   "cell_type": "code",
   "execution_count": 12,
   "id": "3dac47c0-b562-4fa3-a0c0-f4d0baa64470",
   "metadata": {},
   "outputs": [
    {
     "data": {
      "text/plain": [
       "A    10\n",
       "B    20\n",
       "C    30\n",
       "D    40\n",
       "E    50\n",
       "dtype: int64"
      ]
     },
     "execution_count": 12,
     "metadata": {},
     "output_type": "execute_result"
    }
   ],
   "source": [
    "custom_index_series=pd.Series(data,index=['A','B','C','D','E'])\n",
    "custom_index_series"
   ]
  },
  {
   "cell_type": "markdown",
   "id": "4bf37c42-9d66-4148-b8a6-38f0b4236693",
   "metadata": {},
   "source": [
    "# Access the Series"
   ]
  },
  {
   "cell_type": "code",
   "execution_count": 13,
   "id": "e554c242-e95a-4f13-9c57-0c45d7e0a7c1",
   "metadata": {},
   "outputs": [
    {
     "data": {
      "text/plain": [
       "np.int64(30)"
      ]
     },
     "execution_count": 13,
     "metadata": {},
     "output_type": "execute_result"
    }
   ],
   "source": [
    "custom_index_series['C']"
   ]
  },
  {
   "cell_type": "code",
   "execution_count": 14,
   "id": "c63197dd-b748-41b4-9b0c-2e6658f08b85",
   "metadata": {},
   "outputs": [
    {
     "name": "stderr",
     "output_type": "stream",
     "text": [
      "C:\\Users\\rites\\AppData\\Local\\Temp\\ipykernel_24116\\796444265.py:1: FutureWarning: Series.__getitem__ treating keys as positions is deprecated. In a future version, integer keys will always be treated as labels (consistent with DataFrame behavior). To access a value by position, use `ser.iloc[pos]`\n",
      "  custom_index_series[2]\n"
     ]
    },
    {
     "data": {
      "text/plain": [
       "np.int64(30)"
      ]
     },
     "execution_count": 14,
     "metadata": {},
     "output_type": "execute_result"
    }
   ],
   "source": [
    "custom_index_series[2]"
   ]
  },
  {
   "cell_type": "code",
   "execution_count": 15,
   "id": "d5dfb198-8b95-4e3d-8c74-5d343df7332f",
   "metadata": {},
   "outputs": [
    {
     "data": {
      "text/plain": [
       "0    10\n",
       "1    20\n",
       "2    30\n",
       "3    40\n",
       "4    50\n",
       "dtype: int64"
      ]
     },
     "execution_count": 15,
     "metadata": {},
     "output_type": "execute_result"
    }
   ],
   "source": [
    "series_from_list"
   ]
  },
  {
   "cell_type": "markdown",
   "id": "90f335d0-fb73-43e2-83a0-9ed64e04b91f",
   "metadata": {},
   "source": [
    "# slicing"
   ]
  },
  {
   "cell_type": "code",
   "execution_count": 16,
   "id": "6073a988-7585-458e-8d33-de929171c5ad",
   "metadata": {},
   "outputs": [
    {
     "data": {
      "text/plain": [
       "1    20\n",
       "2    30\n",
       "3    40\n",
       "dtype: int64"
      ]
     },
     "execution_count": 16,
     "metadata": {},
     "output_type": "execute_result"
    }
   ],
   "source": [
    "slicing_series=series_from_list[1:4]\n",
    "slicing_series"
   ]
  },
  {
   "cell_type": "markdown",
   "id": "3e871e94-7580-47fc-af7c-654827e4e83b",
   "metadata": {},
   "source": [
    "## DataFrame"
   ]
  },
  {
   "cell_type": "code",
   "execution_count": 17,
   "id": "ddb5b129-edb9-47df-937f-f4e2fcaacb5c",
   "metadata": {},
   "outputs": [],
   "source": [
    "# create a dataframe using dictionary\n"
   ]
  },
  {
   "cell_type": "code",
   "execution_count": 18,
   "id": "75f663a6-4cb7-45d4-8114-457b5508ea44",
   "metadata": {},
   "outputs": [
    {
     "data": {
      "text/plain": [
       "{'Name': ['ram', 'eva', 'shyam', 'mark'], 'Age': [29, 39, 49, 57]}"
      ]
     },
     "execution_count": 18,
     "metadata": {},
     "output_type": "execute_result"
    }
   ],
   "source": [
    "dict1 = {\n",
    "    'Name' : ['ram','eva','shyam','mark'],\n",
    "    'Age':[29,39,49,57]\n",
    "}\n",
    "dict1"
   ]
  },
  {
   "cell_type": "code",
   "execution_count": 19,
   "id": "4b5e9140-7650-41d9-958b-50ecb8ac5314",
   "metadata": {},
   "outputs": [],
   "source": [
    "df_from_dict = pd.DataFrame(dict1)"
   ]
  },
  {
   "cell_type": "code",
   "execution_count": 20,
   "id": "24917d50-da2f-4718-bef9-2cf2291e92ab",
   "metadata": {},
   "outputs": [
    {
     "name": "stdout",
     "output_type": "stream",
     "text": [
      "    Name  Age\n",
      "0    ram   29\n",
      "1    eva   39\n",
      "2  shyam   49\n",
      "3   mark   57\n"
     ]
    }
   ],
   "source": [
    "print(df_from_dict)"
   ]
  },
  {
   "cell_type": "code",
   "execution_count": 21,
   "id": "136c4142-be59-494e-b570-a1f8a24a3aa1",
   "metadata": {},
   "outputs": [
    {
     "data": {
      "text/html": [
       "<div>\n",
       "<style scoped>\n",
       "    .dataframe tbody tr th:only-of-type {\n",
       "        vertical-align: middle;\n",
       "    }\n",
       "\n",
       "    .dataframe tbody tr th {\n",
       "        vertical-align: top;\n",
       "    }\n",
       "\n",
       "    .dataframe thead th {\n",
       "        text-align: right;\n",
       "    }\n",
       "</style>\n",
       "<table border=\"1\" class=\"dataframe\">\n",
       "  <thead>\n",
       "    <tr style=\"text-align: right;\">\n",
       "      <th></th>\n",
       "      <th>Name</th>\n",
       "      <th>Age</th>\n",
       "    </tr>\n",
       "  </thead>\n",
       "  <tbody>\n",
       "    <tr>\n",
       "      <th>0</th>\n",
       "      <td>ram</td>\n",
       "      <td>29</td>\n",
       "    </tr>\n",
       "    <tr>\n",
       "      <th>1</th>\n",
       "      <td>eva</td>\n",
       "      <td>39</td>\n",
       "    </tr>\n",
       "    <tr>\n",
       "      <th>2</th>\n",
       "      <td>shyam</td>\n",
       "      <td>49</td>\n",
       "    </tr>\n",
       "    <tr>\n",
       "      <th>3</th>\n",
       "      <td>mark</td>\n",
       "      <td>57</td>\n",
       "    </tr>\n",
       "  </tbody>\n",
       "</table>\n",
       "</div>"
      ],
      "text/plain": [
       "    Name  Age\n",
       "0    ram   29\n",
       "1    eva   39\n",
       "2  shyam   49\n",
       "3   mark   57"
      ]
     },
     "execution_count": 21,
     "metadata": {},
     "output_type": "execute_result"
    }
   ],
   "source": [
    "df_from_dict"
   ]
  },
  {
   "cell_type": "code",
   "execution_count": 22,
   "id": "5d035442-3ea4-4bb8-8a2d-97ae7d776552",
   "metadata": {},
   "outputs": [],
   "source": [
    "# create data frame from list"
   ]
  },
  {
   "cell_type": "code",
   "execution_count": 24,
   "id": "8dc96122-f1a3-4dd6-bb98-0eec0103e190",
   "metadata": {},
   "outputs": [
    {
     "data": {
      "text/plain": [
       "[['Alice,29'], ['Mark,39'], ['Charlie', '48']]"
      ]
     },
     "execution_count": 24,
     "metadata": {},
     "output_type": "execute_result"
    }
   ],
   "source": [
    "data_list=[['Alice,29'],['Mark,39'],['Charlie','48']]\n",
    "data_list"
   ]
  },
  {
   "cell_type": "code",
   "execution_count": 27,
   "id": "2e81a6c4-5bf6-4083-bbb9-15f61e55eb5c",
   "metadata": {},
   "outputs": [],
   "source": [
    "df_from_list=pd.DataFrame(data_list,columns=['Name','Age'])"
   ]
  },
  {
   "cell_type": "code",
   "execution_count": 28,
   "id": "ec748e76-f109-4e38-ae55-f62559cea95a",
   "metadata": {},
   "outputs": [
    {
     "data": {
      "text/html": [
       "<div>\n",
       "<style scoped>\n",
       "    .dataframe tbody tr th:only-of-type {\n",
       "        vertical-align: middle;\n",
       "    }\n",
       "\n",
       "    .dataframe tbody tr th {\n",
       "        vertical-align: top;\n",
       "    }\n",
       "\n",
       "    .dataframe thead th {\n",
       "        text-align: right;\n",
       "    }\n",
       "</style>\n",
       "<table border=\"1\" class=\"dataframe\">\n",
       "  <thead>\n",
       "    <tr style=\"text-align: right;\">\n",
       "      <th></th>\n",
       "      <th>Name</th>\n",
       "      <th>Age</th>\n",
       "    </tr>\n",
       "  </thead>\n",
       "  <tbody>\n",
       "    <tr>\n",
       "      <th>0</th>\n",
       "      <td>Alice,29</td>\n",
       "      <td>None</td>\n",
       "    </tr>\n",
       "    <tr>\n",
       "      <th>1</th>\n",
       "      <td>Mark,39</td>\n",
       "      <td>None</td>\n",
       "    </tr>\n",
       "    <tr>\n",
       "      <th>2</th>\n",
       "      <td>Charlie</td>\n",
       "      <td>48</td>\n",
       "    </tr>\n",
       "  </tbody>\n",
       "</table>\n",
       "</div>"
      ],
      "text/plain": [
       "       Name   Age\n",
       "0  Alice,29  None\n",
       "1   Mark,39  None\n",
       "2   Charlie    48"
      ]
     },
     "execution_count": 28,
     "metadata": {},
     "output_type": "execute_result"
    }
   ],
   "source": [
    "df_from_list"
   ]
  },
  {
   "cell_type": "code",
   "execution_count": 29,
   "id": "979121b2-f1db-437b-86e3-513bde0ab11b",
   "metadata": {},
   "outputs": [],
   "source": [
    "# empty dataframe"
   ]
  },
  {
   "cell_type": "code",
   "execution_count": 30,
   "id": "ff7a911e-3547-450f-bda5-d89084a959fd",
   "metadata": {},
   "outputs": [],
   "source": [
    "emptydf=pd.DataFrame()"
   ]
  },
  {
   "cell_type": "code",
   "execution_count": 32,
   "id": "a8508db0-8a49-41a9-8a1f-c4197baf0972",
   "metadata": {},
   "outputs": [
    {
     "data": {
      "text/html": [
       "<div>\n",
       "<style scoped>\n",
       "    .dataframe tbody tr th:only-of-type {\n",
       "        vertical-align: middle;\n",
       "    }\n",
       "\n",
       "    .dataframe tbody tr th {\n",
       "        vertical-align: top;\n",
       "    }\n",
       "\n",
       "    .dataframe thead th {\n",
       "        text-align: right;\n",
       "    }\n",
       "</style>\n",
       "<table border=\"1\" class=\"dataframe\">\n",
       "  <thead>\n",
       "    <tr style=\"text-align: right;\">\n",
       "      <th></th>\n",
       "    </tr>\n",
       "  </thead>\n",
       "  <tbody>\n",
       "  </tbody>\n",
       "</table>\n",
       "</div>"
      ],
      "text/plain": [
       "Empty DataFrame\n",
       "Columns: []\n",
       "Index: []"
      ]
     },
     "execution_count": 32,
     "metadata": {},
     "output_type": "execute_result"
    }
   ],
   "source": [
    "emptydf\n"
   ]
  },
  {
   "cell_type": "code",
   "execution_count": 33,
   "id": "1d1c348d-dd95-453a-95de-8b3b89600a82",
   "metadata": {},
   "outputs": [],
   "source": [
    "# accessing_Indexing"
   ]
  },
  {
   "cell_type": "code",
   "execution_count": 34,
   "id": "9e350563-9900-41ea-809a-ffaf073eba74",
   "metadata": {},
   "outputs": [
    {
     "data": {
      "text/html": [
       "<div>\n",
       "<style scoped>\n",
       "    .dataframe tbody tr th:only-of-type {\n",
       "        vertical-align: middle;\n",
       "    }\n",
       "\n",
       "    .dataframe tbody tr th {\n",
       "        vertical-align: top;\n",
       "    }\n",
       "\n",
       "    .dataframe thead th {\n",
       "        text-align: right;\n",
       "    }\n",
       "</style>\n",
       "<table border=\"1\" class=\"dataframe\">\n",
       "  <thead>\n",
       "    <tr style=\"text-align: right;\">\n",
       "      <th></th>\n",
       "      <th>Name</th>\n",
       "      <th>Age</th>\n",
       "    </tr>\n",
       "  </thead>\n",
       "  <tbody>\n",
       "    <tr>\n",
       "      <th>0</th>\n",
       "      <td>ram</td>\n",
       "      <td>29</td>\n",
       "    </tr>\n",
       "    <tr>\n",
       "      <th>1</th>\n",
       "      <td>eva</td>\n",
       "      <td>39</td>\n",
       "    </tr>\n",
       "    <tr>\n",
       "      <th>2</th>\n",
       "      <td>shyam</td>\n",
       "      <td>49</td>\n",
       "    </tr>\n",
       "    <tr>\n",
       "      <th>3</th>\n",
       "      <td>mark</td>\n",
       "      <td>57</td>\n",
       "    </tr>\n",
       "  </tbody>\n",
       "</table>\n",
       "</div>"
      ],
      "text/plain": [
       "    Name  Age\n",
       "0    ram   29\n",
       "1    eva   39\n",
       "2  shyam   49\n",
       "3   mark   57"
      ]
     },
     "execution_count": 34,
     "metadata": {},
     "output_type": "execute_result"
    }
   ],
   "source": [
    "df_from_dict"
   ]
  },
  {
   "cell_type": "code",
   "execution_count": 37,
   "id": "12786cd2-e3b4-40c7-b993-084ad1336cb4",
   "metadata": {},
   "outputs": [
    {
     "data": {
      "text/plain": [
       "0      ram\n",
       "1      eva\n",
       "2    shyam\n",
       "3     mark\n",
       "Name: Name, dtype: object"
      ]
     },
     "execution_count": 37,
     "metadata": {},
     "output_type": "execute_result"
    }
   ],
   "source": [
    "name_col=df_from_dict['Name']#single column\n",
    "name_col # Series"
   ]
  },
  {
   "cell_type": "code",
   "execution_count": 39,
   "id": "f324887a-d43d-4de3-9526-877f3ebef1ec",
   "metadata": {},
   "outputs": [
    {
     "data": {
      "text/html": [
       "<div>\n",
       "<style scoped>\n",
       "    .dataframe tbody tr th:only-of-type {\n",
       "        vertical-align: middle;\n",
       "    }\n",
       "\n",
       "    .dataframe tbody tr th {\n",
       "        vertical-align: top;\n",
       "    }\n",
       "\n",
       "    .dataframe thead th {\n",
       "        text-align: right;\n",
       "    }\n",
       "</style>\n",
       "<table border=\"1\" class=\"dataframe\">\n",
       "  <thead>\n",
       "    <tr style=\"text-align: right;\">\n",
       "      <th></th>\n",
       "      <th>Name</th>\n",
       "      <th>Age</th>\n",
       "    </tr>\n",
       "  </thead>\n",
       "  <tbody>\n",
       "    <tr>\n",
       "      <th>0</th>\n",
       "      <td>ram</td>\n",
       "      <td>29</td>\n",
       "    </tr>\n",
       "    <tr>\n",
       "      <th>1</th>\n",
       "      <td>eva</td>\n",
       "      <td>39</td>\n",
       "    </tr>\n",
       "    <tr>\n",
       "      <th>2</th>\n",
       "      <td>shyam</td>\n",
       "      <td>49</td>\n",
       "    </tr>\n",
       "    <tr>\n",
       "      <th>3</th>\n",
       "      <td>mark</td>\n",
       "      <td>57</td>\n",
       "    </tr>\n",
       "  </tbody>\n",
       "</table>\n",
       "</div>"
      ],
      "text/plain": [
       "    Name  Age\n",
       "0    ram   29\n",
       "1    eva   39\n",
       "2  shyam   49\n",
       "3   mark   57"
      ]
     },
     "execution_count": 39,
     "metadata": {},
     "output_type": "execute_result"
    }
   ],
   "source": [
    "sb_df=df_from_dict[['Name','Age']]\n",
    "sb_df"
   ]
  },
  {
   "cell_type": "code",
   "execution_count": 40,
   "id": "dcee1277-5975-41b6-9463-70844d9040fe",
   "metadata": {},
   "outputs": [],
   "source": [
    "# filter row on condition"
   ]
  },
  {
   "cell_type": "code",
   "execution_count": 41,
   "id": "a527c5ed-b61c-4936-a95d-bb33e29a4d28",
   "metadata": {},
   "outputs": [
    {
     "data": {
      "text/html": [
       "<div>\n",
       "<style scoped>\n",
       "    .dataframe tbody tr th:only-of-type {\n",
       "        vertical-align: middle;\n",
       "    }\n",
       "\n",
       "    .dataframe tbody tr th {\n",
       "        vertical-align: top;\n",
       "    }\n",
       "\n",
       "    .dataframe thead th {\n",
       "        text-align: right;\n",
       "    }\n",
       "</style>\n",
       "<table border=\"1\" class=\"dataframe\">\n",
       "  <thead>\n",
       "    <tr style=\"text-align: right;\">\n",
       "      <th></th>\n",
       "      <th>Name</th>\n",
       "      <th>Age</th>\n",
       "    </tr>\n",
       "  </thead>\n",
       "  <tbody>\n",
       "    <tr>\n",
       "      <th>2</th>\n",
       "      <td>shyam</td>\n",
       "      <td>49</td>\n",
       "    </tr>\n",
       "    <tr>\n",
       "      <th>3</th>\n",
       "      <td>mark</td>\n",
       "      <td>57</td>\n",
       "    </tr>\n",
       "  </tbody>\n",
       "</table>\n",
       "</div>"
      ],
      "text/plain": [
       "    Name  Age\n",
       "2  shyam   49\n",
       "3   mark   57"
      ]
     },
     "execution_count": 41,
     "metadata": {},
     "output_type": "execute_result"
    }
   ],
   "source": [
    "df_from_dict[df_from_dict['Age']>40]"
   ]
  },
  {
   "cell_type": "code",
   "execution_count": 44,
   "id": "9bd13091-d323-44e9-a67b-2595eb6b7cf4",
   "metadata": {},
   "outputs": [
    {
     "data": {
      "text/plain": [
       "'ram'"
      ]
     },
     "execution_count": 44,
     "metadata": {},
     "output_type": "execute_result"
    }
   ],
   "source": [
    "cell_value=df_from_dict.at[0,'Name']\n",
    "cell_value"
   ]
  },
  {
   "cell_type": "markdown",
   "id": "5e62f932-e1d4-4287-9da5-567d47a0776c",
   "metadata": {},
   "source": [
    "# Loading the file"
   ]
  },
  {
   "cell_type": "markdown",
   "id": "2ca9ec38-55c4-4dde-8e2d-f1eb0610ccfe",
   "metadata": {},
   "source": [
    "# 1. CSV File"
   ]
  },
  {
   "cell_type": "code",
   "execution_count": 46,
   "id": "2605974f-ac2d-4763-bcd8-4ebfd221a609",
   "metadata": {},
   "outputs": [],
   "source": [
    "# raed file"
   ]
  },
  {
   "cell_type": "code",
   "execution_count": 47,
   "id": "e39566e7-6f79-4bc4-b1ed-570305261167",
   "metadata": {},
   "outputs": [],
   "source": [
    "data= pd.read_csv(r\"C:\\Users\\rites\\Downloads\\customers-100.csv\")"
   ]
  },
  {
   "cell_type": "code",
   "execution_count": 48,
   "id": "74e1e45c-66c7-4c1f-9022-a335855bcb7f",
   "metadata": {},
   "outputs": [
    {
     "data": {
      "text/html": [
       "<div>\n",
       "<style scoped>\n",
       "    .dataframe tbody tr th:only-of-type {\n",
       "        vertical-align: middle;\n",
       "    }\n",
       "\n",
       "    .dataframe tbody tr th {\n",
       "        vertical-align: top;\n",
       "    }\n",
       "\n",
       "    .dataframe thead th {\n",
       "        text-align: right;\n",
       "    }\n",
       "</style>\n",
       "<table border=\"1\" class=\"dataframe\">\n",
       "  <thead>\n",
       "    <tr style=\"text-align: right;\">\n",
       "      <th></th>\n",
       "      <th>Index</th>\n",
       "      <th>Customer Id</th>\n",
       "      <th>First Name</th>\n",
       "      <th>Last Name</th>\n",
       "      <th>Company</th>\n",
       "      <th>City</th>\n",
       "      <th>Country</th>\n",
       "      <th>Phone 1</th>\n",
       "      <th>Phone 2</th>\n",
       "      <th>Email</th>\n",
       "      <th>Subscription Date</th>\n",
       "      <th>Website</th>\n",
       "    </tr>\n",
       "  </thead>\n",
       "  <tbody>\n",
       "    <tr>\n",
       "      <th>0</th>\n",
       "      <td>1</td>\n",
       "      <td>DD37Cf93aecA6Dc</td>\n",
       "      <td>Sheryl</td>\n",
       "      <td>Baxter</td>\n",
       "      <td>Rasmussen Group</td>\n",
       "      <td>East Leonard</td>\n",
       "      <td>Chile</td>\n",
       "      <td>229.077.5154</td>\n",
       "      <td>397.884.0519x718</td>\n",
       "      <td>zunigavanessa@smith.info</td>\n",
       "      <td>2020-08-24</td>\n",
       "      <td>http://www.stephenson.com/</td>\n",
       "    </tr>\n",
       "    <tr>\n",
       "      <th>1</th>\n",
       "      <td>2</td>\n",
       "      <td>1Ef7b82A4CAAD10</td>\n",
       "      <td>Preston</td>\n",
       "      <td>Lozano</td>\n",
       "      <td>Vega-Gentry</td>\n",
       "      <td>East Jimmychester</td>\n",
       "      <td>Djibouti</td>\n",
       "      <td>5153435776</td>\n",
       "      <td>686-620-1820x944</td>\n",
       "      <td>vmata@colon.com</td>\n",
       "      <td>2021-04-23</td>\n",
       "      <td>http://www.hobbs.com/</td>\n",
       "    </tr>\n",
       "    <tr>\n",
       "      <th>2</th>\n",
       "      <td>3</td>\n",
       "      <td>6F94879bDAfE5a6</td>\n",
       "      <td>Roy</td>\n",
       "      <td>Berry</td>\n",
       "      <td>Murillo-Perry</td>\n",
       "      <td>Isabelborough</td>\n",
       "      <td>Antigua and Barbuda</td>\n",
       "      <td>+1-539-402-0259</td>\n",
       "      <td>(496)978-3969x58947</td>\n",
       "      <td>beckycarr@hogan.com</td>\n",
       "      <td>2020-03-25</td>\n",
       "      <td>http://www.lawrence.com/</td>\n",
       "    </tr>\n",
       "    <tr>\n",
       "      <th>3</th>\n",
       "      <td>4</td>\n",
       "      <td>5Cef8BFA16c5e3c</td>\n",
       "      <td>Linda</td>\n",
       "      <td>Olsen</td>\n",
       "      <td>Dominguez, Mcmillan and Donovan</td>\n",
       "      <td>Bensonview</td>\n",
       "      <td>Dominican Republic</td>\n",
       "      <td>001-808-617-6467x12895</td>\n",
       "      <td>+1-813-324-8756</td>\n",
       "      <td>stanleyblackwell@benson.org</td>\n",
       "      <td>2020-06-02</td>\n",
       "      <td>http://www.good-lyons.com/</td>\n",
       "    </tr>\n",
       "    <tr>\n",
       "      <th>4</th>\n",
       "      <td>5</td>\n",
       "      <td>053d585Ab6b3159</td>\n",
       "      <td>Joanna</td>\n",
       "      <td>Bender</td>\n",
       "      <td>Martin, Lang and Andrade</td>\n",
       "      <td>West Priscilla</td>\n",
       "      <td>Slovakia (Slovak Republic)</td>\n",
       "      <td>001-234-203-0635x76146</td>\n",
       "      <td>001-199-446-3860x3486</td>\n",
       "      <td>colinalvarado@miles.net</td>\n",
       "      <td>2021-04-17</td>\n",
       "      <td>https://goodwin-ingram.com/</td>\n",
       "    </tr>\n",
       "    <tr>\n",
       "      <th>...</th>\n",
       "      <td>...</td>\n",
       "      <td>...</td>\n",
       "      <td>...</td>\n",
       "      <td>...</td>\n",
       "      <td>...</td>\n",
       "      <td>...</td>\n",
       "      <td>...</td>\n",
       "      <td>...</td>\n",
       "      <td>...</td>\n",
       "      <td>...</td>\n",
       "      <td>...</td>\n",
       "      <td>...</td>\n",
       "    </tr>\n",
       "    <tr>\n",
       "      <th>95</th>\n",
       "      <td>96</td>\n",
       "      <td>cb8E23e48d22Eae</td>\n",
       "      <td>Karl</td>\n",
       "      <td>Greer</td>\n",
       "      <td>Carey LLC</td>\n",
       "      <td>East Richard</td>\n",
       "      <td>Guyana</td>\n",
       "      <td>(188)169-1674x58692</td>\n",
       "      <td>001-841-293-3519x614</td>\n",
       "      <td>hhart@jensen.com</td>\n",
       "      <td>2022-01-30</td>\n",
       "      <td>http://hayes-perez.com/</td>\n",
       "    </tr>\n",
       "    <tr>\n",
       "      <th>96</th>\n",
       "      <td>97</td>\n",
       "      <td>CeD220bdAaCfaDf</td>\n",
       "      <td>Lynn</td>\n",
       "      <td>Atkinson</td>\n",
       "      <td>Ware, Burns and Oneal</td>\n",
       "      <td>New Bradview</td>\n",
       "      <td>Sri Lanka</td>\n",
       "      <td>+1-846-706-2218</td>\n",
       "      <td>605.413.3198</td>\n",
       "      <td>vkemp@ferrell.com</td>\n",
       "      <td>2021-07-10</td>\n",
       "      <td>https://novak-allison.com/</td>\n",
       "    </tr>\n",
       "    <tr>\n",
       "      <th>97</th>\n",
       "      <td>98</td>\n",
       "      <td>28CDbC0dFe4b1Db</td>\n",
       "      <td>Fred</td>\n",
       "      <td>Guerra</td>\n",
       "      <td>Schmitt-Jones</td>\n",
       "      <td>Ortegaland</td>\n",
       "      <td>Solomon Islands</td>\n",
       "      <td>+1-753-067-8419x7170</td>\n",
       "      <td>+1-632-666-7507x92121</td>\n",
       "      <td>swagner@kane.org</td>\n",
       "      <td>2021-09-18</td>\n",
       "      <td>https://www.ross.com/</td>\n",
       "    </tr>\n",
       "    <tr>\n",
       "      <th>98</th>\n",
       "      <td>99</td>\n",
       "      <td>c23d1D9EE8DEB0A</td>\n",
       "      <td>Yvonne</td>\n",
       "      <td>Farmer</td>\n",
       "      <td>Fitzgerald-Harrell</td>\n",
       "      <td>Lake Elijahview</td>\n",
       "      <td>Aruba</td>\n",
       "      <td>(530)311-9786</td>\n",
       "      <td>001-869-452-0943x12424</td>\n",
       "      <td>mccarthystephen@horn-green.biz</td>\n",
       "      <td>2021-08-11</td>\n",
       "      <td>http://watkins.info/</td>\n",
       "    </tr>\n",
       "    <tr>\n",
       "      <th>99</th>\n",
       "      <td>100</td>\n",
       "      <td>2354a0E336A91A1</td>\n",
       "      <td>Clarence</td>\n",
       "      <td>Haynes</td>\n",
       "      <td>Le, Nash and Cross</td>\n",
       "      <td>Judymouth</td>\n",
       "      <td>Honduras</td>\n",
       "      <td>(753)813-6941</td>\n",
       "      <td>783.639.1472</td>\n",
       "      <td>colleen91@faulkner.biz</td>\n",
       "      <td>2020-03-11</td>\n",
       "      <td>http://www.hatfield-saunders.net/</td>\n",
       "    </tr>\n",
       "  </tbody>\n",
       "</table>\n",
       "<p>100 rows × 12 columns</p>\n",
       "</div>"
      ],
      "text/plain": [
       "    Index      Customer Id First Name Last Name  \\\n",
       "0       1  DD37Cf93aecA6Dc     Sheryl    Baxter   \n",
       "1       2  1Ef7b82A4CAAD10    Preston    Lozano   \n",
       "2       3  6F94879bDAfE5a6        Roy     Berry   \n",
       "3       4  5Cef8BFA16c5e3c      Linda     Olsen   \n",
       "4       5  053d585Ab6b3159     Joanna    Bender   \n",
       "..    ...              ...        ...       ...   \n",
       "95     96  cb8E23e48d22Eae       Karl     Greer   \n",
       "96     97  CeD220bdAaCfaDf       Lynn  Atkinson   \n",
       "97     98  28CDbC0dFe4b1Db       Fred    Guerra   \n",
       "98     99  c23d1D9EE8DEB0A     Yvonne    Farmer   \n",
       "99    100  2354a0E336A91A1   Clarence    Haynes   \n",
       "\n",
       "                            Company               City  \\\n",
       "0                   Rasmussen Group       East Leonard   \n",
       "1                       Vega-Gentry  East Jimmychester   \n",
       "2                     Murillo-Perry      Isabelborough   \n",
       "3   Dominguez, Mcmillan and Donovan         Bensonview   \n",
       "4          Martin, Lang and Andrade     West Priscilla   \n",
       "..                              ...                ...   \n",
       "95                        Carey LLC       East Richard   \n",
       "96            Ware, Burns and Oneal       New Bradview   \n",
       "97                    Schmitt-Jones         Ortegaland   \n",
       "98               Fitzgerald-Harrell    Lake Elijahview   \n",
       "99               Le, Nash and Cross          Judymouth   \n",
       "\n",
       "                       Country                 Phone 1  \\\n",
       "0                        Chile            229.077.5154   \n",
       "1                     Djibouti              5153435776   \n",
       "2          Antigua and Barbuda         +1-539-402-0259   \n",
       "3           Dominican Republic  001-808-617-6467x12895   \n",
       "4   Slovakia (Slovak Republic)  001-234-203-0635x76146   \n",
       "..                         ...                     ...   \n",
       "95                      Guyana     (188)169-1674x58692   \n",
       "96                   Sri Lanka         +1-846-706-2218   \n",
       "97             Solomon Islands    +1-753-067-8419x7170   \n",
       "98                       Aruba           (530)311-9786   \n",
       "99                    Honduras           (753)813-6941   \n",
       "\n",
       "                   Phone 2                           Email Subscription Date  \\\n",
       "0         397.884.0519x718        zunigavanessa@smith.info        2020-08-24   \n",
       "1         686-620-1820x944                 vmata@colon.com        2021-04-23   \n",
       "2      (496)978-3969x58947             beckycarr@hogan.com        2020-03-25   \n",
       "3          +1-813-324-8756     stanleyblackwell@benson.org        2020-06-02   \n",
       "4    001-199-446-3860x3486         colinalvarado@miles.net        2021-04-17   \n",
       "..                     ...                             ...               ...   \n",
       "95    001-841-293-3519x614                hhart@jensen.com        2022-01-30   \n",
       "96            605.413.3198               vkemp@ferrell.com        2021-07-10   \n",
       "97   +1-632-666-7507x92121                swagner@kane.org        2021-09-18   \n",
       "98  001-869-452-0943x12424  mccarthystephen@horn-green.biz        2021-08-11   \n",
       "99            783.639.1472          colleen91@faulkner.biz        2020-03-11   \n",
       "\n",
       "                              Website  \n",
       "0          http://www.stephenson.com/  \n",
       "1               http://www.hobbs.com/  \n",
       "2            http://www.lawrence.com/  \n",
       "3          http://www.good-lyons.com/  \n",
       "4         https://goodwin-ingram.com/  \n",
       "..                                ...  \n",
       "95            http://hayes-perez.com/  \n",
       "96         https://novak-allison.com/  \n",
       "97              https://www.ross.com/  \n",
       "98               http://watkins.info/  \n",
       "99  http://www.hatfield-saunders.net/  \n",
       "\n",
       "[100 rows x 12 columns]"
      ]
     },
     "execution_count": 48,
     "metadata": {},
     "output_type": "execute_result"
    }
   ],
   "source": [
    "data"
   ]
  },
  {
   "cell_type": "code",
   "execution_count": 65,
   "id": "85930e17-a7ed-4306-9ffe-18cf05e83b51",
   "metadata": {},
   "outputs": [
    {
     "data": {
      "text/html": [
       "<div>\n",
       "<style scoped>\n",
       "    .dataframe tbody tr th:only-of-type {\n",
       "        vertical-align: middle;\n",
       "    }\n",
       "\n",
       "    .dataframe tbody tr th {\n",
       "        vertical-align: top;\n",
       "    }\n",
       "\n",
       "    .dataframe thead th {\n",
       "        text-align: right;\n",
       "    }\n",
       "</style>\n",
       "<table border=\"1\" class=\"dataframe\">\n",
       "  <thead>\n",
       "    <tr style=\"text-align: right;\">\n",
       "      <th></th>\n",
       "      <th>Unnamed: 1</th>\n",
       "      <th>Unnamed: 2</th>\n",
       "      <th>Unnamed: 3</th>\n",
       "      <th>Unnamed: 4</th>\n",
       "    </tr>\n",
       "  </thead>\n",
       "  <tbody>\n",
       "    <tr>\n",
       "      <th>NaN</th>\n",
       "      <td>NaN</td>\n",
       "      <td>NaN</td>\n",
       "      <td>NaN</td>\n",
       "      <td>NaN</td>\n",
       "    </tr>\n",
       "    <tr>\n",
       "      <th>Min of Avg Room Rate</th>\n",
       "      <td>NaN</td>\n",
       "      <td>2</td>\n",
       "      <td>NaN</td>\n",
       "      <td>NaN</td>\n",
       "    </tr>\n",
       "    <tr>\n",
       "      <th>71.1</th>\n",
       "      <td>NaN</td>\n",
       "      <td>NaN</td>\n",
       "      <td>NaN</td>\n",
       "      <td>NaN</td>\n",
       "    </tr>\n",
       "    <tr>\n",
       "      <th>NaN</th>\n",
       "      <td>NaN</td>\n",
       "      <td>NaN</td>\n",
       "      <td>NaN</td>\n",
       "      <td>NaN</td>\n",
       "    </tr>\n",
       "    <tr>\n",
       "      <th>NaN</th>\n",
       "      <td>NaN</td>\n",
       "      <td>NaN</td>\n",
       "      <td>NaN</td>\n",
       "      <td>NaN</td>\n",
       "    </tr>\n",
       "    <tr>\n",
       "      <th>...</th>\n",
       "      <td>...</td>\n",
       "      <td>...</td>\n",
       "      <td>...</td>\n",
       "      <td>...</td>\n",
       "    </tr>\n",
       "    <tr>\n",
       "      <th>NaN</th>\n",
       "      <td>NaN</td>\n",
       "      <td>NaN</td>\n",
       "      <td>NaN</td>\n",
       "      <td>NaN</td>\n",
       "    </tr>\n",
       "    <tr>\n",
       "      <th>9</th>\n",
       "      <td>Row Labels</td>\n",
       "      <td>Sum of Avg Room Rate</td>\n",
       "      <td>NaN</td>\n",
       "      <td>NaN</td>\n",
       "    </tr>\n",
       "    <tr>\n",
       "      <th>NaN</th>\n",
       "      <td>No</td>\n",
       "      <td>3327649.92</td>\n",
       "      <td>NaN</td>\n",
       "      <td>NaN</td>\n",
       "    </tr>\n",
       "    <tr>\n",
       "      <th>NaN</th>\n",
       "      <td>Yes</td>\n",
       "      <td>3299423.4</td>\n",
       "      <td>NaN</td>\n",
       "      <td>NaN</td>\n",
       "    </tr>\n",
       "    <tr>\n",
       "      <th>NaN</th>\n",
       "      <td>Grand Total</td>\n",
       "      <td>6627073.32</td>\n",
       "      <td>NaN</td>\n",
       "      <td>NaN</td>\n",
       "    </tr>\n",
       "  </tbody>\n",
       "</table>\n",
       "<p>145 rows × 4 columns</p>\n",
       "</div>"
      ],
      "text/plain": [
       "                       Unnamed: 1            Unnamed: 2 Unnamed: 3  Unnamed: 4\n",
       "NaN                           NaN                   NaN        NaN         NaN\n",
       "Min of Avg Room Rate          NaN                     2        NaN         NaN\n",
       "71.1                          NaN                   NaN        NaN         NaN\n",
       "NaN                           NaN                   NaN        NaN         NaN\n",
       "NaN                           NaN                   NaN        NaN         NaN\n",
       "...                           ...                   ...        ...         ...\n",
       "NaN                           NaN                   NaN        NaN         NaN\n",
       "9                      Row Labels  Sum of Avg Room Rate        NaN         NaN\n",
       "NaN                            No            3327649.92        NaN         NaN\n",
       "NaN                           Yes             3299423.4        NaN         NaN\n",
       "NaN                   Grand Total            6627073.32        NaN         NaN\n",
       "\n",
       "[145 rows x 4 columns]"
      ]
     },
     "execution_count": 65,
     "metadata": {},
     "output_type": "execute_result"
    }
   ],
   "source": [
    "data2= pd.read_excel(r\"C:\\Users\\rites\\Downloads\\Hospitality.xlsx\",index_col=0)\n",
    "data2"
   ]
  },
  {
   "cell_type": "code",
   "execution_count": 53,
   "id": "50897791-8739-45ba-b7eb-044ec3b19f77",
   "metadata": {},
   "outputs": [],
   "source": [
    "data2= pd.read_excel(r\"C:\\Users\\rites\\Downloads\\Hospitality.xlsx\",sheet_name='Hospitality')"
   ]
  },
  {
   "cell_type": "code",
   "execution_count": 54,
   "id": "b2cc74ec-3c2c-41a3-8104-63ceb83e5bf2",
   "metadata": {},
   "outputs": [
    {
     "data": {
      "text/html": [
       "<div>\n",
       "<style scoped>\n",
       "    .dataframe tbody tr th:only-of-type {\n",
       "        vertical-align: middle;\n",
       "    }\n",
       "\n",
       "    .dataframe tbody tr th {\n",
       "        vertical-align: top;\n",
       "    }\n",
       "\n",
       "    .dataframe thead th {\n",
       "        text-align: right;\n",
       "    }\n",
       "</style>\n",
       "<table border=\"1\" class=\"dataframe\">\n",
       "  <thead>\n",
       "    <tr style=\"text-align: right;\">\n",
       "      <th></th>\n",
       "      <th>Avg Room Rate</th>\n",
       "      <th>reservation_id</th>\n",
       "      <th>check_in_date</th>\n",
       "      <th>stay_duration</th>\n",
       "      <th>adults</th>\n",
       "      <th>children</th>\n",
       "      <th>room_type</th>\n",
       "      <th>special_requests_flag</th>\n",
       "      <th>booking_channel</th>\n",
       "      <th>reservation_status</th>\n",
       "      <th>advanced_booking</th>\n",
       "      <th>Property</th>\n",
       "      <th>Date</th>\n",
       "      <th>Rate Type</th>\n",
       "    </tr>\n",
       "  </thead>\n",
       "  <tbody>\n",
       "    <tr>\n",
       "      <th>0</th>\n",
       "      <td>71.10</td>\n",
       "      <td>779087-Y5-9824-SA</td>\n",
       "      <td>4/15/2020</td>\n",
       "      <td>13</td>\n",
       "      <td>3</td>\n",
       "      <td>4</td>\n",
       "      <td>Single</td>\n",
       "      <td>Yes</td>\n",
       "      <td>Call Center</td>\n",
       "      <td>Completed</td>\n",
       "      <td>Yes</td>\n",
       "      <td>The Chord</td>\n",
       "      <td>4/15/2020</td>\n",
       "      <td>Weekday</td>\n",
       "    </tr>\n",
       "    <tr>\n",
       "      <th>1</th>\n",
       "      <td>71.10</td>\n",
       "      <td>984023-QO-5015-YG</td>\n",
       "      <td>2020-12-06 00:00:00</td>\n",
       "      <td>3</td>\n",
       "      <td>3</td>\n",
       "      <td>3</td>\n",
       "      <td>Single</td>\n",
       "      <td>No</td>\n",
       "      <td>Travel Agent</td>\n",
       "      <td>Completed</td>\n",
       "      <td>Yes</td>\n",
       "      <td>The Chord</td>\n",
       "      <td>2020-12-06 00:00:00</td>\n",
       "      <td>Weekday</td>\n",
       "    </tr>\n",
       "    <tr>\n",
       "      <th>2</th>\n",
       "      <td>172.38</td>\n",
       "      <td>518066-UQ-2315-FK</td>\n",
       "      <td>2/25/2020</td>\n",
       "      <td>11</td>\n",
       "      <td>4</td>\n",
       "      <td>2</td>\n",
       "      <td>Queen</td>\n",
       "      <td>No</td>\n",
       "      <td>Call Center</td>\n",
       "      <td>Completed</td>\n",
       "      <td>Yes</td>\n",
       "      <td>The Sankey</td>\n",
       "      <td>2/25/2020</td>\n",
       "      <td>Weekday</td>\n",
       "    </tr>\n",
       "    <tr>\n",
       "      <th>3</th>\n",
       "      <td>172.38</td>\n",
       "      <td>130339-H9-2116-KE</td>\n",
       "      <td>9/15/2020</td>\n",
       "      <td>11</td>\n",
       "      <td>4</td>\n",
       "      <td>1</td>\n",
       "      <td>Queen</td>\n",
       "      <td>No</td>\n",
       "      <td>Website</td>\n",
       "      <td>No-Show</td>\n",
       "      <td>Yes</td>\n",
       "      <td>The Sankey</td>\n",
       "      <td>9/15/2020</td>\n",
       "      <td>Weekday</td>\n",
       "    </tr>\n",
       "    <tr>\n",
       "      <th>4</th>\n",
       "      <td>199.00</td>\n",
       "      <td>961051-40-0956-EO</td>\n",
       "      <td>2020-05-01 00:00:00</td>\n",
       "      <td>14</td>\n",
       "      <td>2</td>\n",
       "      <td>4</td>\n",
       "      <td>Double</td>\n",
       "      <td>Yes</td>\n",
       "      <td>Walk-in</td>\n",
       "      <td>Completed</td>\n",
       "      <td>No</td>\n",
       "      <td>The Sankey</td>\n",
       "      <td>2020-05-01 00:00:00</td>\n",
       "      <td>Weekend</td>\n",
       "    </tr>\n",
       "    <tr>\n",
       "      <th>...</th>\n",
       "      <td>...</td>\n",
       "      <td>...</td>\n",
       "      <td>...</td>\n",
       "      <td>...</td>\n",
       "      <td>...</td>\n",
       "      <td>...</td>\n",
       "      <td>...</td>\n",
       "      <td>...</td>\n",
       "      <td>...</td>\n",
       "      <td>...</td>\n",
       "      <td>...</td>\n",
       "      <td>...</td>\n",
       "      <td>...</td>\n",
       "      <td>...</td>\n",
       "    </tr>\n",
       "    <tr>\n",
       "      <th>49995</th>\n",
       "      <td>177.45</td>\n",
       "      <td>248063-7J-6726-SQ</td>\n",
       "      <td>2020-06-06 00:00:00</td>\n",
       "      <td>6</td>\n",
       "      <td>1</td>\n",
       "      <td>4</td>\n",
       "      <td>King</td>\n",
       "      <td>Yes</td>\n",
       "      <td>Call Center</td>\n",
       "      <td>Completed</td>\n",
       "      <td>No</td>\n",
       "      <td>The Sankey</td>\n",
       "      <td>2020-06-06 00:00:00</td>\n",
       "      <td>Weekday</td>\n",
       "    </tr>\n",
       "    <tr>\n",
       "      <th>49996</th>\n",
       "      <td>100.98</td>\n",
       "      <td>988239-X6-3251-XO</td>\n",
       "      <td>2020-09-02 00:00:00</td>\n",
       "      <td>12</td>\n",
       "      <td>1</td>\n",
       "      <td>2</td>\n",
       "      <td>Queen</td>\n",
       "      <td>No</td>\n",
       "      <td>Website</td>\n",
       "      <td>Completed</td>\n",
       "      <td>No</td>\n",
       "      <td>The Chord</td>\n",
       "      <td>2020-09-02 00:00:00</td>\n",
       "      <td>Weekend</td>\n",
       "    </tr>\n",
       "    <tr>\n",
       "      <th>49997</th>\n",
       "      <td>208.95</td>\n",
       "      <td>644180-N3-2350-ZJ</td>\n",
       "      <td>2020-08-06 00:00:00</td>\n",
       "      <td>2</td>\n",
       "      <td>3</td>\n",
       "      <td>1</td>\n",
       "      <td>King</td>\n",
       "      <td>No</td>\n",
       "      <td>Phone App</td>\n",
       "      <td>Completed</td>\n",
       "      <td>Yes</td>\n",
       "      <td>The Sankey</td>\n",
       "      <td>2020-08-06 00:00:00</td>\n",
       "      <td>Weekend</td>\n",
       "    </tr>\n",
       "    <tr>\n",
       "      <th>49998</th>\n",
       "      <td>202.98</td>\n",
       "      <td>866690-J9-9283-PA</td>\n",
       "      <td>5/17/2020</td>\n",
       "      <td>3</td>\n",
       "      <td>2</td>\n",
       "      <td>2</td>\n",
       "      <td>Queen</td>\n",
       "      <td>No</td>\n",
       "      <td>Phone App</td>\n",
       "      <td>Completed</td>\n",
       "      <td>Yes</td>\n",
       "      <td>The Sankey</td>\n",
       "      <td>5/17/2020</td>\n",
       "      <td>Weekend</td>\n",
       "    </tr>\n",
       "    <tr>\n",
       "      <th>49999</th>\n",
       "      <td>80.58</td>\n",
       "      <td>074193-UW-0434-ZV</td>\n",
       "      <td>6/19/2020</td>\n",
       "      <td>11</td>\n",
       "      <td>3</td>\n",
       "      <td>1</td>\n",
       "      <td>Queen</td>\n",
       "      <td>No</td>\n",
       "      <td>Call Center</td>\n",
       "      <td>No-Show</td>\n",
       "      <td>Yes</td>\n",
       "      <td>The Chord</td>\n",
       "      <td>6/19/2020</td>\n",
       "      <td>Weekday</td>\n",
       "    </tr>\n",
       "  </tbody>\n",
       "</table>\n",
       "<p>50000 rows × 14 columns</p>\n",
       "</div>"
      ],
      "text/plain": [
       "       Avg Room Rate     reservation_id        check_in_date  stay_duration  \\\n",
       "0              71.10  779087-Y5-9824-SA            4/15/2020             13   \n",
       "1              71.10  984023-QO-5015-YG  2020-12-06 00:00:00              3   \n",
       "2             172.38  518066-UQ-2315-FK            2/25/2020             11   \n",
       "3             172.38  130339-H9-2116-KE            9/15/2020             11   \n",
       "4             199.00  961051-40-0956-EO  2020-05-01 00:00:00             14   \n",
       "...              ...                ...                  ...            ...   \n",
       "49995         177.45  248063-7J-6726-SQ  2020-06-06 00:00:00              6   \n",
       "49996         100.98  988239-X6-3251-XO  2020-09-02 00:00:00             12   \n",
       "49997         208.95  644180-N3-2350-ZJ  2020-08-06 00:00:00              2   \n",
       "49998         202.98  866690-J9-9283-PA            5/17/2020              3   \n",
       "49999          80.58  074193-UW-0434-ZV            6/19/2020             11   \n",
       "\n",
       "       adults  children room_type special_requests_flag booking_channel  \\\n",
       "0           3         4    Single                   Yes     Call Center   \n",
       "1           3         3    Single                    No    Travel Agent   \n",
       "2           4         2     Queen                    No     Call Center   \n",
       "3           4         1     Queen                    No         Website   \n",
       "4           2         4    Double                   Yes         Walk-in   \n",
       "...       ...       ...       ...                   ...             ...   \n",
       "49995       1         4      King                   Yes     Call Center   \n",
       "49996       1         2     Queen                    No         Website   \n",
       "49997       3         1      King                    No       Phone App   \n",
       "49998       2         2     Queen                    No       Phone App   \n",
       "49999       3         1     Queen                    No     Call Center   \n",
       "\n",
       "      reservation_status advanced_booking    Property                 Date  \\\n",
       "0              Completed              Yes   The Chord            4/15/2020   \n",
       "1              Completed              Yes   The Chord  2020-12-06 00:00:00   \n",
       "2              Completed              Yes  The Sankey            2/25/2020   \n",
       "3                No-Show              Yes  The Sankey            9/15/2020   \n",
       "4              Completed               No  The Sankey  2020-05-01 00:00:00   \n",
       "...                  ...              ...         ...                  ...   \n",
       "49995          Completed               No  The Sankey  2020-06-06 00:00:00   \n",
       "49996          Completed               No   The Chord  2020-09-02 00:00:00   \n",
       "49997          Completed              Yes  The Sankey  2020-08-06 00:00:00   \n",
       "49998          Completed              Yes  The Sankey            5/17/2020   \n",
       "49999            No-Show              Yes   The Chord            6/19/2020   \n",
       "\n",
       "      Rate Type  \n",
       "0       Weekday  \n",
       "1       Weekday  \n",
       "2       Weekday  \n",
       "3       Weekday  \n",
       "4       Weekend  \n",
       "...         ...  \n",
       "49995   Weekday  \n",
       "49996   Weekend  \n",
       "49997   Weekend  \n",
       "49998   Weekend  \n",
       "49999   Weekday  \n",
       "\n",
       "[50000 rows x 14 columns]"
      ]
     },
     "execution_count": 54,
     "metadata": {},
     "output_type": "execute_result"
    }
   ],
   "source": [
    "\n",
    "data2"
   ]
  },
  {
   "cell_type": "code",
   "execution_count": 61,
   "id": "7f305b4f-1948-4ee8-b9e8-4c2ef5c000da",
   "metadata": {},
   "outputs": [],
   "source": [
    "data2= pd.read_html('https://www.w3schools.com/html/html_tables.asp')[1]"
   ]
  },
  {
   "cell_type": "code",
   "execution_count": 59,
   "id": "9ce5f41d-efce-48ee-869d-2c01b087c822",
   "metadata": {},
   "outputs": [
    {
     "data": {
      "text/html": [
       "<div>\n",
       "<style scoped>\n",
       "    .dataframe tbody tr th:only-of-type {\n",
       "        vertical-align: middle;\n",
       "    }\n",
       "\n",
       "    .dataframe tbody tr th {\n",
       "        vertical-align: top;\n",
       "    }\n",
       "\n",
       "    .dataframe thead th {\n",
       "        text-align: right;\n",
       "    }\n",
       "</style>\n",
       "<table border=\"1\" class=\"dataframe\">\n",
       "  <thead>\n",
       "    <tr style=\"text-align: right;\">\n",
       "      <th></th>\n",
       "      <th>Tag</th>\n",
       "      <th>Description</th>\n",
       "    </tr>\n",
       "  </thead>\n",
       "  <tbody>\n",
       "    <tr>\n",
       "      <th>0</th>\n",
       "      <td>&lt;table&gt;</td>\n",
       "      <td>Defines a table</td>\n",
       "    </tr>\n",
       "    <tr>\n",
       "      <th>1</th>\n",
       "      <td>&lt;th&gt;</td>\n",
       "      <td>Defines a header cell in a table</td>\n",
       "    </tr>\n",
       "    <tr>\n",
       "      <th>2</th>\n",
       "      <td>&lt;tr&gt;</td>\n",
       "      <td>Defines a row in a table</td>\n",
       "    </tr>\n",
       "    <tr>\n",
       "      <th>3</th>\n",
       "      <td>&lt;td&gt;</td>\n",
       "      <td>Defines a cell in a table</td>\n",
       "    </tr>\n",
       "    <tr>\n",
       "      <th>4</th>\n",
       "      <td>&lt;caption&gt;</td>\n",
       "      <td>Defines a table caption</td>\n",
       "    </tr>\n",
       "    <tr>\n",
       "      <th>5</th>\n",
       "      <td>&lt;colgroup&gt;</td>\n",
       "      <td>Specifies a group of one or more columns in a ...</td>\n",
       "    </tr>\n",
       "    <tr>\n",
       "      <th>6</th>\n",
       "      <td>&lt;col&gt;</td>\n",
       "      <td>Specifies column properties for each column wi...</td>\n",
       "    </tr>\n",
       "    <tr>\n",
       "      <th>7</th>\n",
       "      <td>&lt;thead&gt;</td>\n",
       "      <td>Groups the header content in a table</td>\n",
       "    </tr>\n",
       "    <tr>\n",
       "      <th>8</th>\n",
       "      <td>&lt;tbody&gt;</td>\n",
       "      <td>Groups the body content in a table</td>\n",
       "    </tr>\n",
       "    <tr>\n",
       "      <th>9</th>\n",
       "      <td>&lt;tfoot&gt;</td>\n",
       "      <td>Groups the footer content in a table</td>\n",
       "    </tr>\n",
       "  </tbody>\n",
       "</table>\n",
       "</div>"
      ],
      "text/plain": [
       "          Tag                                        Description\n",
       "0     <table>                                    Defines a table\n",
       "1        <th>                   Defines a header cell in a table\n",
       "2        <tr>                           Defines a row in a table\n",
       "3        <td>                          Defines a cell in a table\n",
       "4   <caption>                            Defines a table caption\n",
       "5  <colgroup>  Specifies a group of one or more columns in a ...\n",
       "6       <col>  Specifies column properties for each column wi...\n",
       "7     <thead>               Groups the header content in a table\n",
       "8     <tbody>                 Groups the body content in a table\n",
       "9     <tfoot>               Groups the footer content in a table"
      ]
     },
     "execution_count": 59,
     "metadata": {},
     "output_type": "execute_result"
    }
   ],
   "source": [
    "data2"
   ]
  },
  {
   "cell_type": "code",
   "execution_count": null,
   "id": "fa22ad2c-adea-43aa-b8a7-318036cdb3db",
   "metadata": {},
   "outputs": [],
   "source": []
  }
 ],
 "metadata": {
  "kernelspec": {
   "display_name": "Python [conda env:base] *",
   "language": "python",
   "name": "conda-base-py"
  },
  "language_info": {
   "codemirror_mode": {
    "name": "ipython",
    "version": 3
   },
   "file_extension": ".py",
   "mimetype": "text/x-python",
   "name": "python",
   "nbconvert_exporter": "python",
   "pygments_lexer": "ipython3",
   "version": "3.13.5"
  }
 },
 "nbformat": 4,
 "nbformat_minor": 5
}
